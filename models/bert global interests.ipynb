{
 "cells": [
  {
   "cell_type": "markdown",
   "id": "61f6142f",
   "metadata": {
    "_cell_guid": "b1076dfc-b9ad-4769-8c92-a6c4dae69d19",
    "_uuid": "8f2839f25d086af736a60e9eeb907d3b93b6e0e5",
    "papermill": {
     "duration": 0.015374,
     "end_time": "2024-06-01T14:01:24.120052",
     "exception": false,
     "start_time": "2024-06-01T14:01:24.104678",
     "status": "completed"
    },
    "tags": []
   },
   "source": []
  },
  {
   "cell_type": "code",
   "execution_count": 1,
   "id": "cc371bda",
   "metadata": {
    "execution": {
     "iopub.execute_input": "2024-06-01T14:01:24.151325Z",
     "iopub.status.busy": "2024-06-01T14:01:24.150814Z",
     "iopub.status.idle": "2024-06-01T14:01:24.892688Z",
     "shell.execute_reply": "2024-06-01T14:01:24.891426Z"
    },
    "papermill": {
     "duration": 0.759789,
     "end_time": "2024-06-01T14:01:24.894814",
     "exception": false,
     "start_time": "2024-06-01T14:01:24.135025",
     "status": "completed"
    },
    "tags": []
   },
   "outputs": [
    {
     "name": "stdout",
     "output_type": "stream",
     "text": [
      "/kaggle/input/abreviations/abbreviations.json\n",
      "/kaggle/input/embeddings/user_mean_embeddings (1).json\n",
      "/kaggle/input/dataset-users/users (2).json\n"
     ]
    }
   ],
   "source": [
    "# This Python 3 environment comes with many helpful analytics libraries installed\n",
    "# It is defined by the kaggle/python Docker image: https://github.com/kaggle/docker-python\n",
    "# For example, here's several helpful packages to load\n",
    "\n",
    "import numpy as np # linear algebra\n",
    "import pandas as pd # data processing, CSV file I/O (e.g. pd.read_csv)\n",
    "\n",
    "# Input data files are available in the read-only \"../input/\" directory\n",
    "# For example, running this (by clicking run or pressing Shift+Enter) will list all files under the input directory\n",
    "\n",
    "import os\n",
    "for dirname, _, filenames in os.walk('/kaggle/input'):\n",
    "    for filename in filenames:\n",
    "        print(os.path.join(dirname, filename))\n",
    "\n",
    "# You can write up to 20GB to the current directory (/kaggle/working/) that gets preserved as output when you create a version using \"Save & Run All\" \n",
    "# You can also write temporary files to /kaggle/temp/, but they won't be saved outside of the current session"
   ]
  },
  {
   "cell_type": "code",
   "execution_count": 2,
   "id": "5c4d45cc",
   "metadata": {
    "execution": {
     "iopub.execute_input": "2024-06-01T14:01:24.927461Z",
     "iopub.status.busy": "2024-06-01T14:01:24.927098Z",
     "iopub.status.idle": "2024-06-01T14:01:24.931003Z",
     "shell.execute_reply": "2024-06-01T14:01:24.930182Z"
    },
    "papermill": {
     "duration": 0.022679,
     "end_time": "2024-06-01T14:01:24.932887",
     "exception": false,
     "start_time": "2024-06-01T14:01:24.910208",
     "status": "completed"
    },
    "tags": []
   },
   "outputs": [],
   "source": [
    "import os\n",
    "import pandas as pd\n",
    "import numpy as np\n",
    "import json"
   ]
  },
  {
   "cell_type": "code",
   "execution_count": 3,
   "id": "682e1ff3",
   "metadata": {
    "execution": {
     "iopub.execute_input": "2024-06-01T14:01:24.964397Z",
     "iopub.status.busy": "2024-06-01T14:01:24.964153Z",
     "iopub.status.idle": "2024-06-01T14:01:26.629775Z",
     "shell.execute_reply": "2024-06-01T14:01:26.629013Z"
    },
    "papermill": {
     "duration": 1.683804,
     "end_time": "2024-06-01T14:01:26.632102",
     "exception": false,
     "start_time": "2024-06-01T14:01:24.948298",
     "status": "completed"
    },
    "tags": []
   },
   "outputs": [],
   "source": [
    "data = pd.read_json(\"/kaggle/input/dataset-users/users (2).json\")"
   ]
  },
  {
   "cell_type": "code",
   "execution_count": 4,
   "id": "a2423b92",
   "metadata": {
    "execution": {
     "iopub.execute_input": "2024-06-01T14:01:26.664350Z",
     "iopub.status.busy": "2024-06-01T14:01:26.664044Z",
     "iopub.status.idle": "2024-06-01T14:01:26.687646Z",
     "shell.execute_reply": "2024-06-01T14:01:26.686772Z"
    },
    "papermill": {
     "duration": 0.041817,
     "end_time": "2024-06-01T14:01:26.689488",
     "exception": false,
     "start_time": "2024-06-01T14:01:26.647671",
     "status": "completed"
    },
    "tags": []
   },
   "outputs": [],
   "source": [
    "contraction_mapping = {\"ain't\": \"is not\", \"aren't\": \"are not\",\"can't\": \"cannot\", \"'cause\": \"because\", \"could've\": \"could have\", \"couldn't\": \"could not\", \n",
    "                       \"didn't\": \"did not\",  \"doesn't\": \"does not\", \"don't\": \"do not\", \"hadn't\": \"had not\", \"hasn't\": \"has not\", \"haven't\": \"have not\", \n",
    "                       \"he'd\": \"he would\",\"he'll\": \"he will\", \"he's\": \"he is\", \"how'd\": \"how did\", \"how'd'y\": \"how do you\", \"how'll\": \"how will\", \n",
    "                       \"how's\": \"how is\",  \"I'd\": \"I would\", \"I'd've\": \"I would have\", \"I'll\": \"I will\", \"I'll've\": \"I will have\",\"I'm\": \"I am\",\n",
    "                       \"I've\": \"I have\", \"i'd\": \"i would\", \"i'd've\": \"i would have\", \"i'll\": \"i will\",  \"i'll've\": \"i will have\",\"i'm\": \"i am\", \n",
    "                       \"i've\": \"i have\", \"isn't\": \"is not\", \"it'd\": \"it would\", \"it'd've\": \"it would have\", \"it'll\": \"it will\", \"it'll've\": \"it will have\",\n",
    "                       \"it's\": \"it is\", \"let's\": \"let us\", \"ma'am\": \"madam\", \"mayn't\": \"may not\", \"might've\": \"might have\",\"mightn't\": \"might not\",\n",
    "                       \"mightn't've\": \"might not have\", \"must've\": \"must have\", \"mustn't\": \"must not\", \"mustn't've\": \"must not have\", \"needn't\": \"need not\", \n",
    "                       \"needn't've\": \"need not have\",\"o'clock\": \"of the clock\", \"oughtn't\": \"ought not\", \"oughtn't've\": \"ought not have\", \"shan't\": \"shall not\",\n",
    "                       \"sha'n't\": \"shall not\", \"shan't've\": \"shall not have\", \"she'd\": \"she would\", \"she'd've\": \"she would have\", \"she'll\": \"she will\", \n",
    "                       \"she'll've\": \"she will have\", \"she's\": \"she is\", \"should've\": \"should have\", \"shouldn't\": \"should not\", \"shouldn't've\": \"should not have\",\n",
    "                       \"so've\": \"so have\",\"so's\": \"so as\", \"this's\": \"this is\",\"that'd\": \"that would\", \"that'd've\": \"that would have\", \"that's\": \"that is\",\n",
    "                       \"there'd\": \"there would\", \"there'd've\": \"there would have\", \"there's\": \"there is\", \"here's\": \"here is\",\"they'd\": \"they would\",\n",
    "                       \"they'd've\": \"they would have\", \"they'll\": \"they will\", \"they'll've\": \"they will have\", \"they're\": \"they are\", \"they've\": \"they have\",\n",
    "                       \"to've\": \"to have\", \"wasn't\": \"was not\", \"we'd\": \"we would\", \"we'd've\": \"we would have\", \"we'll\": \"we will\", \"we'll've\": \"we will have\",\n",
    "                       \"we're\": \"we are\", \"we've\": \"we have\", \"weren't\": \"were not\", \"what'll\": \"what will\", \"what'll've\": \"what will have\", \n",
    "                       \"what're\": \"what are\",  \"what's\": \"what is\", \"what've\": \"what have\", \"when's\": \"when is\", \"when've\": \"when have\", \"where'd\": \"where did\",\n",
    "                       \"where's\": \"where is\", \"where've\": \"where have\", \"who'll\": \"who will\", \"who'll've\": \"who will have\", \"who's\": \"who is\", \n",
    "                       \"who've\": \"who have\", \"why's\": \"why is\", \"why've\": \"why have\", \"will've\": \"will have\", \"won't\": \"will not\", \"won't've\": \"will not have\", \n",
    "                       \"would've\": \"would have\", \"wouldn't\": \"would not\", \"wouldn't've\": \"would not have\", \"y'all\": \"you all\", \"y'all'd\": \"you all would\",\n",
    "                       \"y'all'd've\": \"you all would have\",\"y'all're\": \"you all are\",\"y'all've\": \"you all have\",\"you'd\": \"you would\", \"you'd've\": \"you would have\",\n",
    "                       \"you'll\": \"you will\", \"you'll've\": \"you will have\", \"you're\": \"you are\", \"you've\": \"you have\", 'u.s':'america', 'e.g':'for example'}\n",
    "\n",
    "punct = [',', '.', '\"', ':', ')', '(', '-', '!', '?', '|', ';', \"'\", '$', '&', '/', '[', ']', '>', '%', '=', '#', '*', '+', '\\\\', '•',  '~', '@', '£', \n",
    " '·', '_', '{', '}', '©', '^', '®', '`',  '<', '→', '°', '€', '™', '›',  '♥', '←', '×', '§', '″', '′', 'Â', '█', '½', 'à', '…', \n",
    " '“', '★', '”', '–', '●', 'â', '►', '−', '¢', '²', '¬', '░', '¶', '↑', '±', '¿', '▾', '═', '¦', '║', '―', '¥', '▓', '—', '‹', '─', \n",
    " '▒', '：', '¼', '⊕', '▼', '▪', '†', '■', '’', '▀', '¨', '▄', '♫', '☆', 'é', '¯', '♦', '¤', '▲', 'è', '¸', '¾', 'Ã', '⋅', '‘', '∞', \n",
    " '∙', '）', '↓', '、', '│', '（', '»', '，', '♪', '╩', '╚', '³', '・', '╦', '╣', '╔', '╗', '▬', '❤', 'ï', 'Ø', '¹', '≤', '‡', '√', ]\n",
    "\n",
    "punct_mapping = {\"‘\": \"'\", \"₹\": \"e\", \"´\": \"'\", \"°\": \"\", \"€\": \"e\", \"™\": \"tm\", \"√\": \" sqrt \", \"×\": \"x\", \"²\": \"2\", \"—\": \"-\", \"–\": \"-\", \"’\": \"'\", \"_\": \"-\",\n",
    "                 \"`\": \"'\", '“': '\"', '”': '\"', '“': '\"', \"£\": \"e\", '∞': 'infinity', 'θ': 'theta', '÷': '/', 'α': 'alpha', '•': '.', 'à': 'a', '−': '-', \n",
    "                 'β': 'beta', '∅': '', '³': '3', 'π': 'pi', '!':' '}\n",
    "\n",
    "mispell_dict = {'colour': 'color', 'centre': 'center', 'favourite': 'favorite', 'travelling': 'traveling', 'counselling': 'counseling', 'theatre': 'theater',\n",
    "                'cancelled': 'canceled', 'labour': 'labor', 'organisation': 'organization', 'wwii': 'world war 2', 'citicise': 'criticize', 'youtu ': 'youtube ',\n",
    "                'Qoura': 'Quora', 'sallary': 'salary', 'Whta': 'What', 'narcisist': 'narcissist', 'howdo': 'how do', 'whatare': 'what are', 'howcan': 'how can',\n",
    "                'howmuch': 'how much', 'howmany': 'how many', 'whydo': 'why do', 'doI': 'do I', 'theBest': 'the best', 'howdoes': 'how does', \n",
    "                'mastrubation': 'masturbation', 'mastrubate': 'masturbate', \"mastrubating\": 'masturbating', 'pennis': 'penis', 'Etherium': 'Ethereum', \n",
    "                'narcissit': 'narcissist', 'bigdata': 'big data', '2k17': '2017', '2k18': '2018', 'qouta': 'quota', 'exboyfriend': 'ex boyfriend', \n",
    "                'airhostess': 'air hostess', \"whst\": 'what', 'watsapp': 'whatsapp', 'demonitisation': 'demonetization', 'demonitization': 'demonetization',\n",
    "                'demonetisation': 'demonetization'}"
   ]
  },
  {
   "cell_type": "code",
   "execution_count": 5,
   "id": "bbae08f3",
   "metadata": {
    "execution": {
     "iopub.execute_input": "2024-06-01T14:01:26.720625Z",
     "iopub.status.busy": "2024-06-01T14:01:26.720325Z",
     "iopub.status.idle": "2024-06-01T14:01:26.734149Z",
     "shell.execute_reply": "2024-06-01T14:01:26.733364Z"
    },
    "papermill": {
     "duration": 0.031625,
     "end_time": "2024-06-01T14:01:26.736019",
     "exception": false,
     "start_time": "2024-06-01T14:01:26.704394",
     "status": "completed"
    },
    "tags": []
   },
   "outputs": [],
   "source": [
    "def clean_text(text):\n",
    "    '''Clean emoji, Make text lowercase, remove text in square brackets,remove links,remove punctuation\n",
    "    and remove words containing numbers.'''\n",
    "    text = emoji.demojize(text)\n",
    "    text = re.sub(r'\\:(.*?)\\:','',text)\n",
    "    text = str(text).lower()    #Making Text Lowercase\n",
    "    text = re.sub('\\[.*?\\]', '', text)\n",
    "    #The next 2 lines remove html text\n",
    "    text = BeautifulSoup(text, 'lxml').get_text()\n",
    "    text = re.sub('https?://\\S+|www\\.\\S+', '', text)\n",
    "    text = re.sub('<.*?>+', '', text)\n",
    "    text = re.sub('\\n', '', text)\n",
    "    text = re.sub('\\w*\\d\\w*', '', text)\n",
    "    # replacing everything with space except (a-z, A-Z, \".\", \"?\", \"!\", \",\", \"'\")\n",
    "    text = re.sub(r\"[^a-zA-Z?.!,¿']+\", \" \", text)\n",
    "    return text\n",
    "\n",
    "def clean_contractions(text, mapping):\n",
    "    '''Clean contraction using contraction mapping'''    \n",
    "    specials = [\"’\", \"‘\", \"´\", \"`\"]\n",
    "    for s in specials:\n",
    "        text = text.replace(s, \"'\")\n",
    "    for word in mapping.keys():\n",
    "        if \"\"+word+\"\" in text:\n",
    "            text = text.replace(\"\"+word+\"\", \"\"+mapping[word]+\"\")\n",
    "    #Remove Punctuations\n",
    "    text = re.sub('[%s]' % re.escape(string.punctuation), '', text)\n",
    "    # creating a space between a word and the punctuation following it\n",
    "    # eg: \"he is a boy.\" => \"he is a boy .\"\n",
    "    text = re.sub(r\"([?.!,¿])\", r\" \\1 \", text)\n",
    "    text = re.sub(r'[\" \"]+', \" \", text)\n",
    "    return text\n",
    "\n",
    "def clean_special_chars(text, punct, mapping):\n",
    "    '''Cleans special characters present(if any)'''   \n",
    "    for p in mapping:\n",
    "        text = text.replace(p, mapping[p])\n",
    "    \n",
    "    for p in punct:\n",
    "        text = text.replace(p, f' {p} ')\n",
    "    \n",
    "    specials = {'\\u200b': ' ', '…': ' ... ', '\\ufeff': '', 'करना': '', 'है': ''}  \n",
    "    for s in specials:\n",
    "        text = text.replace(s, specials[s])\n",
    "    \n",
    "    return text\n",
    "\n",
    "def correct_spelling(x, dic):\n",
    "    '''Corrects common spelling errors'''   \n",
    "    for word in dic.keys():\n",
    "        x = x.replace(word, dic[word])\n",
    "    return x\n",
    "\n",
    "def remove_space(text):\n",
    "    '''Removes awkward spaces'''   \n",
    "    #Removes awkward spaces \n",
    "    text = text.strip()\n",
    "    text = text.split()\n",
    "    return \" \".join(text)\n",
    "\n",
    "def text_preprocessing_pipeline(text):\n",
    "    '''Cleaning and parsing the text.'''\n",
    "    text = clean_text(text)\n",
    "    text = clean_contractions(text, contraction_mapping)\n",
    "    text = clean_special_chars(text, punct, punct_mapping)\n",
    "    text = correct_spelling(text, mispell_dict)\n",
    "    text = remove_space(text)\n",
    "    return text"
   ]
  },
  {
   "cell_type": "code",
   "execution_count": 6,
   "id": "64b09bc4",
   "metadata": {
    "execution": {
     "iopub.execute_input": "2024-06-01T14:01:26.767604Z",
     "iopub.status.busy": "2024-06-01T14:01:26.767286Z",
     "iopub.status.idle": "2024-06-01T14:01:26.777646Z",
     "shell.execute_reply": "2024-06-01T14:01:26.776781Z"
    },
    "papermill": {
     "duration": 0.028127,
     "end_time": "2024-06-01T14:01:26.779399",
     "exception": false,
     "start_time": "2024-06-01T14:01:26.751272",
     "status": "completed"
    },
    "tags": []
   },
   "outputs": [],
   "source": [
    "users = data[['user_id','username','posts','interests']]"
   ]
  },
  {
   "cell_type": "code",
   "execution_count": 7,
   "id": "c93cc038",
   "metadata": {
    "execution": {
     "iopub.execute_input": "2024-06-01T14:01:26.810503Z",
     "iopub.status.busy": "2024-06-01T14:01:26.810229Z",
     "iopub.status.idle": "2024-06-01T14:01:26.951287Z",
     "shell.execute_reply": "2024-06-01T14:01:26.950455Z"
    },
    "papermill": {
     "duration": 0.158783,
     "end_time": "2024-06-01T14:01:26.953303",
     "exception": false,
     "start_time": "2024-06-01T14:01:26.794520",
     "status": "completed"
    },
    "tags": []
   },
   "outputs": [
    {
     "data": {
      "text/html": [
       "<div>\n",
       "<style scoped>\n",
       "    .dataframe tbody tr th:only-of-type {\n",
       "        vertical-align: middle;\n",
       "    }\n",
       "\n",
       "    .dataframe tbody tr th {\n",
       "        vertical-align: top;\n",
       "    }\n",
       "\n",
       "    .dataframe thead th {\n",
       "        text-align: right;\n",
       "    }\n",
       "</style>\n",
       "<table border=\"1\" class=\"dataframe\">\n",
       "  <thead>\n",
       "    <tr style=\"text-align: right;\">\n",
       "      <th></th>\n",
       "      <th>user_id</th>\n",
       "      <th>username</th>\n",
       "      <th>posts</th>\n",
       "      <th>interests</th>\n",
       "    </tr>\n",
       "  </thead>\n",
       "  <tbody>\n",
       "    <tr>\n",
       "      <th>0</th>\n",
       "      <td>17841401692602711</td>\n",
       "      <td>Cristiano Ronaldo</td>\n",
       "      <td>[{'media_type': 'CAROUSEL_ALBUM', 'media_url':...</td>\n",
       "      <td>{'Business and Industry': ['social media', 'Bu...</td>\n",
       "    </tr>\n",
       "    <tr>\n",
       "      <th>1</th>\n",
       "      <td>17841401819740287</td>\n",
       "      <td>Kim Kardashian</td>\n",
       "      <td>[{'media_type': 'IMAGE', 'media_url': 'https:/...</td>\n",
       "      <td>{'Business and Industry': ['social media', 'Bu...</td>\n",
       "    </tr>\n",
       "    <tr>\n",
       "      <th>2</th>\n",
       "      <td>17841400513960353</td>\n",
       "      <td>𝐃𝐫. 𝐌𝐢𝐤𝐞 𝐕𝐚𝐫𝐬𝐡𝐚𝐯𝐬𝐤𝐢</td>\n",
       "      <td>[{'media_type': 'VIDEO', 'thumbnail_url': 'htt...</td>\n",
       "      <td>{'Business and Industry': ['social media', 'He...</td>\n",
       "    </tr>\n",
       "  </tbody>\n",
       "</table>\n",
       "</div>"
      ],
      "text/plain": [
       "             user_id             username  \\\n",
       "0  17841401692602711    Cristiano Ronaldo   \n",
       "1  17841401819740287       Kim Kardashian   \n",
       "2  17841400513960353  𝐃𝐫. 𝐌𝐢𝐤𝐞 𝐕𝐚𝐫𝐬𝐡𝐚𝐯𝐬𝐤𝐢   \n",
       "\n",
       "                                               posts  \\\n",
       "0  [{'media_type': 'CAROUSEL_ALBUM', 'media_url':...   \n",
       "1  [{'media_type': 'IMAGE', 'media_url': 'https:/...   \n",
       "2  [{'media_type': 'VIDEO', 'thumbnail_url': 'htt...   \n",
       "\n",
       "                                           interests  \n",
       "0  {'Business and Industry': ['social media', 'Bu...  \n",
       "1  {'Business and Industry': ['social media', 'Bu...  \n",
       "2  {'Business and Industry': ['social media', 'He...  "
      ]
     },
     "execution_count": 7,
     "metadata": {},
     "output_type": "execute_result"
    }
   ],
   "source": [
    "users.head(3)"
   ]
  },
  {
   "cell_type": "code",
   "execution_count": 8,
   "id": "0cc98acd",
   "metadata": {
    "execution": {
     "iopub.execute_input": "2024-06-01T14:01:26.984894Z",
     "iopub.status.busy": "2024-06-01T14:01:26.984627Z",
     "iopub.status.idle": "2024-06-01T14:01:26.991839Z",
     "shell.execute_reply": "2024-06-01T14:01:26.991029Z"
    },
    "papermill": {
     "duration": 0.025276,
     "end_time": "2024-06-01T14:01:26.993865",
     "exception": false,
     "start_time": "2024-06-01T14:01:26.968589",
     "status": "completed"
    },
    "tags": []
   },
   "outputs": [
    {
     "name": "stderr",
     "output_type": "stream",
     "text": [
      "/tmp/ipykernel_24/1653614489.py:5: SettingWithCopyWarning: \n",
      "A value is trying to be set on a copy of a slice from a DataFrame.\n",
      "Try using .loc[row_indexer,col_indexer] = value instead\n",
      "\n",
      "See the caveats in the documentation: https://pandas.pydata.org/pandas-docs/stable/user_guide/indexing.html#returning-a-view-versus-a-copy\n",
      "  users.loc[:, 'sub_interests'] = users['interests'].apply(extract_sub_interests)\n"
     ]
    }
   ],
   "source": [
    "def extract_sub_interests(interests):\n",
    "    return [interest  for interest in interests]\n",
    "\n",
    "# Apply the function to the 'interests' column and create a new 'sub_interests' column\n",
    "users.loc[:, 'sub_interests'] = users['interests'].apply(extract_sub_interests)"
   ]
  },
  {
   "cell_type": "code",
   "execution_count": 9,
   "id": "d1d7193e",
   "metadata": {
    "execution": {
     "iopub.execute_input": "2024-06-01T14:01:27.025513Z",
     "iopub.status.busy": "2024-06-01T14:01:27.025057Z",
     "iopub.status.idle": "2024-06-01T14:01:27.162698Z",
     "shell.execute_reply": "2024-06-01T14:01:27.161831Z"
    },
    "papermill": {
     "duration": 0.155688,
     "end_time": "2024-06-01T14:01:27.164767",
     "exception": false,
     "start_time": "2024-06-01T14:01:27.009079",
     "status": "completed"
    },
    "tags": []
   },
   "outputs": [
    {
     "data": {
      "text/html": [
       "<div>\n",
       "<style scoped>\n",
       "    .dataframe tbody tr th:only-of-type {\n",
       "        vertical-align: middle;\n",
       "    }\n",
       "\n",
       "    .dataframe tbody tr th {\n",
       "        vertical-align: top;\n",
       "    }\n",
       "\n",
       "    .dataframe thead th {\n",
       "        text-align: right;\n",
       "    }\n",
       "</style>\n",
       "<table border=\"1\" class=\"dataframe\">\n",
       "  <thead>\n",
       "    <tr style=\"text-align: right;\">\n",
       "      <th></th>\n",
       "      <th>user_id</th>\n",
       "      <th>username</th>\n",
       "      <th>posts</th>\n",
       "      <th>interests</th>\n",
       "      <th>sub_interests</th>\n",
       "    </tr>\n",
       "  </thead>\n",
       "  <tbody>\n",
       "    <tr>\n",
       "      <th>0</th>\n",
       "      <td>17841401692602711</td>\n",
       "      <td>Cristiano Ronaldo</td>\n",
       "      <td>[{'media_type': 'CAROUSEL_ALBUM', 'media_url':...</td>\n",
       "      <td>{'Business and Industry': ['social media', 'Bu...</td>\n",
       "      <td>[Business and Industry, family and relationshi...</td>\n",
       "    </tr>\n",
       "    <tr>\n",
       "      <th>1</th>\n",
       "      <td>17841401819740287</td>\n",
       "      <td>Kim Kardashian</td>\n",
       "      <td>[{'media_type': 'IMAGE', 'media_url': 'https:/...</td>\n",
       "      <td>{'Business and Industry': ['social media', 'Bu...</td>\n",
       "      <td>[Business and Industry, shopping and fashion]</td>\n",
       "    </tr>\n",
       "    <tr>\n",
       "      <th>2</th>\n",
       "      <td>17841400513960353</td>\n",
       "      <td>𝐃𝐫. 𝐌𝐢𝐤𝐞 𝐕𝐚𝐫𝐬𝐡𝐚𝐯𝐬𝐤𝐢</td>\n",
       "      <td>[{'media_type': 'VIDEO', 'thumbnail_url': 'htt...</td>\n",
       "      <td>{'Business and Industry': ['social media', 'He...</td>\n",
       "      <td>[Business and Industry]</td>\n",
       "    </tr>\n",
       "  </tbody>\n",
       "</table>\n",
       "</div>"
      ],
      "text/plain": [
       "             user_id             username  \\\n",
       "0  17841401692602711    Cristiano Ronaldo   \n",
       "1  17841401819740287       Kim Kardashian   \n",
       "2  17841400513960353  𝐃𝐫. 𝐌𝐢𝐤𝐞 𝐕𝐚𝐫𝐬𝐡𝐚𝐯𝐬𝐤𝐢   \n",
       "\n",
       "                                               posts  \\\n",
       "0  [{'media_type': 'CAROUSEL_ALBUM', 'media_url':...   \n",
       "1  [{'media_type': 'IMAGE', 'media_url': 'https:/...   \n",
       "2  [{'media_type': 'VIDEO', 'thumbnail_url': 'htt...   \n",
       "\n",
       "                                           interests  \\\n",
       "0  {'Business and Industry': ['social media', 'Bu...   \n",
       "1  {'Business and Industry': ['social media', 'Bu...   \n",
       "2  {'Business and Industry': ['social media', 'He...   \n",
       "\n",
       "                                       sub_interests  \n",
       "0  [Business and Industry, family and relationshi...  \n",
       "1      [Business and Industry, shopping and fashion]  \n",
       "2                            [Business and Industry]  "
      ]
     },
     "execution_count": 9,
     "metadata": {},
     "output_type": "execute_result"
    }
   ],
   "source": [
    "users.head(3)"
   ]
  },
  {
   "cell_type": "code",
   "execution_count": 10,
   "id": "a7e5f219",
   "metadata": {
    "execution": {
     "iopub.execute_input": "2024-06-01T14:01:27.198844Z",
     "iopub.status.busy": "2024-06-01T14:01:27.198330Z",
     "iopub.status.idle": "2024-06-01T14:01:28.130289Z",
     "shell.execute_reply": "2024-06-01T14:01:28.129382Z"
    },
    "papermill": {
     "duration": 0.950507,
     "end_time": "2024-06-01T14:01:28.132359",
     "exception": false,
     "start_time": "2024-06-01T14:01:27.181852",
     "status": "completed"
    },
    "tags": []
   },
   "outputs": [
    {
     "data": {
      "text/plain": [
       "array([[1, 0, 0, ..., 0, 1, 1],\n",
       "       [1, 0, 0, ..., 0, 1, 0],\n",
       "       [1, 0, 0, ..., 0, 0, 0],\n",
       "       ...,\n",
       "       [0, 0, 0, ..., 0, 0, 0],\n",
       "       [0, 0, 0, ..., 0, 0, 0],\n",
       "       [0, 0, 0, ..., 0, 0, 0]])"
      ]
     },
     "execution_count": 10,
     "metadata": {},
     "output_type": "execute_result"
    }
   ],
   "source": [
    "from sklearn.preprocessing import MultiLabelBinarizer\n",
    "mlb = MultiLabelBinarizer()\n",
    "labels = mlb.fit_transform(users.sub_interests)\n",
    "labels"
   ]
  },
  {
   "cell_type": "code",
   "execution_count": 11,
   "id": "91d32de6",
   "metadata": {
    "execution": {
     "iopub.execute_input": "2024-06-01T14:01:28.165615Z",
     "iopub.status.busy": "2024-06-01T14:01:28.164924Z",
     "iopub.status.idle": "2024-06-01T14:01:28.170316Z",
     "shell.execute_reply": "2024-06-01T14:01:28.169512Z"
    },
    "papermill": {
     "duration": 0.023826,
     "end_time": "2024-06-01T14:01:28.172162",
     "exception": false,
     "start_time": "2024-06-01T14:01:28.148336",
     "status": "completed"
    },
    "tags": []
   },
   "outputs": [
    {
     "data": {
      "text/plain": [
       "['Business and Industry',\n",
       " 'Entertainment',\n",
       " 'Outdoors',\n",
       " 'Technology',\n",
       " 'family and relationships',\n",
       " 'fitness and wellness',\n",
       " 'food and drink',\n",
       " 'hobbies and activities',\n",
       " 'shopping and fashion',\n",
       " 'sports']"
      ]
     },
     "execution_count": 11,
     "metadata": {},
     "output_type": "execute_result"
    }
   ],
   "source": [
    "list(mlb.classes_)"
   ]
  },
  {
   "cell_type": "code",
   "execution_count": 12,
   "id": "2ec9695d",
   "metadata": {
    "execution": {
     "iopub.execute_input": "2024-06-01T14:01:28.204620Z",
     "iopub.status.busy": "2024-06-01T14:01:28.204336Z",
     "iopub.status.idle": "2024-06-01T14:01:28.416252Z",
     "shell.execute_reply": "2024-06-01T14:01:28.415474Z"
    },
    "papermill": {
     "duration": 0.230294,
     "end_time": "2024-06-01T14:01:28.418189",
     "exception": false,
     "start_time": "2024-06-01T14:01:28.187895",
     "status": "completed"
    },
    "tags": []
   },
   "outputs": [
    {
     "data": {
      "text/html": [
       "<div>\n",
       "<style scoped>\n",
       "    .dataframe tbody tr th:only-of-type {\n",
       "        vertical-align: middle;\n",
       "    }\n",
       "\n",
       "    .dataframe tbody tr th {\n",
       "        vertical-align: top;\n",
       "    }\n",
       "\n",
       "    .dataframe thead th {\n",
       "        text-align: right;\n",
       "    }\n",
       "</style>\n",
       "<table border=\"1\" class=\"dataframe\">\n",
       "  <thead>\n",
       "    <tr style=\"text-align: right;\">\n",
       "      <th></th>\n",
       "      <th>user_id</th>\n",
       "      <th>username</th>\n",
       "      <th>posts</th>\n",
       "      <th>Business and Industry</th>\n",
       "      <th>Entertainment</th>\n",
       "      <th>Outdoors</th>\n",
       "      <th>Technology</th>\n",
       "      <th>family and relationships</th>\n",
       "      <th>fitness and wellness</th>\n",
       "      <th>food and drink</th>\n",
       "      <th>hobbies and activities</th>\n",
       "      <th>shopping and fashion</th>\n",
       "      <th>sports</th>\n",
       "    </tr>\n",
       "  </thead>\n",
       "  <tbody>\n",
       "    <tr>\n",
       "      <th>0</th>\n",
       "      <td>17841401692602711</td>\n",
       "      <td>Cristiano Ronaldo</td>\n",
       "      <td>[{'media_type': 'CAROUSEL_ALBUM', 'media_url':...</td>\n",
       "      <td>1</td>\n",
       "      <td>0</td>\n",
       "      <td>0</td>\n",
       "      <td>0</td>\n",
       "      <td>1</td>\n",
       "      <td>1</td>\n",
       "      <td>0</td>\n",
       "      <td>0</td>\n",
       "      <td>1</td>\n",
       "      <td>1</td>\n",
       "    </tr>\n",
       "    <tr>\n",
       "      <th>1</th>\n",
       "      <td>17841401819740287</td>\n",
       "      <td>Kim Kardashian</td>\n",
       "      <td>[{'media_type': 'IMAGE', 'media_url': 'https:/...</td>\n",
       "      <td>1</td>\n",
       "      <td>0</td>\n",
       "      <td>0</td>\n",
       "      <td>0</td>\n",
       "      <td>0</td>\n",
       "      <td>0</td>\n",
       "      <td>0</td>\n",
       "      <td>0</td>\n",
       "      <td>1</td>\n",
       "      <td>0</td>\n",
       "    </tr>\n",
       "    <tr>\n",
       "      <th>2</th>\n",
       "      <td>17841400513960353</td>\n",
       "      <td>𝐃𝐫. 𝐌𝐢𝐤𝐞 𝐕𝐚𝐫𝐬𝐡𝐚𝐯𝐬𝐤𝐢</td>\n",
       "      <td>[{'media_type': 'VIDEO', 'thumbnail_url': 'htt...</td>\n",
       "      <td>1</td>\n",
       "      <td>0</td>\n",
       "      <td>0</td>\n",
       "      <td>0</td>\n",
       "      <td>0</td>\n",
       "      <td>0</td>\n",
       "      <td>0</td>\n",
       "      <td>0</td>\n",
       "      <td>0</td>\n",
       "      <td>0</td>\n",
       "    </tr>\n",
       "    <tr>\n",
       "      <th>3</th>\n",
       "      <td>17841402089909710</td>\n",
       "      <td>Tyler “Ninja” Blevins</td>\n",
       "      <td>[{'media_type': 'VIDEO', 'thumbnail_url': 'htt...</td>\n",
       "      <td>1</td>\n",
       "      <td>1</td>\n",
       "      <td>0</td>\n",
       "      <td>0</td>\n",
       "      <td>0</td>\n",
       "      <td>0</td>\n",
       "      <td>0</td>\n",
       "      <td>0</td>\n",
       "      <td>0</td>\n",
       "      <td>0</td>\n",
       "    </tr>\n",
       "    <tr>\n",
       "      <th>4</th>\n",
       "      <td>17841401133162924</td>\n",
       "      <td>American Heart Association</td>\n",
       "      <td>[{'media_type': 'IMAGE', 'media_url': 'https:/...</td>\n",
       "      <td>1</td>\n",
       "      <td>0</td>\n",
       "      <td>0</td>\n",
       "      <td>0</td>\n",
       "      <td>0</td>\n",
       "      <td>0</td>\n",
       "      <td>0</td>\n",
       "      <td>0</td>\n",
       "      <td>0</td>\n",
       "      <td>0</td>\n",
       "    </tr>\n",
       "  </tbody>\n",
       "</table>\n",
       "</div>"
      ],
      "text/plain": [
       "             user_id                    username  \\\n",
       "0  17841401692602711           Cristiano Ronaldo   \n",
       "1  17841401819740287              Kim Kardashian   \n",
       "2  17841400513960353         𝐃𝐫. 𝐌𝐢𝐤𝐞 𝐕𝐚𝐫𝐬𝐡𝐚𝐯𝐬𝐤𝐢   \n",
       "3  17841402089909710       Tyler “Ninja” Blevins   \n",
       "4  17841401133162924  American Heart Association   \n",
       "\n",
       "                                               posts  Business and Industry  \\\n",
       "0  [{'media_type': 'CAROUSEL_ALBUM', 'media_url':...                      1   \n",
       "1  [{'media_type': 'IMAGE', 'media_url': 'https:/...                      1   \n",
       "2  [{'media_type': 'VIDEO', 'thumbnail_url': 'htt...                      1   \n",
       "3  [{'media_type': 'VIDEO', 'thumbnail_url': 'htt...                      1   \n",
       "4  [{'media_type': 'IMAGE', 'media_url': 'https:/...                      1   \n",
       "\n",
       "   Entertainment  Outdoors  Technology  family and relationships  \\\n",
       "0              0         0           0                         1   \n",
       "1              0         0           0                         0   \n",
       "2              0         0           0                         0   \n",
       "3              1         0           0                         0   \n",
       "4              0         0           0                         0   \n",
       "\n",
       "   fitness and wellness  food and drink  hobbies and activities  \\\n",
       "0                     1               0                       0   \n",
       "1                     0               0                       0   \n",
       "2                     0               0                       0   \n",
       "3                     0               0                       0   \n",
       "4                     0               0                       0   \n",
       "\n",
       "   shopping and fashion  sports  \n",
       "0                     1       1  \n",
       "1                     1       0  \n",
       "2                     0       0  \n",
       "3                     0       0  \n",
       "4                     0       0  "
      ]
     },
     "execution_count": 12,
     "metadata": {},
     "output_type": "execute_result"
    }
   ],
   "source": [
    "df = pd.concat([users[['user_id','username','posts']], pd.DataFrame(labels)], axis=1)\n",
    "df.columns = ['user_id','username','posts'] + list(mlb.classes_)\n",
    "df.head()"
   ]
  },
  {
   "cell_type": "code",
   "execution_count": 13,
   "id": "4c9337fc",
   "metadata": {
    "execution": {
     "iopub.execute_input": "2024-06-01T14:01:28.460117Z",
     "iopub.status.busy": "2024-06-01T14:01:28.459393Z",
     "iopub.status.idle": "2024-06-01T14:01:28.941628Z",
     "shell.execute_reply": "2024-06-01T14:01:28.940583Z"
    },
    "papermill": {
     "duration": 0.505369,
     "end_time": "2024-06-01T14:01:28.944233",
     "exception": false,
     "start_time": "2024-06-01T14:01:28.438864",
     "status": "completed"
    },
    "tags": []
   },
   "outputs": [
    {
     "data": {
      "text/html": [
       "<div>\n",
       "<style scoped>\n",
       "    .dataframe tbody tr th:only-of-type {\n",
       "        vertical-align: middle;\n",
       "    }\n",
       "\n",
       "    .dataframe tbody tr th {\n",
       "        vertical-align: top;\n",
       "    }\n",
       "\n",
       "    .dataframe thead th {\n",
       "        text-align: right;\n",
       "    }\n",
       "</style>\n",
       "<table border=\"1\" class=\"dataframe\">\n",
       "  <thead>\n",
       "    <tr style=\"text-align: right;\">\n",
       "      <th></th>\n",
       "      <th>user_id</th>\n",
       "      <th>username</th>\n",
       "      <th>posts</th>\n",
       "      <th>Business and Industry</th>\n",
       "      <th>Entertainment</th>\n",
       "      <th>Outdoors</th>\n",
       "      <th>Technology</th>\n",
       "      <th>family and relationships</th>\n",
       "      <th>fitness and wellness</th>\n",
       "      <th>food and drink</th>\n",
       "      <th>hobbies and activities</th>\n",
       "      <th>shopping and fashion</th>\n",
       "      <th>sports</th>\n",
       "    </tr>\n",
       "  </thead>\n",
       "  <tbody>\n",
       "    <tr>\n",
       "      <th>0</th>\n",
       "      <td>17841401692602711</td>\n",
       "      <td>Cristiano Ronaldo</td>\n",
       "      <td>[{'media_type': 'CAROUSEL_ALBUM', 'media_url':...</td>\n",
       "      <td>1</td>\n",
       "      <td>0</td>\n",
       "      <td>0</td>\n",
       "      <td>0</td>\n",
       "      <td>1</td>\n",
       "      <td>1</td>\n",
       "      <td>0</td>\n",
       "      <td>0</td>\n",
       "      <td>1</td>\n",
       "      <td>1</td>\n",
       "    </tr>\n",
       "    <tr>\n",
       "      <th>1</th>\n",
       "      <td>17841401819740287</td>\n",
       "      <td>Kim Kardashian</td>\n",
       "      <td>[{'media_type': 'IMAGE', 'media_url': 'https:/...</td>\n",
       "      <td>1</td>\n",
       "      <td>0</td>\n",
       "      <td>0</td>\n",
       "      <td>0</td>\n",
       "      <td>0</td>\n",
       "      <td>0</td>\n",
       "      <td>0</td>\n",
       "      <td>0</td>\n",
       "      <td>1</td>\n",
       "      <td>0</td>\n",
       "    </tr>\n",
       "    <tr>\n",
       "      <th>2</th>\n",
       "      <td>17841400513960353</td>\n",
       "      <td>𝐃𝐫. 𝐌𝐢𝐤𝐞 𝐕𝐚𝐫𝐬𝐡𝐚𝐯𝐬𝐤𝐢</td>\n",
       "      <td>[{'media_type': 'VIDEO', 'thumbnail_url': 'htt...</td>\n",
       "      <td>1</td>\n",
       "      <td>0</td>\n",
       "      <td>0</td>\n",
       "      <td>0</td>\n",
       "      <td>0</td>\n",
       "      <td>0</td>\n",
       "      <td>0</td>\n",
       "      <td>0</td>\n",
       "      <td>0</td>\n",
       "      <td>0</td>\n",
       "    </tr>\n",
       "    <tr>\n",
       "      <th>3</th>\n",
       "      <td>17841402089909710</td>\n",
       "      <td>Tyler “Ninja” Blevins</td>\n",
       "      <td>[{'media_type': 'VIDEO', 'thumbnail_url': 'htt...</td>\n",
       "      <td>1</td>\n",
       "      <td>1</td>\n",
       "      <td>0</td>\n",
       "      <td>0</td>\n",
       "      <td>0</td>\n",
       "      <td>0</td>\n",
       "      <td>0</td>\n",
       "      <td>0</td>\n",
       "      <td>0</td>\n",
       "      <td>0</td>\n",
       "    </tr>\n",
       "    <tr>\n",
       "      <th>4</th>\n",
       "      <td>17841401133162924</td>\n",
       "      <td>American Heart Association</td>\n",
       "      <td>[{'media_type': 'IMAGE', 'media_url': 'https:/...</td>\n",
       "      <td>1</td>\n",
       "      <td>0</td>\n",
       "      <td>0</td>\n",
       "      <td>0</td>\n",
       "      <td>0</td>\n",
       "      <td>0</td>\n",
       "      <td>0</td>\n",
       "      <td>0</td>\n",
       "      <td>0</td>\n",
       "      <td>0</td>\n",
       "    </tr>\n",
       "    <tr>\n",
       "      <th>...</th>\n",
       "      <td>...</td>\n",
       "      <td>...</td>\n",
       "      <td>...</td>\n",
       "      <td>...</td>\n",
       "      <td>...</td>\n",
       "      <td>...</td>\n",
       "      <td>...</td>\n",
       "      <td>...</td>\n",
       "      <td>...</td>\n",
       "      <td>...</td>\n",
       "      <td>...</td>\n",
       "      <td>...</td>\n",
       "      <td>...</td>\n",
       "    </tr>\n",
       "    <tr>\n",
       "      <th>879</th>\n",
       "      <td>17841400463380452</td>\n",
       "      <td>Marques Brownlee</td>\n",
       "      <td>[{'media_type': 'VIDEO', 'thumbnail_url': 'htt...</td>\n",
       "      <td>0</td>\n",
       "      <td>0</td>\n",
       "      <td>0</td>\n",
       "      <td>1</td>\n",
       "      <td>0</td>\n",
       "      <td>0</td>\n",
       "      <td>0</td>\n",
       "      <td>0</td>\n",
       "      <td>0</td>\n",
       "      <td>0</td>\n",
       "    </tr>\n",
       "    <tr>\n",
       "      <th>880</th>\n",
       "      <td>17841400070170876</td>\n",
       "      <td>iPhone Photography School</td>\n",
       "      <td>[{'media_type': 'CAROUSEL_ALBUM', 'media_url':...</td>\n",
       "      <td>0</td>\n",
       "      <td>0</td>\n",
       "      <td>0</td>\n",
       "      <td>1</td>\n",
       "      <td>0</td>\n",
       "      <td>0</td>\n",
       "      <td>0</td>\n",
       "      <td>0</td>\n",
       "      <td>0</td>\n",
       "      <td>0</td>\n",
       "    </tr>\n",
       "    <tr>\n",
       "      <th>881</th>\n",
       "      <td>17841403462026706</td>\n",
       "      <td>Beebom</td>\n",
       "      <td>[{'media_type': 'VIDEO', 'thumbnail_url': 'htt...</td>\n",
       "      <td>0</td>\n",
       "      <td>0</td>\n",
       "      <td>0</td>\n",
       "      <td>1</td>\n",
       "      <td>0</td>\n",
       "      <td>0</td>\n",
       "      <td>0</td>\n",
       "      <td>0</td>\n",
       "      <td>0</td>\n",
       "      <td>0</td>\n",
       "    </tr>\n",
       "    <tr>\n",
       "      <th>882</th>\n",
       "      <td>17841401804410477</td>\n",
       "      <td>Lewis Hilsenteger</td>\n",
       "      <td>[{'media_type': 'VIDEO', 'thumbnail_url': 'htt...</td>\n",
       "      <td>0</td>\n",
       "      <td>0</td>\n",
       "      <td>0</td>\n",
       "      <td>1</td>\n",
       "      <td>0</td>\n",
       "      <td>0</td>\n",
       "      <td>0</td>\n",
       "      <td>0</td>\n",
       "      <td>0</td>\n",
       "      <td>0</td>\n",
       "    </tr>\n",
       "    <tr>\n",
       "      <th>883</th>\n",
       "      <td>17841400627480647</td>\n",
       "      <td>SuperSaf</td>\n",
       "      <td>[{'media_type': 'CAROUSEL_ALBUM', 'media_url':...</td>\n",
       "      <td>0</td>\n",
       "      <td>0</td>\n",
       "      <td>0</td>\n",
       "      <td>1</td>\n",
       "      <td>0</td>\n",
       "      <td>0</td>\n",
       "      <td>0</td>\n",
       "      <td>0</td>\n",
       "      <td>0</td>\n",
       "      <td>0</td>\n",
       "    </tr>\n",
       "  </tbody>\n",
       "</table>\n",
       "<p>884 rows × 13 columns</p>\n",
       "</div>"
      ],
      "text/plain": [
       "               user_id                    username  \\\n",
       "0    17841401692602711           Cristiano Ronaldo   \n",
       "1    17841401819740287              Kim Kardashian   \n",
       "2    17841400513960353         𝐃𝐫. 𝐌𝐢𝐤𝐞 𝐕𝐚𝐫𝐬𝐡𝐚𝐯𝐬𝐤𝐢   \n",
       "3    17841402089909710       Tyler “Ninja” Blevins   \n",
       "4    17841401133162924  American Heart Association   \n",
       "..                 ...                         ...   \n",
       "879  17841400463380452            Marques Brownlee   \n",
       "880  17841400070170876   iPhone Photography School   \n",
       "881  17841403462026706                      Beebom   \n",
       "882  17841401804410477           Lewis Hilsenteger   \n",
       "883  17841400627480647                    SuperSaf   \n",
       "\n",
       "                                                 posts  Business and Industry  \\\n",
       "0    [{'media_type': 'CAROUSEL_ALBUM', 'media_url':...                      1   \n",
       "1    [{'media_type': 'IMAGE', 'media_url': 'https:/...                      1   \n",
       "2    [{'media_type': 'VIDEO', 'thumbnail_url': 'htt...                      1   \n",
       "3    [{'media_type': 'VIDEO', 'thumbnail_url': 'htt...                      1   \n",
       "4    [{'media_type': 'IMAGE', 'media_url': 'https:/...                      1   \n",
       "..                                                 ...                    ...   \n",
       "879  [{'media_type': 'VIDEO', 'thumbnail_url': 'htt...                      0   \n",
       "880  [{'media_type': 'CAROUSEL_ALBUM', 'media_url':...                      0   \n",
       "881  [{'media_type': 'VIDEO', 'thumbnail_url': 'htt...                      0   \n",
       "882  [{'media_type': 'VIDEO', 'thumbnail_url': 'htt...                      0   \n",
       "883  [{'media_type': 'CAROUSEL_ALBUM', 'media_url':...                      0   \n",
       "\n",
       "     Entertainment  Outdoors  Technology  family and relationships  \\\n",
       "0                0         0           0                         1   \n",
       "1                0         0           0                         0   \n",
       "2                0         0           0                         0   \n",
       "3                1         0           0                         0   \n",
       "4                0         0           0                         0   \n",
       "..             ...       ...         ...                       ...   \n",
       "879              0         0           1                         0   \n",
       "880              0         0           1                         0   \n",
       "881              0         0           1                         0   \n",
       "882              0         0           1                         0   \n",
       "883              0         0           1                         0   \n",
       "\n",
       "     fitness and wellness  food and drink  hobbies and activities  \\\n",
       "0                       1               0                       0   \n",
       "1                       0               0                       0   \n",
       "2                       0               0                       0   \n",
       "3                       0               0                       0   \n",
       "4                       0               0                       0   \n",
       "..                    ...             ...                     ...   \n",
       "879                     0               0                       0   \n",
       "880                     0               0                       0   \n",
       "881                     0               0                       0   \n",
       "882                     0               0                       0   \n",
       "883                     0               0                       0   \n",
       "\n",
       "     shopping and fashion  sports  \n",
       "0                       1       1  \n",
       "1                       1       0  \n",
       "2                       0       0  \n",
       "3                       0       0  \n",
       "4                       0       0  \n",
       "..                    ...     ...  \n",
       "879                     0       0  \n",
       "880                     0       0  \n",
       "881                     0       0  \n",
       "882                     0       0  \n",
       "883                     0       0  \n",
       "\n",
       "[884 rows x 13 columns]"
      ]
     },
     "execution_count": 13,
     "metadata": {},
     "output_type": "execute_result"
    }
   ],
   "source": [
    "df"
   ]
  },
  {
   "cell_type": "code",
   "execution_count": 14,
   "id": "5894872b",
   "metadata": {
    "execution": {
     "iopub.execute_input": "2024-06-01T14:01:28.983083Z",
     "iopub.status.busy": "2024-06-01T14:01:28.982539Z",
     "iopub.status.idle": "2024-06-01T14:01:28.990037Z",
     "shell.execute_reply": "2024-06-01T14:01:28.989268Z"
    },
    "papermill": {
     "duration": 0.028445,
     "end_time": "2024-06-01T14:01:28.991982",
     "exception": false,
     "start_time": "2024-06-01T14:01:28.963537",
     "status": "completed"
    },
    "tags": []
   },
   "outputs": [
    {
     "data": {
      "text/plain": [
       "Business and Industry       121\n",
       "Entertainment               113\n",
       "Outdoors                     59\n",
       "Technology                   34\n",
       "family and relationships     57\n",
       "fitness and wellness         68\n",
       "food and drink               92\n",
       "hobbies and activities      187\n",
       "shopping and fashion        128\n",
       "sports                      189\n",
       "dtype: int64"
      ]
     },
     "execution_count": 14,
     "metadata": {},
     "output_type": "execute_result"
    }
   ],
   "source": [
    "df[df.columns[3:]].sum()"
   ]
  },
  {
   "cell_type": "code",
   "execution_count": 15,
   "id": "963a65b0",
   "metadata": {
    "execution": {
     "iopub.execute_input": "2024-06-01T14:01:29.027366Z",
     "iopub.status.busy": "2024-06-01T14:01:29.026850Z",
     "iopub.status.idle": "2024-06-01T14:01:29.035878Z",
     "shell.execute_reply": "2024-06-01T14:01:29.035031Z"
    },
    "papermill": {
     "duration": 0.029015,
     "end_time": "2024-06-01T14:01:29.037993",
     "exception": false,
     "start_time": "2024-06-01T14:01:29.008978",
     "status": "completed"
    },
    "tags": []
   },
   "outputs": [
    {
     "data": {
      "text/plain": [
       "Business and Industry       0.136878\n",
       "Entertainment               0.127828\n",
       "Outdoors                    0.066742\n",
       "Technology                  0.038462\n",
       "family and relationships    0.064480\n",
       "fitness and wellness        0.076923\n",
       "food and drink              0.104072\n",
       "hobbies and activities      0.211538\n",
       "shopping and fashion        0.144796\n",
       "sports                      0.213801\n",
       "dtype: float64"
      ]
     },
     "execution_count": 15,
     "metadata": {},
     "output_type": "execute_result"
    }
   ],
   "source": [
    "# For our task we remove the categories with small number of articles\n",
    "columns = df.columns\n",
    "# Find the frequencies of the articles in every category\n",
    "categor_freq = df[df.columns[3:]].sum()/df.shape[0]\n",
    "categor_freq"
   ]
  },
  {
   "cell_type": "code",
   "execution_count": 16,
   "id": "659ee048",
   "metadata": {
    "execution": {
     "iopub.execute_input": "2024-06-01T14:01:29.073709Z",
     "iopub.status.busy": "2024-06-01T14:01:29.073213Z",
     "iopub.status.idle": "2024-06-01T14:01:29.382477Z",
     "shell.execute_reply": "2024-06-01T14:01:29.381577Z"
    },
    "papermill": {
     "duration": 0.329175,
     "end_time": "2024-06-01T14:01:29.384568",
     "exception": false,
     "start_time": "2024-06-01T14:01:29.055393",
     "status": "completed"
    },
    "tags": []
   },
   "outputs": [
    {
     "data": {
      "image/png": "[encoded data removed]",
      "text/plain": [
       "<Figure size 1500x300 with 1 Axes>"
      ]
     },
     "metadata": {},
     "output_type": "display_data"
    }
   ],
   "source": [
    "import matplotlib.pyplot as plt\n",
    "     \n",
    "\n",
    "plt.rcParams[\"figure.figsize\"] = (15,3)\n",
    "plt.bar(categor_freq.index, categor_freq.values)\n",
    "_ = plt.xticks(rotation = 45)"
   ]
  },
  {
   "cell_type": "code",
   "execution_count": 17,
   "id": "8a047a95",
   "metadata": {
    "execution": {
     "iopub.execute_input": "2024-06-01T14:01:29.423181Z",
     "iopub.status.busy": "2024-06-01T14:01:29.422485Z",
     "iopub.status.idle": "2024-06-01T14:01:30.063217Z",
     "shell.execute_reply": "2024-06-01T14:01:30.062390Z"
    },
    "papermill": {
     "duration": 0.662893,
     "end_time": "2024-06-01T14:01:30.065466",
     "exception": false,
     "start_time": "2024-06-01T14:01:29.402573",
     "status": "completed"
    },
    "tags": []
   },
   "outputs": [
    {
     "name": "stdout",
     "output_type": "stream",
     "text": [
      "[nltk_data] Downloading package stopwords to /usr/share/nltk_data...\n",
      "[nltk_data]   Package stopwords is already up-to-date!\n"
     ]
    }
   ],
   "source": [
    "from sklearn.feature_extraction.text import TfidfVectorizer\n",
    "from sklearn.decomposition import PCA\n",
    "import nltk\n",
    "nltk.download('stopwords')\n",
    "from nltk.corpus import stopwords\n",
    "stop_words = set(stopwords.words('english'))"
   ]
  },
  {
   "cell_type": "code",
   "execution_count": 18,
   "id": "b9a338cd",
   "metadata": {
    "execution": {
     "iopub.execute_input": "2024-06-01T14:01:30.102699Z",
     "iopub.status.busy": "2024-06-01T14:01:30.102393Z",
     "iopub.status.idle": "2024-06-01T14:01:47.947013Z",
     "shell.execute_reply": "2024-06-01T14:01:47.946127Z"
    },
    "papermill": {
     "duration": 17.865893,
     "end_time": "2024-06-01T14:01:47.949396",
     "exception": false,
     "start_time": "2024-06-01T14:01:30.083503",
     "status": "completed"
    },
    "tags": []
   },
   "outputs": [
    {
     "name": "stdout",
     "output_type": "stream",
     "text": [
      "Sat Jun  1 14:01:30 2024       \r\n",
      "+---------------------------------------------------------------------------------------+\r\n",
      "| NVIDIA-SMI 535.129.03             Driver Version: 535.129.03   CUDA Version: 12.2     |\r\n",
      "|-----------------------------------------+----------------------+----------------------+\r\n",
      "| GPU  Name                 Persistence-M | Bus-Id        Disp.A | Volatile Uncorr. ECC |\r\n",
      "| Fan  Temp   Perf          Pwr:Usage/Cap |         Memory-Usage | GPU-Util  Compute M. |\r\n",
      "|                                         |                      |               MIG M. |\r\n",
      "|=========================================+======================+======================|\r\n",
      "|   0  Tesla T4                       Off | 00000000:00:04.0 Off |                    0 |\r\n",
      "| N/A   44C    P8              11W /  70W |      0MiB / 15360MiB |      0%      Default |\r\n",
      "|                                         |                      |                  N/A |\r\n",
      "+-----------------------------------------+----------------------+----------------------+\r\n",
      "|   1  Tesla T4                       Off | 00000000:00:05.0 Off |                    0 |\r\n",
      "| N/A   44C    P8              12W /  70W |      0MiB / 15360MiB |      0%      Default |\r\n",
      "|                                         |                      |                  N/A |\r\n",
      "+-----------------------------------------+----------------------+----------------------+\r\n",
      "                                                                                         \r\n",
      "+---------------------------------------------------------------------------------------+\r\n",
      "| Processes:                                                                            |\r\n",
      "|  GPU   GI   CI        PID   Type   Process name                            GPU Memory |\r\n",
      "|        ID   ID                                                             Usage      |\r\n",
      "|=======================================================================================|\r\n",
      "|  No running processes found                                                           |\r\n",
      "+---------------------------------------------------------------------------------------+\r\n",
      "Requirement already satisfied: transformers in /opt/conda/lib/python3.10/site-packages (4.41.1)\r\n",
      "Requirement already satisfied: filelock in /opt/conda/lib/python3.10/site-packages (from transformers) (3.13.1)\r\n",
      "Requirement already satisfied: huggingface-hub<1.0,>=0.23.0 in /opt/conda/lib/python3.10/site-packages (from transformers) (0.23.2)\r\n",
      "Requirement already satisfied: numpy>=1.17 in /opt/conda/lib/python3.10/site-packages (from transformers) (1.26.4)\r\n",
      "Requirement already satisfied: packaging>=20.0 in /opt/conda/lib/python3.10/site-packages (from transformers) (21.3)\r\n",
      "Requirement already satisfied: pyyaml>=5.1 in /opt/conda/lib/python3.10/site-packages (from transformers) (6.0.1)\r\n",
      "Requirement already satisfied: regex!=2019.12.17 in /opt/conda/lib/python3.10/site-packages (from transformers) (2023.12.25)\r\n",
      "Requirement already satisfied: requests in /opt/conda/lib/python3.10/site-packages (from transformers) (2.31.0)\r\n",
      "Requirement already satisfied: tokenizers<0.20,>=0.19 in /opt/conda/lib/python3.10/site-packages (from transformers) (0.19.1)\r\n",
      "Requirement already satisfied: safetensors>=0.4.1 in /opt/conda/lib/python3.10/site-packages (from transformers) (0.4.3)\r\n",
      "Requirement already satisfied: tqdm>=4.27 in /opt/conda/lib/python3.10/site-packages (from transformers) (4.66.4)\r\n",
      "Requirement already satisfied: fsspec>=2023.5.0 in /opt/conda/lib/python3.10/site-packages (from huggingface-hub<1.0,>=0.23.0->transformers) (2024.3.1)\r\n",
      "Requirement already satisfied: typing-extensions>=3.7.4.3 in /opt/conda/lib/python3.10/site-packages (from huggingface-hub<1.0,>=0.23.0->transformers) (4.9.0)\r\n",
      "Requirement already satisfied: pyparsing!=3.0.5,>=2.0.2 in /opt/conda/lib/python3.10/site-packages (from packaging>=20.0->transformers) (3.1.1)\r\n",
      "Requirement already satisfied: charset-normalizer<4,>=2 in /opt/conda/lib/python3.10/site-packages (from requests->transformers) (3.3.2)\r\n",
      "Requirement already satisfied: idna<4,>=2.5 in /opt/conda/lib/python3.10/site-packages (from requests->transformers) (3.6)\r\n",
      "Requirement already satisfied: urllib3<3,>=1.21.1 in /opt/conda/lib/python3.10/site-packages (from requests->transformers) (1.26.18)\r\n",
      "Requirement already satisfied: certifi>=2017.4.17 in /opt/conda/lib/python3.10/site-packages (from requests->transformers) (2024.2.2)\r\n",
      "\u001b[33mWARNING: Error parsing requirements for aiohttp: [Errno 2] No such file or directory: '/opt/conda/lib/python3.10/site-packages/aiohttp-3.9.1.dist-info/METADATA'\u001b[0m\u001b[33m\r\n",
      "\u001b[0m"
     ]
    }
   ],
   "source": [
    "!nvidia-smi\n",
    "     \n",
    "\n",
    "!pip install transformers\n",
    "     \n",
    "\n",
    "import os\n",
    "import pandas as pd\n",
    "import numpy as np\n",
    "import shutil\n",
    "import sys\n",
    "import tqdm.notebook as tq\n",
    "from collections import defaultdict\n",
    "\n",
    "import torch\n",
    "import torch.nn as nn\n",
    "\n",
    "device = torch.device('cuda') if torch.cuda.is_available() else torch.device('cpu')"
   ]
  },
  {
   "cell_type": "code",
   "execution_count": 19,
   "id": "b568ed7d",
   "metadata": {
    "execution": {
     "iopub.execute_input": "2024-06-01T14:01:47.988381Z",
     "iopub.status.busy": "2024-06-01T14:01:47.987962Z",
     "iopub.status.idle": "2024-06-01T14:01:48.202981Z",
     "shell.execute_reply": "2024-06-01T14:01:48.202106Z"
    },
    "papermill": {
     "duration": 0.236688,
     "end_time": "2024-06-01T14:01:48.204975",
     "exception": false,
     "start_time": "2024-06-01T14:01:47.968287",
     "status": "completed"
    },
    "tags": []
   },
   "outputs": [
    {
     "data": {
      "text/html": [
       "<div>\n",
       "<style scoped>\n",
       "    .dataframe tbody tr th:only-of-type {\n",
       "        vertical-align: middle;\n",
       "    }\n",
       "\n",
       "    .dataframe tbody tr th {\n",
       "        vertical-align: top;\n",
       "    }\n",
       "\n",
       "    .dataframe thead th {\n",
       "        text-align: right;\n",
       "    }\n",
       "</style>\n",
       "<table border=\"1\" class=\"dataframe\">\n",
       "  <thead>\n",
       "    <tr style=\"text-align: right;\">\n",
       "      <th></th>\n",
       "      <th>user_id</th>\n",
       "      <th>username</th>\n",
       "      <th>posts</th>\n",
       "      <th>Business and Industry</th>\n",
       "      <th>Entertainment</th>\n",
       "      <th>Outdoors</th>\n",
       "      <th>Technology</th>\n",
       "      <th>family and relationships</th>\n",
       "      <th>fitness and wellness</th>\n",
       "      <th>food and drink</th>\n",
       "      <th>hobbies and activities</th>\n",
       "      <th>shopping and fashion</th>\n",
       "      <th>sports</th>\n",
       "    </tr>\n",
       "  </thead>\n",
       "  <tbody>\n",
       "    <tr>\n",
       "      <th>0</th>\n",
       "      <td>17841401692602711</td>\n",
       "      <td>Cristiano Ronaldo</td>\n",
       "      <td>[{'media_type': 'CAROUSEL_ALBUM', 'media_url':...</td>\n",
       "      <td>1</td>\n",
       "      <td>0</td>\n",
       "      <td>0</td>\n",
       "      <td>0</td>\n",
       "      <td>1</td>\n",
       "      <td>1</td>\n",
       "      <td>0</td>\n",
       "      <td>0</td>\n",
       "      <td>1</td>\n",
       "      <td>1</td>\n",
       "    </tr>\n",
       "    <tr>\n",
       "      <th>1</th>\n",
       "      <td>17841401819740287</td>\n",
       "      <td>Kim Kardashian</td>\n",
       "      <td>[{'media_type': 'IMAGE', 'media_url': 'https:/...</td>\n",
       "      <td>1</td>\n",
       "      <td>0</td>\n",
       "      <td>0</td>\n",
       "      <td>0</td>\n",
       "      <td>0</td>\n",
       "      <td>0</td>\n",
       "      <td>0</td>\n",
       "      <td>0</td>\n",
       "      <td>1</td>\n",
       "      <td>0</td>\n",
       "    </tr>\n",
       "    <tr>\n",
       "      <th>2</th>\n",
       "      <td>17841400513960353</td>\n",
       "      <td>𝐃𝐫. 𝐌𝐢𝐤𝐞 𝐕𝐚𝐫𝐬𝐡𝐚𝐯𝐬𝐤𝐢</td>\n",
       "      <td>[{'media_type': 'VIDEO', 'thumbnail_url': 'htt...</td>\n",
       "      <td>1</td>\n",
       "      <td>0</td>\n",
       "      <td>0</td>\n",
       "      <td>0</td>\n",
       "      <td>0</td>\n",
       "      <td>0</td>\n",
       "      <td>0</td>\n",
       "      <td>0</td>\n",
       "      <td>0</td>\n",
       "      <td>0</td>\n",
       "    </tr>\n",
       "    <tr>\n",
       "      <th>3</th>\n",
       "      <td>17841402089909710</td>\n",
       "      <td>Tyler “Ninja” Blevins</td>\n",
       "      <td>[{'media_type': 'VIDEO', 'thumbnail_url': 'htt...</td>\n",
       "      <td>1</td>\n",
       "      <td>1</td>\n",
       "      <td>0</td>\n",
       "      <td>0</td>\n",
       "      <td>0</td>\n",
       "      <td>0</td>\n",
       "      <td>0</td>\n",
       "      <td>0</td>\n",
       "      <td>0</td>\n",
       "      <td>0</td>\n",
       "    </tr>\n",
       "    <tr>\n",
       "      <th>4</th>\n",
       "      <td>17841401133162924</td>\n",
       "      <td>American Heart Association</td>\n",
       "      <td>[{'media_type': 'IMAGE', 'media_url': 'https:/...</td>\n",
       "      <td>1</td>\n",
       "      <td>0</td>\n",
       "      <td>0</td>\n",
       "      <td>0</td>\n",
       "      <td>0</td>\n",
       "      <td>0</td>\n",
       "      <td>0</td>\n",
       "      <td>0</td>\n",
       "      <td>0</td>\n",
       "      <td>0</td>\n",
       "    </tr>\n",
       "  </tbody>\n",
       "</table>\n",
       "</div>"
      ],
      "text/plain": [
       "             user_id                    username  \\\n",
       "0  17841401692602711           Cristiano Ronaldo   \n",
       "1  17841401819740287              Kim Kardashian   \n",
       "2  17841400513960353         𝐃𝐫. 𝐌𝐢𝐤𝐞 𝐕𝐚𝐫𝐬𝐡𝐚𝐯𝐬𝐤𝐢   \n",
       "3  17841402089909710       Tyler “Ninja” Blevins   \n",
       "4  17841401133162924  American Heart Association   \n",
       "\n",
       "                                               posts  Business and Industry  \\\n",
       "0  [{'media_type': 'CAROUSEL_ALBUM', 'media_url':...                      1   \n",
       "1  [{'media_type': 'IMAGE', 'media_url': 'https:/...                      1   \n",
       "2  [{'media_type': 'VIDEO', 'thumbnail_url': 'htt...                      1   \n",
       "3  [{'media_type': 'VIDEO', 'thumbnail_url': 'htt...                      1   \n",
       "4  [{'media_type': 'IMAGE', 'media_url': 'https:/...                      1   \n",
       "\n",
       "   Entertainment  Outdoors  Technology  family and relationships  \\\n",
       "0              0         0           0                         1   \n",
       "1              0         0           0                         0   \n",
       "2              0         0           0                         0   \n",
       "3              1         0           0                         0   \n",
       "4              0         0           0                         0   \n",
       "\n",
       "   fitness and wellness  food and drink  hobbies and activities  \\\n",
       "0                     1               0                       0   \n",
       "1                     0               0                       0   \n",
       "2                     0               0                       0   \n",
       "3                     0               0                       0   \n",
       "4                     0               0                       0   \n",
       "\n",
       "   shopping and fashion  sports  \n",
       "0                     1       1  \n",
       "1                     1       0  \n",
       "2                     0       0  \n",
       "3                     0       0  \n",
       "4                     0       0  "
      ]
     },
     "execution_count": 19,
     "metadata": {},
     "output_type": "execute_result"
    }
   ],
   "source": [
    "df.head()"
   ]
  },
  {
   "cell_type": "code",
   "execution_count": 20,
   "id": "d2a8c9f2",
   "metadata": {
    "execution": {
     "iopub.execute_input": "2024-06-01T14:01:48.244203Z",
     "iopub.status.busy": "2024-06-01T14:01:48.243477Z",
     "iopub.status.idle": "2024-06-01T14:01:48.412694Z",
     "shell.execute_reply": "2024-06-01T14:01:48.411684Z"
    },
    "papermill": {
     "duration": 0.191299,
     "end_time": "2024-06-01T14:01:48.414961",
     "exception": false,
     "start_time": "2024-06-01T14:01:48.223662",
     "status": "completed"
    },
    "tags": []
   },
   "outputs": [],
   "source": [
    "def concatenate_captions(posts):\n",
    "    return ' '.join(post['caption'] for post in posts if post.get('caption'))\n",
    "\n",
    "# Apply the function to the posts column\n",
    "df['captions'] = df['posts'].apply(concatenate_captions)"
   ]
  },
  {
   "cell_type": "code",
   "execution_count": 21,
   "id": "1944c6a2",
   "metadata": {
    "execution": {
     "iopub.execute_input": "2024-06-01T14:01:48.494973Z",
     "iopub.status.busy": "2024-06-01T14:01:48.494338Z",
     "iopub.status.idle": "2024-06-01T14:01:48.500210Z",
     "shell.execute_reply": "2024-06-01T14:01:48.499419Z"
    },
    "papermill": {
     "duration": 0.02796,
     "end_time": "2024-06-01T14:01:48.502196",
     "exception": false,
     "start_time": "2024-06-01T14:01:48.474236",
     "status": "completed"
    },
    "tags": []
   },
   "outputs": [],
   "source": [
    "df=df[['Business and Industry',\n",
    "       'Entertainment', 'Outdoors', 'Technology', 'family and relationships',\n",
    "       'fitness and wellness', 'food and drink', 'hobbies and activities',\n",
    "       'shopping and fashion', 'sports', 'captions']]"
   ]
  },
  {
   "cell_type": "code",
   "execution_count": 22,
   "id": "6f053ca3",
   "metadata": {
    "execution": {
     "iopub.execute_input": "2024-06-01T14:01:48.542733Z",
     "iopub.status.busy": "2024-06-01T14:01:48.542347Z",
     "iopub.status.idle": "2024-06-01T14:01:48.562331Z",
     "shell.execute_reply": "2024-06-01T14:01:48.561432Z"
    },
    "papermill": {
     "duration": 0.043159,
     "end_time": "2024-06-01T14:01:48.564704",
     "exception": false,
     "start_time": "2024-06-01T14:01:48.521545",
     "status": "completed"
    },
    "tags": []
   },
   "outputs": [
    {
     "data": {
      "text/html": [
       "<div>\n",
       "<style scoped>\n",
       "    .dataframe tbody tr th:only-of-type {\n",
       "        vertical-align: middle;\n",
       "    }\n",
       "\n",
       "    .dataframe tbody tr th {\n",
       "        vertical-align: top;\n",
       "    }\n",
       "\n",
       "    .dataframe thead th {\n",
       "        text-align: right;\n",
       "    }\n",
       "</style>\n",
       "<table border=\"1\" class=\"dataframe\">\n",
       "  <thead>\n",
       "    <tr style=\"text-align: right;\">\n",
       "      <th></th>\n",
       "      <th>Business and Industry</th>\n",
       "      <th>Entertainment</th>\n",
       "      <th>Outdoors</th>\n",
       "      <th>Technology</th>\n",
       "      <th>family and relationships</th>\n",
       "      <th>fitness and wellness</th>\n",
       "      <th>food and drink</th>\n",
       "      <th>hobbies and activities</th>\n",
       "      <th>shopping and fashion</th>\n",
       "      <th>sports</th>\n",
       "      <th>captions</th>\n",
       "    </tr>\n",
       "  </thead>\n",
       "  <tbody>\n",
       "    <tr>\n",
       "      <th>0</th>\n",
       "      <td>1</td>\n",
       "      <td>0</td>\n",
       "      <td>0</td>\n",
       "      <td>0</td>\n",
       "      <td>1</td>\n",
       "      <td>1</td>\n",
       "      <td>0</td>\n",
       "      <td>0</td>\n",
       "      <td>1</td>\n",
       "      <td>1</td>\n",
       "      <td>👍😁 Happiness ❤️ Felicidades mi amor te amamos ...</td>\n",
       "    </tr>\n",
       "    <tr>\n",
       "      <th>1</th>\n",
       "      <td>1</td>\n",
       "      <td>0</td>\n",
       "      <td>0</td>\n",
       "      <td>0</td>\n",
       "      <td>0</td>\n",
       "      <td>0</td>\n",
       "      <td>0</td>\n",
       "      <td>0</td>\n",
       "      <td>1</td>\n",
       "      <td>0</td>\n",
       "      <td>Happy Birthday Queen kourtneykardash There’s n...</td>\n",
       "    </tr>\n",
       "    <tr>\n",
       "      <th>2</th>\n",
       "      <td>1</td>\n",
       "      <td>0</td>\n",
       "      <td>0</td>\n",
       "      <td>0</td>\n",
       "      <td>0</td>\n",
       "      <td>0</td>\n",
       "      <td>0</td>\n",
       "      <td>0</td>\n",
       "      <td>0</td>\n",
       "      <td>0</td>\n",
       "      <td>Now you know why we’re always stressed out 👨🏻‍...</td>\n",
       "    </tr>\n",
       "    <tr>\n",
       "      <th>3</th>\n",
       "      <td>1</td>\n",
       "      <td>1</td>\n",
       "      <td>0</td>\n",
       "      <td>0</td>\n",
       "      <td>0</td>\n",
       "      <td>0</td>\n",
       "      <td>0</td>\n",
       "      <td>0</td>\n",
       "      <td>0</td>\n",
       "      <td>0</td>\n",
       "      <td>This kid is NEVER coming back to my stream 🤣 A...</td>\n",
       "    </tr>\n",
       "    <tr>\n",
       "      <th>4</th>\n",
       "      <td>1</td>\n",
       "      <td>0</td>\n",
       "      <td>0</td>\n",
       "      <td>0</td>\n",
       "      <td>0</td>\n",
       "      <td>0</td>\n",
       "      <td>0</td>\n",
       "      <td>0</td>\n",
       "      <td>0</td>\n",
       "      <td>0</td>\n",
       "      <td>Scrolling because you’re putting off #springcl...</td>\n",
       "    </tr>\n",
       "    <tr>\n",
       "      <th>...</th>\n",
       "      <td>...</td>\n",
       "      <td>...</td>\n",
       "      <td>...</td>\n",
       "      <td>...</td>\n",
       "      <td>...</td>\n",
       "      <td>...</td>\n",
       "      <td>...</td>\n",
       "      <td>...</td>\n",
       "      <td>...</td>\n",
       "      <td>...</td>\n",
       "      <td>...</td>\n",
       "    </tr>\n",
       "    <tr>\n",
       "      <th>879</th>\n",
       "      <td>0</td>\n",
       "      <td>0</td>\n",
       "      <td>0</td>\n",
       "      <td>1</td>\n",
       "      <td>0</td>\n",
       "      <td>0</td>\n",
       "      <td>0</td>\n",
       "      <td>0</td>\n",
       "      <td>0</td>\n",
       "      <td>0</td>\n",
       "      <td>Got to try Disney’s infinite moving floor 🤓 Fu...</td>\n",
       "    </tr>\n",
       "    <tr>\n",
       "      <th>880</th>\n",
       "      <td>0</td>\n",
       "      <td>0</td>\n",
       "      <td>0</td>\n",
       "      <td>1</td>\n",
       "      <td>0</td>\n",
       "      <td>0</td>\n",
       "      <td>0</td>\n",
       "      <td>0</td>\n",
       "      <td>0</td>\n",
       "      <td>0</td>\n",
       "      <td>Get recognised on Instagram! 🌟\\n\\nUnlock the p...</td>\n",
       "    </tr>\n",
       "    <tr>\n",
       "      <th>881</th>\n",
       "      <td>0</td>\n",
       "      <td>0</td>\n",
       "      <td>0</td>\n",
       "      <td>1</td>\n",
       "      <td>0</td>\n",
       "      <td>0</td>\n",
       "      <td>0</td>\n",
       "      <td>0</td>\n",
       "      <td>0</td>\n",
       "      <td>0</td>\n",
       "      <td>He Attacc. He Protecc. Then He Recharge.✨\\n.\\n...</td>\n",
       "    </tr>\n",
       "    <tr>\n",
       "      <th>882</th>\n",
       "      <td>0</td>\n",
       "      <td>0</td>\n",
       "      <td>0</td>\n",
       "      <td>1</td>\n",
       "      <td>0</td>\n",
       "      <td>0</td>\n",
       "      <td>0</td>\n",
       "      <td>0</td>\n",
       "      <td>0</td>\n",
       "      <td>0</td>\n",
       "      <td>iPhone accessory is… 🔥 AnkerWork S600 - https:...</td>\n",
       "    </tr>\n",
       "    <tr>\n",
       "      <th>883</th>\n",
       "      <td>0</td>\n",
       "      <td>0</td>\n",
       "      <td>0</td>\n",
       "      <td>1</td>\n",
       "      <td>0</td>\n",
       "      <td>0</td>\n",
       "      <td>0</td>\n",
       "      <td>0</td>\n",
       "      <td>0</td>\n",
       "      <td>0</td>\n",
       "      <td>Samsung Galaxy S24 Ultra or iPhone 15 Pro Max?...</td>\n",
       "    </tr>\n",
       "  </tbody>\n",
       "</table>\n",
       "<p>884 rows × 11 columns</p>\n",
       "</div>"
      ],
      "text/plain": [
       "     Business and Industry  Entertainment  Outdoors  Technology  \\\n",
       "0                        1              0         0           0   \n",
       "1                        1              0         0           0   \n",
       "2                        1              0         0           0   \n",
       "3                        1              1         0           0   \n",
       "4                        1              0         0           0   \n",
       "..                     ...            ...       ...         ...   \n",
       "879                      0              0         0           1   \n",
       "880                      0              0         0           1   \n",
       "881                      0              0         0           1   \n",
       "882                      0              0         0           1   \n",
       "883                      0              0         0           1   \n",
       "\n",
       "     family and relationships  fitness and wellness  food and drink  \\\n",
       "0                           1                     1               0   \n",
       "1                           0                     0               0   \n",
       "2                           0                     0               0   \n",
       "3                           0                     0               0   \n",
       "4                           0                     0               0   \n",
       "..                        ...                   ...             ...   \n",
       "879                         0                     0               0   \n",
       "880                         0                     0               0   \n",
       "881                         0                     0               0   \n",
       "882                         0                     0               0   \n",
       "883                         0                     0               0   \n",
       "\n",
       "     hobbies and activities  shopping and fashion  sports  \\\n",
       "0                         0                     1       1   \n",
       "1                         0                     1       0   \n",
       "2                         0                     0       0   \n",
       "3                         0                     0       0   \n",
       "4                         0                     0       0   \n",
       "..                      ...                   ...     ...   \n",
       "879                       0                     0       0   \n",
       "880                       0                     0       0   \n",
       "881                       0                     0       0   \n",
       "882                       0                     0       0   \n",
       "883                       0                     0       0   \n",
       "\n",
       "                                              captions  \n",
       "0    👍😁 Happiness ❤️ Felicidades mi amor te amamos ...  \n",
       "1    Happy Birthday Queen kourtneykardash There’s n...  \n",
       "2    Now you know why we’re always stressed out 👨🏻‍...  \n",
       "3    This kid is NEVER coming back to my stream 🤣 A...  \n",
       "4    Scrolling because you’re putting off #springcl...  \n",
       "..                                                 ...  \n",
       "879  Got to try Disney’s infinite moving floor 🤓 Fu...  \n",
       "880  Get recognised on Instagram! 🌟\\n\\nUnlock the p...  \n",
       "881  He Attacc. He Protecc. Then He Recharge.✨\\n.\\n...  \n",
       "882  iPhone accessory is… 🔥 AnkerWork S600 - https:...  \n",
       "883  Samsung Galaxy S24 Ultra or iPhone 15 Pro Max?...  \n",
       "\n",
       "[884 rows x 11 columns]"
      ]
     },
     "execution_count": 22,
     "metadata": {},
     "output_type": "execute_result"
    }
   ],
   "source": [
    "df"
   ]
  },
  {
   "cell_type": "code",
   "execution_count": 23,
   "id": "5164487b",
   "metadata": {
    "execution": {
     "iopub.execute_input": "2024-06-01T14:01:48.615276Z",
     "iopub.status.busy": "2024-06-01T14:01:48.614624Z",
     "iopub.status.idle": "2024-06-01T14:01:48.620016Z",
     "shell.execute_reply": "2024-06-01T14:01:48.619236Z"
    },
    "papermill": {
     "duration": 0.030925,
     "end_time": "2024-06-01T14:01:48.621850",
     "exception": false,
     "start_time": "2024-06-01T14:01:48.590925",
     "status": "completed"
    },
    "tags": []
   },
   "outputs": [],
   "source": [
    "def replace_abbreviations(text, path):\n",
    "    with open(path, 'r') as file:\n",
    "        data = json.load(file)\n",
    "    abbreviation_dict = data[\"abbreviation_dict\"]\n",
    "    words = text.split()\n",
    "    replaced_words = [abbreviation_dict.get(word.upper(), word) for word in words]\n",
    "    replaced_text = ' '.join(replaced_words)\n",
    "    return replaced_text"
   ]
  },
  {
   "cell_type": "code",
   "execution_count": 24,
   "id": "6a7c8a7d",
   "metadata": {
    "execution": {
     "iopub.execute_input": "2024-06-01T14:01:48.660950Z",
     "iopub.status.busy": "2024-06-01T14:01:48.660689Z",
     "iopub.status.idle": "2024-06-01T14:02:53.631078Z",
     "shell.execute_reply": "2024-06-01T14:02:53.630179Z"
    },
    "papermill": {
     "duration": 65.012035,
     "end_time": "2024-06-01T14:02:53.652940",
     "exception": false,
     "start_time": "2024-06-01T14:01:48.640905",
     "status": "completed"
    },
    "tags": []
   },
   "outputs": [
    {
     "name": "stderr",
     "output_type": "stream",
     "text": [
      "/tmp/ipykernel_24/3915360396.py:6: SettingWithCopyWarning: \n",
      "A value is trying to be set on a copy of a slice from a DataFrame.\n",
      "Try using .loc[row_indexer,col_indexer] = value instead\n",
      "\n",
      "See the caveats in the documentation: https://pandas.pydata.org/pandas-docs/stable/user_guide/indexing.html#returning-a-view-versus-a-copy\n",
      "  df['captions'] = df['captions'].apply(text_preprocessing_pipeline)\n"
     ]
    }
   ],
   "source": [
    "import emoji\n",
    "from bs4 import BeautifulSoup\n",
    "import string\n",
    "import re\n",
    "\n",
    "df['captions'] = df['captions'].apply(text_preprocessing_pipeline)\n"
   ]
  },
  {
   "cell_type": "code",
   "execution_count": 25,
   "id": "946b96d8",
   "metadata": {
    "execution": {
     "iopub.execute_input": "2024-06-01T14:02:53.693495Z",
     "iopub.status.busy": "2024-06-01T14:02:53.693046Z",
     "iopub.status.idle": "2024-06-01T14:02:53.705351Z",
     "shell.execute_reply": "2024-06-01T14:02:53.704543Z"
    },
    "papermill": {
     "duration": 0.03523,
     "end_time": "2024-06-01T14:02:53.707289",
     "exception": false,
     "start_time": "2024-06-01T14:02:53.672059",
     "status": "completed"
    },
    "tags": []
   },
   "outputs": [
    {
     "data": {
      "text/html": [
       "<div>\n",
       "<style scoped>\n",
       "    .dataframe tbody tr th:only-of-type {\n",
       "        vertical-align: middle;\n",
       "    }\n",
       "\n",
       "    .dataframe tbody tr th {\n",
       "        vertical-align: top;\n",
       "    }\n",
       "\n",
       "    .dataframe thead th {\n",
       "        text-align: right;\n",
       "    }\n",
       "</style>\n",
       "<table border=\"1\" class=\"dataframe\">\n",
       "  <thead>\n",
       "    <tr style=\"text-align: right;\">\n",
       "      <th></th>\n",
       "      <th>Business and Industry</th>\n",
       "      <th>Entertainment</th>\n",
       "      <th>Outdoors</th>\n",
       "      <th>Technology</th>\n",
       "      <th>family and relationships</th>\n",
       "      <th>fitness and wellness</th>\n",
       "      <th>food and drink</th>\n",
       "      <th>hobbies and activities</th>\n",
       "      <th>shopping and fashion</th>\n",
       "      <th>sports</th>\n",
       "      <th>captions</th>\n",
       "    </tr>\n",
       "  </thead>\n",
       "  <tbody>\n",
       "    <tr>\n",
       "      <th>0</th>\n",
       "      <td>1</td>\n",
       "      <td>0</td>\n",
       "      <td>0</td>\n",
       "      <td>0</td>\n",
       "      <td>1</td>\n",
       "      <td>1</td>\n",
       "      <td>0</td>\n",
       "      <td>0</td>\n",
       "      <td>1</td>\n",
       "      <td>1</td>\n",
       "      <td>happiness felicidades mi amor te amamos angely...</td>\n",
       "    </tr>\n",
       "    <tr>\n",
       "      <th>1</th>\n",
       "      <td>1</td>\n",
       "      <td>0</td>\n",
       "      <td>0</td>\n",
       "      <td>0</td>\n",
       "      <td>0</td>\n",
       "      <td>0</td>\n",
       "      <td>0</td>\n",
       "      <td>0</td>\n",
       "      <td>1</td>\n",
       "      <td>0</td>\n",
       "      <td>happy birthday queen kourtneykardash there s n...</td>\n",
       "    </tr>\n",
       "    <tr>\n",
       "      <th>2</th>\n",
       "      <td>1</td>\n",
       "      <td>0</td>\n",
       "      <td>0</td>\n",
       "      <td>0</td>\n",
       "      <td>0</td>\n",
       "      <td>0</td>\n",
       "      <td>0</td>\n",
       "      <td>0</td>\n",
       "      <td>0</td>\n",
       "      <td>0</td>\n",
       "      <td>now you know why we re always stressed out hug...</td>\n",
       "    </tr>\n",
       "  </tbody>\n",
       "</table>\n",
       "</div>"
      ],
      "text/plain": [
       "   Business and Industry  Entertainment  Outdoors  Technology  \\\n",
       "0                      1              0         0           0   \n",
       "1                      1              0         0           0   \n",
       "2                      1              0         0           0   \n",
       "\n",
       "   family and relationships  fitness and wellness  food and drink  \\\n",
       "0                         1                     1               0   \n",
       "1                         0                     0               0   \n",
       "2                         0                     0               0   \n",
       "\n",
       "   hobbies and activities  shopping and fashion  sports  \\\n",
       "0                       0                     1       1   \n",
       "1                       0                     1       0   \n",
       "2                       0                     0       0   \n",
       "\n",
       "                                            captions  \n",
       "0  happiness felicidades mi amor te amamos angely...  \n",
       "1  happy birthday queen kourtneykardash there s n...  \n",
       "2  now you know why we re always stressed out hug...  "
      ]
     },
     "execution_count": 25,
     "metadata": {},
     "output_type": "execute_result"
    }
   ],
   "source": [
    "df.head(3)"
   ]
  },
  {
   "cell_type": "code",
   "execution_count": 26,
   "id": "b463b2a1",
   "metadata": {
    "execution": {
     "iopub.execute_input": "2024-06-01T14:02:53.747802Z",
     "iopub.status.busy": "2024-06-01T14:02:53.747510Z",
     "iopub.status.idle": "2024-06-01T14:02:53.759981Z",
     "shell.execute_reply": "2024-06-01T14:02:53.758713Z"
    },
    "papermill": {
     "duration": 0.035611,
     "end_time": "2024-06-01T14:02:53.762587",
     "exception": false,
     "start_time": "2024-06-01T14:02:53.726976",
     "status": "completed"
    },
    "tags": []
   },
   "outputs": [
    {
     "data": {
      "text/html": [
       "<div>\n",
       "<style scoped>\n",
       "    .dataframe tbody tr th:only-of-type {\n",
       "        vertical-align: middle;\n",
       "    }\n",
       "\n",
       "    .dataframe tbody tr th {\n",
       "        vertical-align: top;\n",
       "    }\n",
       "\n",
       "    .dataframe thead th {\n",
       "        text-align: right;\n",
       "    }\n",
       "</style>\n",
       "<table border=\"1\" class=\"dataframe\">\n",
       "  <thead>\n",
       "    <tr style=\"text-align: right;\">\n",
       "      <th></th>\n",
       "      <th>Business and Industry</th>\n",
       "      <th>Entertainment</th>\n",
       "      <th>Outdoors</th>\n",
       "      <th>Technology</th>\n",
       "      <th>family and relationships</th>\n",
       "      <th>fitness and wellness</th>\n",
       "      <th>food and drink</th>\n",
       "      <th>hobbies and activities</th>\n",
       "      <th>shopping and fashion</th>\n",
       "      <th>sports</th>\n",
       "      <th>captions</th>\n",
       "    </tr>\n",
       "  </thead>\n",
       "  <tbody>\n",
       "    <tr>\n",
       "      <th>0</th>\n",
       "      <td>1</td>\n",
       "      <td>0</td>\n",
       "      <td>0</td>\n",
       "      <td>0</td>\n",
       "      <td>1</td>\n",
       "      <td>1</td>\n",
       "      <td>0</td>\n",
       "      <td>0</td>\n",
       "      <td>1</td>\n",
       "      <td>1</td>\n",
       "      <td>happiness felicidades mi amor te amamos angely...</td>\n",
       "    </tr>\n",
       "    <tr>\n",
       "      <th>1</th>\n",
       "      <td>1</td>\n",
       "      <td>0</td>\n",
       "      <td>0</td>\n",
       "      <td>0</td>\n",
       "      <td>0</td>\n",
       "      <td>0</td>\n",
       "      <td>0</td>\n",
       "      <td>0</td>\n",
       "      <td>1</td>\n",
       "      <td>0</td>\n",
       "      <td>happy birthday queen kourtneykardash there s n...</td>\n",
       "    </tr>\n",
       "    <tr>\n",
       "      <th>2</th>\n",
       "      <td>1</td>\n",
       "      <td>0</td>\n",
       "      <td>0</td>\n",
       "      <td>0</td>\n",
       "      <td>0</td>\n",
       "      <td>0</td>\n",
       "      <td>0</td>\n",
       "      <td>0</td>\n",
       "      <td>0</td>\n",
       "      <td>0</td>\n",
       "      <td>now you know why we re always stressed out hug...</td>\n",
       "    </tr>\n",
       "    <tr>\n",
       "      <th>3</th>\n",
       "      <td>1</td>\n",
       "      <td>1</td>\n",
       "      <td>0</td>\n",
       "      <td>0</td>\n",
       "      <td>0</td>\n",
       "      <td>0</td>\n",
       "      <td>0</td>\n",
       "      <td>0</td>\n",
       "      <td>0</td>\n",
       "      <td>0</td>\n",
       "      <td>this kid is never coming back to my stream afk...</td>\n",
       "    </tr>\n",
       "    <tr>\n",
       "      <th>4</th>\n",
       "      <td>1</td>\n",
       "      <td>0</td>\n",
       "      <td>0</td>\n",
       "      <td>0</td>\n",
       "      <td>0</td>\n",
       "      <td>0</td>\n",
       "      <td>0</td>\n",
       "      <td>0</td>\n",
       "      <td>0</td>\n",
       "      <td>0</td>\n",
       "      <td>scrolling because you re putting off springcle...</td>\n",
       "    </tr>\n",
       "  </tbody>\n",
       "</table>\n",
       "</div>"
      ],
      "text/plain": [
       "   Business and Industry  Entertainment  Outdoors  Technology  \\\n",
       "0                      1              0         0           0   \n",
       "1                      1              0         0           0   \n",
       "2                      1              0         0           0   \n",
       "3                      1              1         0           0   \n",
       "4                      1              0         0           0   \n",
       "\n",
       "   family and relationships  fitness and wellness  food and drink  \\\n",
       "0                         1                     1               0   \n",
       "1                         0                     0               0   \n",
       "2                         0                     0               0   \n",
       "3                         0                     0               0   \n",
       "4                         0                     0               0   \n",
       "\n",
       "   hobbies and activities  shopping and fashion  sports  \\\n",
       "0                       0                     1       1   \n",
       "1                       0                     1       0   \n",
       "2                       0                     0       0   \n",
       "3                       0                     0       0   \n",
       "4                       0                     0       0   \n",
       "\n",
       "                                            captions  \n",
       "0  happiness felicidades mi amor te amamos angely...  \n",
       "1  happy birthday queen kourtneykardash there s n...  \n",
       "2  now you know why we re always stressed out hug...  \n",
       "3  this kid is never coming back to my stream afk...  \n",
       "4  scrolling because you re putting off springcle...  "
      ]
     },
     "execution_count": 26,
     "metadata": {},
     "output_type": "execute_result"
    }
   ],
   "source": [
    "df.head()"
   ]
  },
  {
   "cell_type": "markdown",
   "id": "6589ad08",
   "metadata": {
    "papermill": {
     "duration": 0.019593,
     "end_time": "2024-06-01T14:02:53.802702",
     "exception": false,
     "start_time": "2024-06-01T14:02:53.783109",
     "status": "completed"
    },
    "tags": []
   },
   "source": [
    "## Bert"
   ]
  },
  {
   "cell_type": "code",
   "execution_count": 27,
   "id": "dde045fc",
   "metadata": {
    "execution": {
     "iopub.execute_input": "2024-06-01T14:02:53.843599Z",
     "iopub.status.busy": "2024-06-01T14:02:53.843052Z",
     "iopub.status.idle": "2024-06-01T14:02:55.537008Z",
     "shell.execute_reply": "2024-06-01T14:02:55.536276Z"
    },
    "papermill": {
     "duration": 1.71697,
     "end_time": "2024-06-01T14:02:55.539107",
     "exception": false,
     "start_time": "2024-06-01T14:02:53.822137",
     "status": "completed"
    },
    "tags": []
   },
   "outputs": [
    {
     "data": {
      "application/vnd.jupyter.widget-view+json": {
       "model_id": "013486bfa0154bc1a5cec022f888b9d4",
       "version_major": 2,
       "version_minor": 0
      },
      "text/plain": [
       "tokenizer_config.json:   0%|          | 0.00/49.0 [00:00<?, ?B/s]"
      ]
     },
     "metadata": {},
     "output_type": "display_data"
    },
    {
     "data": {
      "application/vnd.jupyter.widget-view+json": {
       "model_id": "8156ce1b59bb4295ae469c1fc785131a",
       "version_major": 2,
       "version_minor": 0
      },
      "text/plain": [
       "vocab.txt:   0%|          | 0.00/213k [00:00<?, ?B/s]"
      ]
     },
     "metadata": {},
     "output_type": "display_data"
    },
    {
     "data": {
      "application/vnd.jupyter.widget-view+json": {
       "model_id": "4654284bf65241ac9764fe6dda864731",
       "version_major": 2,
       "version_minor": 0
      },
      "text/plain": [
       "tokenizer.json:   0%|          | 0.00/436k [00:00<?, ?B/s]"
      ]
     },
     "metadata": {},
     "output_type": "display_data"
    },
    {
     "name": "stderr",
     "output_type": "stream",
     "text": [
      "/opt/conda/lib/python3.10/site-packages/huggingface_hub/file_download.py:1132: FutureWarning: `resume_download` is deprecated and will be removed in version 1.0.0. Downloads always resume when possible. If you want to force a new download, use `force_download=True`.\n",
      "  warnings.warn(\n"
     ]
    },
    {
     "data": {
      "application/vnd.jupyter.widget-view+json": {
       "model_id": "ae192b2299144dada0f8f48da250e880",
       "version_major": 2,
       "version_minor": 0
      },
      "text/plain": [
       "config.json:   0%|          | 0.00/570 [00:00<?, ?B/s]"
      ]
     },
     "metadata": {},
     "output_type": "display_data"
    }
   ],
   "source": [
    "from transformers import BertTokenizer\n",
    "\n",
    "tokenizer = BertTokenizer.from_pretrained('bert-base-cased')"
   ]
  },
  {
   "cell_type": "code",
   "execution_count": 28,
   "id": "c5560080",
   "metadata": {
    "execution": {
     "iopub.execute_input": "2024-06-01T14:02:55.582903Z",
     "iopub.status.busy": "2024-06-01T14:02:55.582060Z",
     "iopub.status.idle": "2024-06-01T14:03:05.859748Z",
     "shell.execute_reply": "2024-06-01T14:03:05.858945Z"
    },
    "papermill": {
     "duration": 10.302051,
     "end_time": "2024-06-01T14:03:05.862019",
     "exception": false,
     "start_time": "2024-06-01T14:02:55.559968",
     "status": "completed"
    },
    "tags": []
   },
   "outputs": [
    {
     "name": "stderr",
     "output_type": "stream",
     "text": [
      "2024-06-01 14:02:56.998917: E external/local_xla/xla/stream_executor/cuda/cuda_dnn.cc:9261] Unable to register cuDNN factory: Attempting to register factory for plugin cuDNN when one has already been registered\n",
      "2024-06-01 14:02:56.999023: E external/local_xla/xla/stream_executor/cuda/cuda_fft.cc:607] Unable to register cuFFT factory: Attempting to register factory for plugin cuFFT when one has already been registered\n",
      "2024-06-01 14:02:57.095216: E external/local_xla/xla/stream_executor/cuda/cuda_blas.cc:1515] Unable to register cuBLAS factory: Attempting to register factory for plugin cuBLAS when one has already been registered\n"
     ]
    }
   ],
   "source": [
    "token = tokenizer.encode_plus(\n",
    "    df['captions'].iloc[0], \n",
    "    max_length=256, \n",
    "    truncation=True, \n",
    "    padding='max_length', \n",
    "    add_special_tokens=True,\n",
    "    return_tensors='tf'\n",
    ")"
   ]
  },
  {
   "cell_type": "code",
   "execution_count": 29,
   "id": "094a2062",
   "metadata": {
    "execution": {
     "iopub.execute_input": "2024-06-01T14:03:05.905597Z",
     "iopub.status.busy": "2024-06-01T14:03:05.905011Z",
     "iopub.status.idle": "2024-06-01T14:03:05.911364Z",
     "shell.execute_reply": "2024-06-01T14:03:05.910572Z"
    },
    "papermill": {
     "duration": 0.029933,
     "end_time": "2024-06-01T14:03:05.913216",
     "exception": false,
     "start_time": "2024-06-01T14:03:05.883283",
     "status": "completed"
    },
    "tags": []
   },
   "outputs": [],
   "source": [
    "from tqdm.notebook import tqdm  \n",
    "def tokenize_data(df, ids, masks, tokenizer):\n",
    "    for i, text in tqdm(enumerate(df['captions']), total=len(df), desc='training', ncols=100):\n",
    "        tokenized_text = tokenizer.encode_plus(\n",
    "            text,\n",
    "            max_length=256, \n",
    "            truncation=True, \n",
    "            padding='max_length', \n",
    "            add_special_tokens=True,\n",
    "            return_tensors='tf'\n",
    "        )\n",
    "        input_ids[i, :] = tokenized_text.input_ids\n",
    "        attention_masks[i, :] = tokenized_text.attention_mask\n",
    "    return input_ids, attention_masks"
   ]
  },
  {
   "cell_type": "code",
   "execution_count": 30,
   "id": "f0dfd2ee",
   "metadata": {
    "execution": {
     "iopub.execute_input": "2024-06-01T14:03:05.956123Z",
     "iopub.status.busy": "2024-06-01T14:03:05.955836Z",
     "iopub.status.idle": "2024-06-01T14:05:12.845323Z",
     "shell.execute_reply": "2024-06-01T14:05:12.844404Z"
    },
    "papermill": {
     "duration": 126.913782,
     "end_time": "2024-06-01T14:05:12.847369",
     "exception": false,
     "start_time": "2024-06-01T14:03:05.933587",
     "status": "completed"
    },
    "tags": []
   },
   "outputs": [
    {
     "data": {
      "application/vnd.jupyter.widget-view+json": {
       "model_id": "22cec2370ddf4c7882a610f700e027eb",
       "version_major": 2,
       "version_minor": 0
      },
      "text/plain": [
       "training:   0%|                                                             | 0/884 [00:00<?, ?it/s]"
      ]
     },
     "metadata": {},
     "output_type": "display_data"
    }
   ],
   "source": [
    "input_ids = np.zeros((len(df), 256))\n",
    "attention_masks = np.zeros((len(df), 256))\n",
    "X_input_ids, X_attn_masks = tokenize_data(df, input_ids, attention_masks, tokenizer)"
   ]
  },
  {
   "cell_type": "code",
   "execution_count": 31,
   "id": "6ecaa15b",
   "metadata": {
    "execution": {
     "iopub.execute_input": "2024-06-01T14:05:12.890825Z",
     "iopub.status.busy": "2024-06-01T14:05:12.890513Z",
     "iopub.status.idle": "2024-06-01T14:05:12.898184Z",
     "shell.execute_reply": "2024-06-01T14:05:12.897377Z"
    },
    "papermill": {
     "duration": 0.031544,
     "end_time": "2024-06-01T14:05:12.900329",
     "exception": false,
     "start_time": "2024-06-01T14:05:12.868785",
     "status": "completed"
    },
    "tags": []
   },
   "outputs": [
    {
     "data": {
      "text/plain": [
       "(884, 10)"
      ]
     },
     "execution_count": 31,
     "metadata": {},
     "output_type": "execute_result"
    }
   ],
   "source": [
    "labels = df[['Business and Industry', 'Entertainment', 'Outdoors', 'Technology', 'family and relationships', 'fitness and wellness', 'food and drink', 'hobbies and activities', 'shopping and fashion', 'sports']].values.astype('int8')\n",
    "labels.shape"
   ]
  },
  {
   "cell_type": "code",
   "execution_count": 32,
   "id": "bddd2717",
   "metadata": {
    "execution": {
     "iopub.execute_input": "2024-06-01T14:05:12.944672Z",
     "iopub.status.busy": "2024-06-01T14:05:12.944007Z",
     "iopub.status.idle": "2024-06-01T14:05:12.964993Z",
     "shell.execute_reply": "2024-06-01T14:05:12.964327Z"
    },
    "papermill": {
     "duration": 0.044819,
     "end_time": "2024-06-01T14:05:12.966858",
     "exception": false,
     "start_time": "2024-06-01T14:05:12.922039",
     "status": "completed"
    },
    "tags": []
   },
   "outputs": [],
   "source": [
    "import tensorflow as tf\n",
    "\n",
    "dataset = tf.data.Dataset.from_tensor_slices((X_input_ids, X_attn_masks, labels))\n"
   ]
  },
  {
   "cell_type": "code",
   "execution_count": 33,
   "id": "9f7169a7",
   "metadata": {
    "execution": {
     "iopub.execute_input": "2024-06-01T14:05:13.009386Z",
     "iopub.status.busy": "2024-06-01T14:05:13.009142Z",
     "iopub.status.idle": "2024-06-01T14:05:13.014383Z",
     "shell.execute_reply": "2024-06-01T14:05:13.013575Z"
    },
    "papermill": {
     "duration": 0.0288,
     "end_time": "2024-06-01T14:05:13.016287",
     "exception": false,
     "start_time": "2024-06-01T14:05:12.987487",
     "status": "completed"
    },
    "tags": []
   },
   "outputs": [
    {
     "data": {
      "text/plain": [
       "<_TensorSliceDataset element_spec=(TensorSpec(shape=(256,), dtype=tf.float64, name=None), TensorSpec(shape=(256,), dtype=tf.float64, name=None), TensorSpec(shape=(10,), dtype=tf.int8, name=None))>"
      ]
     },
     "execution_count": 33,
     "metadata": {},
     "output_type": "execute_result"
    }
   ],
   "source": [
    "dataset"
   ]
  },
  {
   "cell_type": "code",
   "execution_count": 34,
   "id": "09b0c6bc",
   "metadata": {
    "execution": {
     "iopub.execute_input": "2024-06-01T14:05:13.059000Z",
     "iopub.status.busy": "2024-06-01T14:05:13.058762Z",
     "iopub.status.idle": "2024-06-01T14:05:13.062982Z",
     "shell.execute_reply": "2024-06-01T14:05:13.062155Z"
    },
    "papermill": {
     "duration": 0.027819,
     "end_time": "2024-06-01T14:05:13.064957",
     "exception": false,
     "start_time": "2024-06-01T14:05:13.037138",
     "status": "completed"
    },
    "tags": []
   },
   "outputs": [],
   "source": [
    "def preprocess_data(input_ids, attention_mask, labels):\n",
    "    labels = tf.cast(labels, tf.float32)\n",
    "    return {\"input_ids\": input_ids, \"attention_mask\": attention_mask}, labels"
   ]
  },
  {
   "cell_type": "code",
   "execution_count": 35,
   "id": "a535a09c",
   "metadata": {
    "execution": {
     "iopub.execute_input": "2024-06-01T14:05:13.107175Z",
     "iopub.status.busy": "2024-06-01T14:05:13.106941Z",
     "iopub.status.idle": "2024-06-01T14:05:13.166556Z",
     "shell.execute_reply": "2024-06-01T14:05:13.165742Z"
    },
    "papermill": {
     "duration": 0.08293,
     "end_time": "2024-06-01T14:05:13.168479",
     "exception": false,
     "start_time": "2024-06-01T14:05:13.085549",
     "status": "completed"
    },
    "tags": []
   },
   "outputs": [
    {
     "data": {
      "text/plain": [
       "<_MapDataset element_spec=({'input_ids': TensorSpec(shape=(256,), dtype=tf.float64, name=None), 'attention_mask': TensorSpec(shape=(256,), dtype=tf.float64, name=None)}, TensorSpec(shape=(10,), dtype=tf.float32, name=None))>"
      ]
     },
     "execution_count": 35,
     "metadata": {},
     "output_type": "execute_result"
    }
   ],
   "source": [
    "dataset = dataset.map(preprocess_data)\n",
    "dataset"
   ]
  },
  {
   "cell_type": "code",
   "execution_count": 36,
   "id": "3d9cf821",
   "metadata": {
    "execution": {
     "iopub.execute_input": "2024-06-01T14:05:13.211606Z",
     "iopub.status.busy": "2024-06-01T14:05:13.211328Z",
     "iopub.status.idle": "2024-06-01T14:05:13.223114Z",
     "shell.execute_reply": "2024-06-01T14:05:13.222343Z"
    },
    "papermill": {
     "duration": 0.035128,
     "end_time": "2024-06-01T14:05:13.224879",
     "exception": false,
     "start_time": "2024-06-01T14:05:13.189751",
     "status": "completed"
    },
    "tags": []
   },
   "outputs": [
    {
     "data": {
      "text/plain": [
       "<_BatchDataset element_spec=({'input_ids': TensorSpec(shape=(16, 256), dtype=tf.float64, name=None), 'attention_mask': TensorSpec(shape=(16, 256), dtype=tf.float64, name=None)}, TensorSpec(shape=(16, 10), dtype=tf.float32, name=None))>"
      ]
     },
     "execution_count": 36,
     "metadata": {},
     "output_type": "execute_result"
    }
   ],
   "source": [
    "batch_size = 16\n",
    "dataset = dataset.shuffle(10000).batch(batch_size, drop_remainder=True) \n",
    "dataset"
   ]
  },
  {
   "cell_type": "code",
   "execution_count": 37,
   "id": "c87bf4a6",
   "metadata": {
    "execution": {
     "iopub.execute_input": "2024-06-01T14:05:13.269880Z",
     "iopub.status.busy": "2024-06-01T14:05:13.269619Z",
     "iopub.status.idle": "2024-06-01T14:05:13.275212Z",
     "shell.execute_reply": "2024-06-01T14:05:13.274449Z"
    },
    "papermill": {
     "duration": 0.029139,
     "end_time": "2024-06-01T14:05:13.277084",
     "exception": false,
     "start_time": "2024-06-01T14:05:13.247945",
     "status": "completed"
    },
    "tags": []
   },
   "outputs": [
    {
     "data": {
      "text/plain": [
       "38"
      ]
     },
     "execution_count": 37,
     "metadata": {},
     "output_type": "execute_result"
    }
   ],
   "source": [
    "p = 0.7 \n",
    "train_size = int((len(df)//batch_size)*p) \n",
    "train_size"
   ]
  },
  {
   "cell_type": "code",
   "execution_count": 38,
   "id": "1c834edf",
   "metadata": {
    "execution": {
     "iopub.execute_input": "2024-06-01T14:05:13.320607Z",
     "iopub.status.busy": "2024-06-01T14:05:13.320320Z",
     "iopub.status.idle": "2024-06-01T14:05:13.335864Z",
     "shell.execute_reply": "2024-06-01T14:05:13.334989Z"
    },
    "papermill": {
     "duration": 0.03922,
     "end_time": "2024-06-01T14:05:13.337730",
     "exception": false,
     "start_time": "2024-06-01T14:05:13.298510",
     "status": "completed"
    },
    "tags": []
   },
   "outputs": [
    {
     "data": {
      "text/plain": [
       "(38, 8, 9)"
      ]
     },
     "execution_count": 38,
     "metadata": {},
     "output_type": "execute_result"
    }
   ],
   "source": [
    "train_dataset = dataset.take(train_size)\n",
    "val_test_dataset = dataset.skip(train_size)\n",
    "val_dataset = val_test_dataset.take(len(val_test_dataset)//2)\n",
    "test_dataset = val_test_dataset.skip(len(val_test_dataset)//2)\n",
    "#number of batches per dataset\n",
    "len(train_dataset), len(val_dataset), len(test_dataset)"
   ]
  },
  {
   "cell_type": "code",
   "execution_count": 39,
   "id": "9ee99ccb",
   "metadata": {
    "execution": {
     "iopub.execute_input": "2024-06-01T14:05:13.382919Z",
     "iopub.status.busy": "2024-06-01T14:05:13.382181Z",
     "iopub.status.idle": "2024-06-01T14:05:17.684394Z",
     "shell.execute_reply": "2024-06-01T14:05:17.683697Z"
    },
    "papermill": {
     "duration": 4.3264,
     "end_time": "2024-06-01T14:05:17.686260",
     "exception": false,
     "start_time": "2024-06-01T14:05:13.359860",
     "status": "completed"
    },
    "tags": []
   },
   "outputs": [
    {
     "data": {
      "application/vnd.jupyter.widget-view+json": {
       "model_id": "eae5e4298999499fabed0482fd4a4cc3",
       "version_major": 2,
       "version_minor": 0
      },
      "text/plain": [
       "model.safetensors:   0%|          | 0.00/436M [00:00<?, ?B/s]"
      ]
     },
     "metadata": {},
     "output_type": "display_data"
    },
    {
     "name": "stderr",
     "output_type": "stream",
     "text": [
      "Some weights of the PyTorch model were not used when initializing the TF 2.0 model TFBertModel: ['cls.predictions.transform.dense.bias', 'cls.predictions.transform.LayerNorm.weight', 'cls.predictions.transform.dense.weight', 'cls.seq_relationship.bias', 'cls.predictions.bias', 'cls.seq_relationship.weight', 'cls.predictions.transform.LayerNorm.bias']\n",
      "- This IS expected if you are initializing TFBertModel from a PyTorch model trained on another task or with another architecture (e.g. initializing a TFBertForSequenceClassification model from a BertForPreTraining model).\n",
      "- This IS NOT expected if you are initializing TFBertModel from a PyTorch model that you expect to be exactly identical (e.g. initializing a TFBertForSequenceClassification model from a BertForSequenceClassification model).\n",
      "All the weights of TFBertModel were initialized from the PyTorch model.\n",
      "If your task is similar to the task the model of the checkpoint was trained on, you can already use TFBertModel for predictions without further training.\n"
     ]
    }
   ],
   "source": [
    "from transformers import TFBertModel\n",
    "\n",
    "model = TFBertModel.from_pretrained('bert-base-cased') "
   ]
  },
  {
   "cell_type": "code",
   "execution_count": 40,
   "id": "01f39937",
   "metadata": {
    "execution": {
     "iopub.execute_input": "2024-06-01T14:05:17.733390Z",
     "iopub.status.busy": "2024-06-01T14:05:17.733087Z",
     "iopub.status.idle": "2024-06-01T14:05:17.738752Z",
     "shell.execute_reply": "2024-06-01T14:05:17.737938Z"
    },
    "papermill": {
     "duration": 0.032201,
     "end_time": "2024-06-01T14:05:17.740707",
     "exception": false,
     "start_time": "2024-06-01T14:05:17.708506",
     "status": "completed"
    },
    "tags": []
   },
   "outputs": [
    {
     "data": {
      "text/plain": [
       "(884, 10)"
      ]
     },
     "execution_count": 40,
     "metadata": {},
     "output_type": "execute_result"
    }
   ],
   "source": [
    "labels.shape"
   ]
  },
  {
   "cell_type": "code",
   "execution_count": 41,
   "id": "6769ca95",
   "metadata": {
    "execution": {
     "iopub.execute_input": "2024-06-01T14:05:17.785705Z",
     "iopub.status.busy": "2024-06-01T14:05:17.785419Z",
     "iopub.status.idle": "2024-06-01T14:05:17.790862Z",
     "shell.execute_reply": "2024-06-01T14:05:17.790050Z"
    },
    "papermill": {
     "duration": 0.030014,
     "end_time": "2024-06-01T14:05:17.792760",
     "exception": false,
     "start_time": "2024-06-01T14:05:17.762746",
     "status": "completed"
    },
    "tags": []
   },
   "outputs": [
    {
     "data": {
      "text/plain": [
       "<_TakeDataset element_spec=({'input_ids': TensorSpec(shape=(16, 256), dtype=tf.float64, name=None), 'attention_mask': TensorSpec(shape=(16, 256), dtype=tf.float64, name=None)}, TensorSpec(shape=(16, 10), dtype=tf.float32, name=None))>"
      ]
     },
     "execution_count": 41,
     "metadata": {},
     "output_type": "execute_result"
    }
   ],
   "source": [
    "train_dataset"
   ]
  },
  {
   "cell_type": "code",
   "execution_count": 42,
   "id": "cd804782",
   "metadata": {
    "execution": {
     "iopub.execute_input": "2024-06-01T14:05:17.838399Z",
     "iopub.status.busy": "2024-06-01T14:05:17.837945Z",
     "iopub.status.idle": "2024-06-01T14:05:17.841598Z",
     "shell.execute_reply": "2024-06-01T14:05:17.840749Z"
    },
    "papermill": {
     "duration": 0.028203,
     "end_time": "2024-06-01T14:05:17.843447",
     "exception": false,
     "start_time": "2024-06-01T14:05:17.815244",
     "status": "completed"
    },
    "tags": []
   },
   "outputs": [],
   "source": [
    "# Apply the preprocessing function to the datasets\n",
    "# train_dataset = train_dataset.map(lambda input_ids, attention_mask, labels: preprocess_data(input_ids, attention_mask, labels))\n",
    "# val_dataset = val_dataset.map(lambda input_ids, attention_mask, labels: preprocess_data(input_ids, attention_mask, labels))\n"
   ]
  },
  {
   "cell_type": "code",
   "execution_count": 43,
   "id": "eed755ae",
   "metadata": {
    "execution": {
     "iopub.execute_input": "2024-06-01T14:05:17.888318Z",
     "iopub.status.busy": "2024-06-01T14:05:17.888044Z",
     "iopub.status.idle": "2024-06-01T14:05:38.648485Z",
     "shell.execute_reply": "2024-06-01T14:05:38.647575Z"
    },
    "papermill": {
     "duration": 20.785282,
     "end_time": "2024-06-01T14:05:38.650465",
     "exception": false,
     "start_time": "2024-06-01T14:05:17.865183",
     "status": "completed"
    },
    "tags": []
   },
   "outputs": [
    {
     "name": "stdout",
     "output_type": "stream",
     "text": [
      "Model: \"model\"\n",
      "__________________________________________________________________________________________________\n",
      " Layer (type)                Output Shape                 Param #   Connected to                  \n",
      "==================================================================================================\n",
      " input_ids (InputLayer)      [(None, 256)]                0         []                            \n",
      "                                                                                                  \n",
      " attention_mask (InputLayer  [(None, 256)]                0         []                            \n",
      " )                                                                                                \n",
      "                                                                                                  \n",
      " bert (TFBertMainLayer)      TFBaseModelOutputWithPooli   1083102   ['input_ids[0][0]',           \n",
      "                             ngAndCrossAttentions(last_   72         'attention_mask[0][0]']      \n",
      "                             hidden_state=(None, 256, 7                                           \n",
      "                             68),                                                                 \n",
      "                              pooler_output=(None, 768)                                           \n",
      "                             , past_key_values=None, hi                                           \n",
      "                             dden_states=None, attentio                                           \n",
      "                             ns=None, cross_attentions=                                           \n",
      "                             None)                                                                \n",
      "                                                                                                  \n",
      " hidden_layer (Dense)        (None, 512)                  393728    ['bert[0][1]']                \n",
      "                                                                                                  \n",
      " output_layer (Dense)        (None, 10)                   5130      ['hidden_layer[0][0]']        \n",
      "                                                                                                  \n",
      "==================================================================================================\n",
      "Total params: 108709130 (414.69 MB)\n",
      "Trainable params: 108709130 (414.69 MB)\n",
      "Non-trainable params: 0 (0.00 Byte)\n",
      "__________________________________________________________________________________________________\n"
     ]
    }
   ],
   "source": [
    "# defining 2 input layers for input_ids and attn_masks\n",
    "input_ids = tf.keras.layers.Input(shape=(256,), name='input_ids', dtype='int32')\n",
    "attn_masks = tf.keras.layers.Input(shape=(256,), name='attention_mask', dtype='int32')\n",
    "\n",
    "bert_embds = model.bert(input_ids, attention_mask=attn_masks)[1] \n",
    "hidden_layer = tf.keras.layers.Dense(512, activation='relu', name='hidden_layer')(bert_embds)\n",
    "output_layer = tf.keras.layers.Dense(labels.shape[1], activation='sigmoid', name='output_layer')(hidden_layer) \n",
    "\n",
    "model = tf.keras.Model(inputs=[input_ids, attn_masks], outputs=output_layer)\n",
    "model.summary()"
   ]
  },
  {
   "cell_type": "code",
   "execution_count": 44,
   "id": "004714e2",
   "metadata": {
    "execution": {
     "iopub.execute_input": "2024-06-01T14:05:38.701972Z",
     "iopub.status.busy": "2024-06-01T14:05:38.701375Z",
     "iopub.status.idle": "2024-06-01T14:05:38.727023Z",
     "shell.execute_reply": "2024-06-01T14:05:38.726310Z"
    },
    "papermill": {
     "duration": 0.053025,
     "end_time": "2024-06-01T14:05:38.728886",
     "exception": false,
     "start_time": "2024-06-01T14:05:38.675861",
     "status": "completed"
    },
    "tags": []
   },
   "outputs": [],
   "source": [
    "optimizer = tf.keras.optimizers.legacy.Adam(learning_rate=3e-5)\n",
    "loss = tf.keras.losses.BinaryCrossentropy()\n",
    "metrics = [\n",
    "    tf.keras.metrics.BinaryAccuracy(name='accuracy'), \n",
    "    tf.keras.metrics.F1Score(name='f1_score')\n",
    "]\n",
    "\n",
    "model.compile(optimizer=optimizer, loss=loss, metrics=metrics)"
   ]
  },
  {
   "cell_type": "code",
   "execution_count": 45,
   "id": "4151db69",
   "metadata": {
    "execution": {
     "iopub.execute_input": "2024-06-01T14:05:38.778892Z",
     "iopub.status.busy": "2024-06-01T14:05:38.778255Z",
     "iopub.status.idle": "2024-06-01T14:12:31.875924Z",
     "shell.execute_reply": "2024-06-01T14:12:31.875095Z"
    },
    "papermill": {
     "duration": 413.125011,
     "end_time": "2024-06-01T14:12:31.877927",
     "exception": false,
     "start_time": "2024-06-01T14:05:38.752916",
     "status": "completed"
    },
    "tags": []
   },
   "outputs": [
    {
     "name": "stdout",
     "output_type": "stream",
     "text": [
      "Epoch 1/10\n",
      "38/38 [==============================] - 101s 1s/step - loss: 0.3849 - accuracy: 0.8579 - f1_score: 0.0985 - val_loss: 0.3330 - val_accuracy: 0.8906 - val_f1_score: 0.1249\n",
      "Epoch 2/10\n",
      "38/38 [==============================] - 35s 921ms/step - loss: 0.2897 - accuracy: 0.8951 - f1_score: 0.3258 - val_loss: 0.2151 - val_accuracy: 0.9344 - val_f1_score: 0.4086\n",
      "Epoch 3/10\n",
      "38/38 [==============================] - 35s 909ms/step - loss: 0.2149 - accuracy: 0.9278 - f1_score: 0.5160 - val_loss: 0.1641 - val_accuracy: 0.9531 - val_f1_score: 0.6319\n",
      "Epoch 4/10\n",
      "38/38 [==============================] - 35s 910ms/step - loss: 0.1544 - accuracy: 0.9516 - f1_score: 0.6513 - val_loss: 0.1465 - val_accuracy: 0.9531 - val_f1_score: 0.7007\n",
      "Epoch 5/10\n",
      "38/38 [==============================] - 35s 914ms/step - loss: 0.1297 - accuracy: 0.9605 - f1_score: 0.7478 - val_loss: 0.1044 - val_accuracy: 0.9711 - val_f1_score: 0.8133\n",
      "Epoch 6/10\n",
      "38/38 [==============================] - 35s 912ms/step - loss: 0.1027 - accuracy: 0.9679 - f1_score: 0.7854 - val_loss: 0.0994 - val_accuracy: 0.9719 - val_f1_score: 0.8356\n",
      "Epoch 7/10\n",
      "38/38 [==============================] - 35s 912ms/step - loss: 0.0816 - accuracy: 0.9758 - f1_score: 0.8345 - val_loss: 0.0705 - val_accuracy: 0.9797 - val_f1_score: 0.8208\n",
      "Epoch 8/10\n",
      "38/38 [==============================] - 35s 912ms/step - loss: 0.0745 - accuracy: 0.9776 - f1_score: 0.8438 - val_loss: 0.0552 - val_accuracy: 0.9852 - val_f1_score: 0.8519\n",
      "Epoch 9/10\n",
      "38/38 [==============================] - 35s 913ms/step - loss: 0.0640 - accuracy: 0.9811 - f1_score: 0.8510 - val_loss: 0.0548 - val_accuracy: 0.9852 - val_f1_score: 0.8648\n",
      "Epoch 10/10\n",
      "38/38 [==============================] - 35s 913ms/step - loss: 0.0497 - accuracy: 0.9859 - f1_score: 0.8735 - val_loss: 0.0376 - val_accuracy: 0.9906 - val_f1_score: 0.8863\n"
     ]
    }
   ],
   "source": [
    "history = model.fit(train_dataset, epochs=10, validation_data=val_dataset, verbose=1, batch_size=batch_size, shuffle=True)"
   ]
  },
  {
   "cell_type": "code",
   "execution_count": 46,
   "id": "4cbd60d2",
   "metadata": {
    "execution": {
     "iopub.execute_input": "2024-06-01T14:12:31.991316Z",
     "iopub.status.busy": "2024-06-01T14:12:31.990575Z",
     "iopub.status.idle": "2024-06-01T14:12:31.997417Z",
     "shell.execute_reply": "2024-06-01T14:12:31.996582Z"
    },
    "papermill": {
     "duration": 0.065716,
     "end_time": "2024-06-01T14:12:31.999359",
     "exception": false,
     "start_time": "2024-06-01T14:12:31.933643",
     "status": "completed"
    },
    "tags": []
   },
   "outputs": [],
   "source": [
    "import matplotlib.pyplot as plt\n",
    "def plot_results(history):\n",
    "  plt.plot(history.history['accuracy'])\n",
    "  plt.plot(history.history['val_accuracy'])\n",
    "  plt.title('model accuracy')\n",
    "  plt.ylabel('accuracy')\n",
    "  plt.xlabel('epoch')\n",
    "  plt.legend(['train','test'], loc='upper left')\n",
    "  plt.show()\n",
    "\n",
    "  plt.plot(history.history['loss'])\n",
    "  plt.plot(history.history['val_loss'])\n",
    "  plt.title('model loss')\n",
    "  plt.ylabel('loss')\n",
    "  plt.xlabel('epoch')\n",
    "  plt.legend(['train','test'], loc='upper left')\n",
    "  plt.show()\n"
   ]
  },
  {
   "cell_type": "code",
   "execution_count": 47,
   "id": "8f148632",
   "metadata": {
    "execution": {
     "iopub.execute_input": "2024-06-01T14:12:32.110254Z",
     "iopub.status.busy": "2024-06-01T14:12:32.109985Z",
     "iopub.status.idle": "2024-06-01T14:12:32.729497Z",
     "shell.execute_reply": "2024-06-01T14:12:32.728607Z"
    },
    "papermill": {
     "duration": 0.677513,
     "end_time": "2024-06-01T14:12:32.731667",
     "exception": false,
     "start_time": "2024-06-01T14:12:32.054154",
     "status": "completed"
    },
    "tags": []
   },
   "outputs": [
    {
     "data": {
      "image/png": "[encoded data removed]",
      "text/plain": [
       "<Figure size 1500x300 with 1 Axes>"
      ]
     },
     "metadata": {},
     "output_type": "display_data"
    },
    {
     "data": {
      "image/png": "[encoded data removed]",
      "text/plain": [
       "<Figure size 1500x300 with 1 Axes>"
      ]
     },
     "metadata": {},
     "output_type": "display_data"
    }
   ],
   "source": [
    "plot_results(history)"
   ]
  },
  {
   "cell_type": "code",
   "execution_count": 48,
   "id": "edbe617e",
   "metadata": {
    "execution": {
     "iopub.execute_input": "2024-06-01T14:12:32.851211Z",
     "iopub.status.busy": "2024-06-01T14:12:32.850881Z",
     "iopub.status.idle": "2024-06-01T14:12:32.858502Z",
     "shell.execute_reply": "2024-06-01T14:12:32.857724Z"
    },
    "papermill": {
     "duration": 0.069782,
     "end_time": "2024-06-01T14:12:32.860454",
     "exception": false,
     "start_time": "2024-06-01T14:12:32.790672",
     "status": "completed"
    },
    "tags": []
   },
   "outputs": [],
   "source": [
    "def prepare_data(input_text, tokenizer):\n",
    "    input_text = clean_text(input_text)\n",
    "    token = tokenizer.encode_plus(\n",
    "        input_text,\n",
    "        max_length=256, \n",
    "        truncation=True, \n",
    "        padding='max_length', \n",
    "        add_special_tokens=True,\n",
    "        return_tensors='tf'\n",
    "    )\n",
    "    return {\n",
    "        'input_ids': tf.cast(token.input_ids, tf.float64),\n",
    "        'attention_mask': tf.cast(token.attention_mask, tf.float64)\n",
    "    }\n",
    "\n",
    "def make_prediction(model, processed_data, classes=['Business and Industry', 'Entertainment', 'Outdoors', 'Technology', 'family and relationships', 'fitness and wellness', 'food and drink', 'hobbies and activities', 'shopping and fashion', 'sports']):\n",
    "    probs = model.predict(processed_data)[0]\n",
    "    threshold = 0.5\n",
    "    return pd.Series(data=probs, index=classes)[lambda x: x > threshold].sort_values(ascending=False)"
   ]
  },
  {
   "cell_type": "code",
   "execution_count": 49,
   "id": "57e95f41",
   "metadata": {
    "execution": {
     "iopub.execute_input": "2024-06-01T14:12:32.976950Z",
     "iopub.status.busy": "2024-06-01T14:12:32.976672Z",
     "iopub.status.idle": "2024-06-01T14:12:35.550940Z",
     "shell.execute_reply": "2024-06-01T14:12:35.549812Z"
    },
    "papermill": {
     "duration": 2.633691,
     "end_time": "2024-06-01T14:12:35.553191",
     "exception": false,
     "start_time": "2024-06-01T14:12:32.919500",
     "status": "completed"
    },
    "tags": []
   },
   "outputs": [
    {
     "name": "stdout",
     "output_type": "stream",
     "text": [
      "9/9 [==============================] - 3s 281ms/step - loss: 0.0387 - accuracy: 0.9910 - f1_score: 0.8690\n",
      "Test loss: 0.03874034434556961\n",
      "Test accuracy: 0.9909722208976746\n",
      "Test F1 score: [0.2608696  0.9714286  1.         0.94117653 0.6666667  0.96000004\n",
      " 1.         0.95238096 0.9777778  0.96      ]\n"
     ]
    }
   ],
   "source": [
    "# Score the model on the test data and show random samples\n",
    "# Evaluate the model on the test data\n",
    "test_loss, test_acc, test_f1 = model.evaluate(test_dataset.take(10), verbose=1)\n",
    "\n",
    "# Print the test results\n",
    "print(f'Test loss: {test_loss}')\n",
    "print(f'Test accuracy: {test_acc}')\n",
    "print(f'Test F1 score: {test_f1}')\n"
   ]
  },
  {
   "cell_type": "code",
   "execution_count": 50,
   "id": "f99406b5",
   "metadata": {
    "execution": {
     "iopub.execute_input": "2024-06-01T14:12:35.681342Z",
     "iopub.status.busy": "2024-06-01T14:12:35.680413Z",
     "iopub.status.idle": "2024-06-01T14:12:50.284258Z",
     "shell.execute_reply": "2024-06-01T14:12:50.283512Z"
    },
    "papermill": {
     "duration": 14.66738,
     "end_time": "2024-06-01T14:12:50.286351",
     "exception": false,
     "start_time": "2024-06-01T14:12:35.618971",
     "status": "completed"
    },
    "tags": []
   },
   "outputs": [
    {
     "name": "stdout",
     "output_type": "stream",
     "text": [
      "1/1 [==============================] - 11s 11s/step\n",
      "1/1 [==============================] - 0s 291ms/step\n",
      "1/1 [==============================] - 0s 289ms/step\n",
      "1/1 [==============================] - 0s 289ms/step\n",
      "1/1 [==============================] - 0s 300ms/step\n",
      "1/1 [==============================] - 0s 293ms/step\n",
      "1/1 [==============================] - 0s 290ms/step\n",
      "1/1 [==============================] - 0s 290ms/step\n",
      "1/1 [==============================] - 0s 289ms/step\n"
     ]
    }
   ],
   "source": [
    "from sklearn.metrics import classification_report, accuracy_score\n",
    "y_true = []  \n",
    "y_pred = []  \n",
    "\n",
    "for batch in test_dataset.take(10):\n",
    "    inputs, targets = batch\n",
    "    predictions = model.predict(inputs)\n",
    "    predicted_labels = np.round(predictions) \n",
    "    y_true.extend(targets.numpy().tolist())\n",
    "    y_pred.extend(predicted_labels.tolist())\n",
    "\n",
    "y_true = np.array(y_true)\n",
    "y_pred = np.array(y_pred)\n",
    "\n",
    "accuracy = accuracy_score(y_true, y_pred)\n",
    "\n",
    "report = classification_report(y_true, y_pred, target_names=['Business and Industry', 'Entertainment', 'Outdoors', 'Technology', 'family and relationships', 'fitness and wellness', 'food and drink', 'hobbies and activities', 'shopping and fashion', 'sports'], zero_division=0, output_dict=True)"
   ]
  },
  {
   "cell_type": "code",
   "execution_count": 51,
   "id": "44ea2814",
   "metadata": {
    "execution": {
     "iopub.execute_input": "2024-06-01T14:12:50.410083Z",
     "iopub.status.busy": "2024-06-01T14:12:50.409759Z",
     "iopub.status.idle": "2024-06-01T14:12:50.811396Z",
     "shell.execute_reply": "2024-06-01T14:12:50.810450Z"
    },
    "papermill": {
     "duration": 0.464918,
     "end_time": "2024-06-01T14:12:50.813970",
     "exception": false,
     "start_time": "2024-06-01T14:12:50.349052",
     "status": "completed"
    },
    "tags": []
   },
   "outputs": [
    {
     "data": {
      "image/png": "[encoded data removed]",
      "text/plain": [
       "<Figure size 1500x300 with 1 Axes>"
      ]
     },
     "metadata": {},
     "output_type": "display_data"
    }
   ],
   "source": [
    "# Extract the metrics from the classification report\n",
    "class_names = ['Business and Industry', 'Entertainment', 'Outdoors', 'Technology', 'family and relationships', 'fitness and wellness', 'food and drink', 'hobbies and activities', 'shopping and fashion', 'sports']\n",
    "metrics = ['precision', 'recall', 'f1-score']\n",
    "\n",
    "fig, ax = plt.subplots()\n",
    "x = np.arange(len(class_names))\n",
    "width = 0.2\n",
    "for i, metric in enumerate(metrics):\n",
    "    metric_values = [report[class_name][metric] for class_name in class_names]\n",
    "    ax.bar(x + i * width, metric_values, width, label=metric)\n",
    "\n",
    "ax.set_xticks(x + width)\n",
    "ax.set_xticklabels(class_names, rotation=90)\n",
    "ax.set_ylabel('Score')\n",
    "ax.set_title('Classification Metrics')\n",
    "ax.legend()\n",
    "\n",
    "# Show the plot\n",
    "plt.show()"
   ]
  },
  {
   "cell_type": "code",
   "execution_count": 52,
   "id": "28cb2043",
   "metadata": {
    "execution": {
     "iopub.execute_input": "2024-06-01T14:12:50.942587Z",
     "iopub.status.busy": "2024-06-01T14:12:50.941684Z",
     "iopub.status.idle": "2024-06-01T14:12:50.946798Z",
     "shell.execute_reply": "2024-06-01T14:12:50.945832Z"
    },
    "papermill": {
     "duration": 0.070505,
     "end_time": "2024-06-01T14:12:50.948724",
     "exception": false,
     "start_time": "2024-06-01T14:12:50.878219",
     "status": "completed"
    },
    "tags": []
   },
   "outputs": [
    {
     "name": "stdout",
     "output_type": "stream",
     "text": [
      "{'precision': 0.9634146341463414, 'recall': 0.9634146341463414, 'f1-score': 0.9634146341463414, 'support': 164}\n"
     ]
    }
   ],
   "source": [
    "print(report['micro avg'])\n"
   ]
  },
  {
   "cell_type": "code",
   "execution_count": 53,
   "id": "b92fdefd",
   "metadata": {
    "execution": {
     "iopub.execute_input": "2024-06-01T14:12:51.071441Z",
     "iopub.status.busy": "2024-06-01T14:12:51.070867Z",
     "iopub.status.idle": "2024-06-01T14:12:53.591851Z",
     "shell.execute_reply": "2024-06-01T14:12:53.591043Z"
    },
    "papermill": {
     "duration": 2.584609,
     "end_time": "2024-06-01T14:12:53.594111",
     "exception": false,
     "start_time": "2024-06-01T14:12:51.009502",
     "status": "completed"
    },
    "tags": []
   },
   "outputs": [
    {
     "name": "stderr",
     "output_type": "stream",
     "text": [
      "/opt/conda/lib/python3.10/site-packages/tf_keras/src/engine/training.py:3098: UserWarning: You are saving your model as an HDF5 file via `model.save()`. This file format is considered legacy. We recommend using instead the native TF-Keras format, e.g. `model.save('my_model.keras')`.\n",
      "  saving_api.save_model(\n"
     ]
    }
   ],
   "source": [
    "model.save('bert_model.h5')  # Saves the entire model to a HDF5 file"
   ]
  },
  {
   "cell_type": "code",
   "execution_count": 54,
   "id": "d48a4cac",
   "metadata": {
    "execution": {
     "iopub.execute_input": "2024-06-01T14:12:53.716630Z",
     "iopub.status.busy": "2024-06-01T14:12:53.716320Z",
     "iopub.status.idle": "2024-06-01T14:12:53.720393Z",
     "shell.execute_reply": "2024-06-01T14:12:53.719561Z"
    },
    "papermill": {
     "duration": 0.066457,
     "end_time": "2024-06-01T14:12:53.722193",
     "exception": false,
     "start_time": "2024-06-01T14:12:53.655736",
     "status": "completed"
    },
    "tags": []
   },
   "outputs": [],
   "source": [
    "import os\n",
    "os.chdir(r'/kaggle/working')"
   ]
  },
  {
   "cell_type": "code",
   "execution_count": 55,
   "id": "37b663f6",
   "metadata": {
    "execution": {
     "iopub.execute_input": "2024-06-01T14:12:53.843853Z",
     "iopub.status.busy": "2024-06-01T14:12:53.843559Z",
     "iopub.status.idle": "2024-06-01T14:12:53.849670Z",
     "shell.execute_reply": "2024-06-01T14:12:53.848420Z"
    },
    "papermill": {
     "duration": 0.069983,
     "end_time": "2024-06-01T14:12:53.851489",
     "exception": false,
     "start_time": "2024-06-01T14:12:53.781506",
     "status": "completed"
    },
    "tags": []
   },
   "outputs": [
    {
     "name": "stdout",
     "output_type": "stream",
     "text": [
      "/kaggle/working\n"
     ]
    }
   ],
   "source": [
    "%cd /kaggle/working"
   ]
  },
  {
   "cell_type": "code",
   "execution_count": 56,
   "id": "5c3a0443",
   "metadata": {
    "execution": {
     "iopub.execute_input": "2024-06-01T14:12:53.972916Z",
     "iopub.status.busy": "2024-06-01T14:12:53.972206Z",
     "iopub.status.idle": "2024-06-01T14:12:54.984206Z",
     "shell.execute_reply": "2024-06-01T14:12:54.983244Z"
    },
    "papermill": {
     "duration": 1.075477,
     "end_time": "2024-06-01T14:12:54.986388",
     "exception": false,
     "start_time": "2024-06-01T14:12:53.910911",
     "status": "completed"
    },
    "tags": []
   },
   "outputs": [
    {
     "name": "stderr",
     "output_type": "stream",
     "text": [
      "/opt/conda/lib/python3.10/pty.py:89: RuntimeWarning: os.fork() was called. os.fork() is incompatible with multithreaded code, and JAX is multithreaded, so this will likely lead to a deadlock.\n",
      "  pid, fd = os.forkpty()\n"
     ]
    },
    {
     "name": "stdout",
     "output_type": "stream",
     "text": [
      "__notebook__.ipynb  bert_model.h5\r\n"
     ]
    }
   ],
   "source": [
    "%ls"
   ]
  },
  {
   "cell_type": "code",
   "execution_count": 57,
   "id": "ee98a9eb",
   "metadata": {
    "execution": {
     "iopub.execute_input": "2024-06-01T14:12:55.113691Z",
     "iopub.status.busy": "2024-06-01T14:12:55.113348Z",
     "iopub.status.idle": "2024-06-01T14:12:55.120543Z",
     "shell.execute_reply": "2024-06-01T14:12:55.119607Z"
    },
    "papermill": {
     "duration": 0.073641,
     "end_time": "2024-06-01T14:12:55.122857",
     "exception": false,
     "start_time": "2024-06-01T14:12:55.049216",
     "status": "completed"
    },
    "tags": []
   },
   "outputs": [
    {
     "data": {
      "text/html": [
       "<a href='bert_model.h5' target='_blank'>bert_model.h5</a><br>"
      ],
      "text/plain": [
       "/kaggle/working/bert_model.h5"
      ]
     },
     "execution_count": 57,
     "metadata": {},
     "output_type": "execute_result"
    }
   ],
   "source": [
    "from IPython.display import FileLink\n",
    "FileLink(r'bert_model.h5')"
   ]
  },
  {
   "cell_type": "markdown",
   "id": "07edd485",
   "metadata": {
    "papermill": {
     "duration": 0.061415,
     "end_time": "2024-06-01T14:12:55.250385",
     "exception": false,
     "start_time": "2024-06-01T14:12:55.188970",
     "status": "completed"
    },
    "tags": []
   },
   "source": [
    "pytorch bert"
   ]
  }
 ],
 "metadata": {
  "kaggle": {
   "accelerator": "nvidiaTeslaT4",
   "dataSources": [
    {
     "datasetId": 5120109,
     "sourceId": 8564514,
     "sourceType": "datasetVersion"
    },
    {
     "datasetId": 5120511,
     "sourceId": 8565160,
     "sourceType": "datasetVersion"
    },
    {
     "datasetId": 5125673,
     "sourceId": 8572092,
     "sourceType": "datasetVersion"
    }
   ],
   "dockerImageVersionId": 30716,
   "isGpuEnabled": true,
   "isInternetEnabled": true,
   "language": "python",
   "sourceType": "notebook"
  },
  "kernelspec": {
   "display_name": "Python 3",
   "language": "python",
   "name": "python3"
  },
  "language_info": {
   "codemirror_mode": {
    "name": "ipython",
    "version": 3
   },
   "file_extension": ".py",
   "mimetype": "text/x-python",
   "name": "python",
   "nbconvert_exporter": "python",
   "pygments_lexer": "ipython3",
   "version": "3.10.13"
  },
  "papermill": {
   "default_parameters": {},
   "duration": 697.4584,
   "end_time": "2024-06-01T14:12:58.852367",
   "environment_variables": {},
   "exception": null,
   "input_path": "__notebook__.ipynb",
   "output_path": "__notebook__.ipynb",
   "parameters": {},
   "start_time": "2024-06-01T14:01:21.393967",
   "version": "2.5.0"
  },
  "widgets": {
   "application/vnd.jupyter.widget-state+json": {
    "state": {
     "013486bfa0154bc1a5cec022f888b9d4": {
      "model_module": "@jupyter-widgets/controls",
      "model_module_version": "1.5.0",
      "model_name": "HBoxModel",
      "state": {
       "_dom_classes": [],
       "_model_module": "@jupyter-widgets/controls",
       "_model_module_version": "1.5.0",
       "_model_name": "HBoxModel",
       "_view_count": null,
       "_view_module": "@jupyter-widgets/controls",
       "_view_module_version": "1.5.0",
       "_view_name": "HBoxView",
       "box_style": "",
       "children": [
        "IPY_MODEL_093f32f4dd9f41ea9ffef0f366b72e2e",
        "IPY_MODEL_6b36e5224e02435f9b6af0c03855ab6e",
        "IPY_MODEL_fb30560704314355983da7f42a6b4228"
       ],
       "layout": "IPY_MODEL_a39f86419b7045f3981fd6adc4d9b3da"
      }
     },
     "0330ccba753e4767a07806d9ec32587c": {
      "model_module": "@jupyter-widgets/controls",
      "model_module_version": "1.5.0",
      "model_name": "DescriptionStyleModel",
      "state": {
       "_model_module": "@jupyter-widgets/controls",
       "_model_module_version": "1.5.0",
       "_model_name": "DescriptionStyleModel",
       "_view_count": null,
       "_view_module": "@jupyter-widgets/base",
       "_view_module_version": "1.2.0",
       "_view_name": "StyleView",
       "description_width": ""
      }
     },
     "0530c188d4f94196a76f18e16a1d822c": {
      "model_module": "@jupyter-widgets/controls",
      "model_module_version": "1.5.0",
      "model_name": "DescriptionStyleModel",
      "state": {
       "_model_module": "@jupyter-widgets/controls",
       "_model_module_version": "1.5.0",
       "_model_name": "DescriptionStyleModel",
       "_view_count": null,
       "_view_module": "@jupyter-widgets/base",
       "_view_module_version": "1.2.0",
       "_view_name": "StyleView",
       "description_width": ""
      }
     },
     "065e6a47221e46dab565d6ff9a0798ca": {
      "model_module": "@jupyter-widgets/controls",
      "model_module_version": "1.5.0",
      "model_name": "FloatProgressModel",
      "state": {
       "_dom_classes": [],
       "_model_module": "@jupyter-widgets/controls",
       "_model_module_version": "1.5.0",
       "_model_name": "FloatProgressModel",
       "_view_count": null,
       "_view_module": "@jupyter-widgets/controls",
       "_view_module_version": "1.5.0",
       "_view_name": "ProgressView",
       "bar_style": "success",
       "description": "",
       "description_tooltip": null,
       "layout": "IPY_MODEL_1d55d65d73fe4227a600b77ba73874b6",
       "max": 435797.0,
       "min": 0.0,
       "orientation": "horizontal",
       "style": "IPY_MODEL_adaea50d44af4d58bc36a25d6d3f34eb",
       "value": 435797.0
      }
     },
     "093f32f4dd9f41ea9ffef0f366b72e2e": {
      "model_module": "@jupyter-widgets/controls",
      "model_module_version": "1.5.0",
      "model_name": "HTMLModel",
      "state": {
       "_dom_classes": [],
       "_model_module": "@jupyter-widgets/controls",
       "_model_module_version": "1.5.0",
       "_model_name": "HTMLModel",
       "_view_count": null,
       "_view_module": "@jupyter-widgets/controls",
       "_view_module_version": "1.5.0",
       "_view_name": "HTMLView",
       "description": "",
       "description_tooltip": null,
       "layout": "IPY_MODEL_0a4720264d2344b7b7da04ece1085656",
       "placeholder": "​",
       "style": "IPY_MODEL_4a99cecf65994e57a26d06c1378e825c",
       "value": "tokenizer_config.json: 100%"
      }
     },
     "0a4720264d2344b7b7da04ece1085656": {
      "model_module": "@jupyter-widgets/base",
      "model_module_version": "1.2.0",
      "model_name": "LayoutModel",
      "state": {
       "_model_module": "@jupyter-widgets/base",
       "_model_module_version": "1.2.0",
       "_model_name": "LayoutModel",
       "_view_count": null,
       "_view_module": "@jupyter-widgets/base",
       "_view_module_version": "1.2.0",
       "_view_name": "LayoutView",
       "align_content": null,
       "align_items": null,
       "align_self": null,
       "border": null,
       "bottom": null,
       "display": null,
       "flex": null,
       "flex_flow": null,
       "grid_area": null,
       "grid_auto_columns": null,
       "grid_auto_flow": null,
       "grid_auto_rows": null,
       "grid_column": null,
       "grid_gap": null,
       "grid_row": null,
       "grid_template_areas": null,
       "grid_template_columns": null,
       "grid_template_rows": null,
       "height": null,
       "justify_content": null,
       "justify_items": null,
       "left": null,
       "margin": null,
       "max_height": null,
       "max_width": null,
       "min_height": null,
       "min_width": null,
       "object_fit": null,
       "object_position": null,
       "order": null,
       "overflow": null,
       "overflow_x": null,
       "overflow_y": null,
       "padding": null,
       "right": null,
       "top": null,
       "visibility": null,
       "width": null
      }
     },
     "1322605cd77d44fba4530af72a884a0e": {
      "model_module": "@jupyter-widgets/base",
      "model_module_version": "1.2.0",
      "model_name": "LayoutModel",
      "state": {
       "_model_module": "@jupyter-widgets/base",
       "_model_module_version": "1.2.0",
       "_model_name": "LayoutModel",
       "_view_count": null,
       "_view_module": "@jupyter-widgets/base",
       "_view_module_version": "1.2.0",
       "_view_name": "LayoutView",
       "align_content": null,
       "align_items": null,
       "align_self": null,
       "border": null,
       "bottom": null,
       "display": null,
       "flex": null,
       "flex_flow": null,
       "grid_area": null,
       "grid_auto_columns": null,
       "grid_auto_flow": null,
       "grid_auto_rows": null,
       "grid_column": null,
       "grid_gap": null,
       "grid_row": null,
       "grid_template_areas": null,
       "grid_template_columns": null,
       "grid_template_rows": null,
       "height": null,
       "justify_content": null,
       "justify_items": null,
       "left": null,
       "margin": null,
       "max_height": null,
       "max_width": null,
       "min_height": null,
       "min_width": null,
       "object_fit": null,
       "object_position": null,
       "order": null,
       "overflow": null,
       "overflow_x": null,
       "overflow_y": null,
       "padding": null,
       "right": null,
       "top": null,
       "visibility": null,
       "width": null
      }
     },
     "1809f39f84ac432d85f8b441da369151": {
      "model_module": "@jupyter-widgets/controls",
      "model_module_version": "1.5.0",
      "model_name": "HTMLModel",
      "state": {
       "_dom_classes": [],
       "_model_module": "@jupyter-widgets/controls",
       "_model_module_version": "1.5.0",
       "_model_name": "HTMLModel",
       "_view_count": null,
       "_view_module": "@jupyter-widgets/controls",
       "_view_module_version": "1.5.0",
       "_view_name": "HTMLView",
       "description": "",
       "description_tooltip": null,
       "layout": "IPY_MODEL_4ed89731ada244a8b05e4e93f442df1c",
       "placeholder": "​",
       "style": "IPY_MODEL_21c76f96a0404927876769749a55c18d",
       "value": "model.safetensors: 100%"
      }
     },
     "1d55d65d73fe4227a600b77ba73874b6": {
      "model_module": "@jupyter-widgets/base",
      "model_module_version": "1.2.0",
      "model_name": "LayoutModel",
      "state": {
       "_model_module": "@jupyter-widgets/base",
       "_model_module_version": "1.2.0",
       "_model_name": "LayoutModel",
       "_view_count": null,
       "_view_module": "@jupyter-widgets/base",
       "_view_module_version": "1.2.0",
       "_view_name": "LayoutView",
       "align_content": null,
       "align_items": null,
       "align_self": null,
       "border": null,
       "bottom": null,
       "display": null,
       "flex": null,
       "flex_flow": null,
       "grid_area": null,
       "grid_auto_columns": null,
       "grid_auto_flow": null,
       "grid_auto_rows": null,
       "grid_column": null,
       "grid_gap": null,
       "grid_row": null,
       "grid_template_areas": null,
       "grid_template_columns": null,
       "grid_template_rows": null,
       "height": null,
       "justify_content": null,
       "justify_items": null,
       "left": null,
       "margin": null,
       "max_height": null,
       "max_width": null,
       "min_height": null,
       "min_width": null,
       "object_fit": null,
       "object_position": null,
       "order": null,
       "overflow": null,
       "overflow_x": null,
       "overflow_y": null,
       "padding": null,
       "right": null,
       "top": null,
       "visibility": null,
       "width": null
      }
     },
     "1de5837f8eca4c0bb47e9255180f78d0": {
      "model_module": "@jupyter-widgets/controls",
      "model_module_version": "1.5.0",
      "model_name": "HTMLModel",
      "state": {
       "_dom_classes": [],
       "_model_module": "@jupyter-widgets/controls",
       "_model_module_version": "1.5.0",
       "_model_name": "HTMLModel",
       "_view_count": null,
       "_view_module": "@jupyter-widgets/controls",
       "_view_module_version": "1.5.0",
       "_view_name": "HTMLView",
       "description": "",
       "description_tooltip": null,
       "layout": "IPY_MODEL_cbb2aa4caa874894adabaed891ce97c9",
       "placeholder": "​",
       "style": "IPY_MODEL_97d1389a0fcb4855b2938ebbf7d7809c",
       "value": " 213k/213k [00:00&lt;00:00, 3.74MB/s]"
      }
     },
     "21c76f96a0404927876769749a55c18d": {
      "model_module": "@jupyter-widgets/controls",
      "model_module_version": "1.5.0",
      "model_name": "DescriptionStyleModel",
      "state": {
       "_model_module": "@jupyter-widgets/controls",
       "_model_module_version": "1.5.0",
       "_model_name": "DescriptionStyleModel",
       "_view_count": null,
       "_view_module": "@jupyter-widgets/base",
       "_view_module_version": "1.2.0",
       "_view_name": "StyleView",
       "description_width": ""
      }
     },
     "22cec2370ddf4c7882a610f700e027eb": {
      "model_module": "@jupyter-widgets/controls",
      "model_module_version": "1.5.0",
      "model_name": "HBoxModel",
      "state": {
       "_dom_classes": [],
       "_model_module": "@jupyter-widgets/controls",
       "_model_module_version": "1.5.0",
       "_model_name": "HBoxModel",
       "_view_count": null,
       "_view_module": "@jupyter-widgets/controls",
       "_view_module_version": "1.5.0",
       "_view_name": "HBoxView",
       "box_style": "",
       "children": [
        "IPY_MODEL_b8041b30dd8440f39e8d3d43f81f94c3",
        "IPY_MODEL_b1b06c99a3b64f08bbbf760c37b7734b",
        "IPY_MODEL_25ba2d1c07594ad7ab117276b4921490"
       ],
       "layout": "IPY_MODEL_bfcfc2bff5fc47bfadc95261ccf1a4bc"
      }
     },
     "25ba2d1c07594ad7ab117276b4921490": {
      "model_module": "@jupyter-widgets/controls",
      "model_module_version": "1.5.0",
      "model_name": "HTMLModel",
      "state": {
       "_dom_classes": [],
       "_model_module": "@jupyter-widgets/controls",
       "_model_module_version": "1.5.0",
       "_model_name": "HTMLModel",
       "_view_count": null,
       "_view_module": "@jupyter-widgets/controls",
       "_view_module_version": "1.5.0",
       "_view_name": "HTMLView",
       "description": "",
       "description_tooltip": null,
       "layout": "IPY_MODEL_c78f19962bd641ab9211fb001a9106a8",
       "placeholder": "​",
       "style": "IPY_MODEL_86ccbaee5c214fcb987c2b104762caf3",
       "value": " 884/884 [02:06&lt;00:00, 10.32it/s]"
      }
     },
     "3050d35212fe48e19d2bc36da45ca3b4": {
      "model_module": "@jupyter-widgets/controls",
      "model_module_version": "1.5.0",
      "model_name": "HTMLModel",
      "state": {
       "_dom_classes": [],
       "_model_module": "@jupyter-widgets/controls",
       "_model_module_version": "1.5.0",
       "_model_name": "HTMLModel",
       "_view_count": null,
       "_view_module": "@jupyter-widgets/controls",
       "_view_module_version": "1.5.0",
       "_view_name": "HTMLView",
       "description": "",
       "description_tooltip": null,
       "layout": "IPY_MODEL_a6fc458869494ca6b21f362634a166fc",
       "placeholder": "​",
       "style": "IPY_MODEL_4c730dc8afef4d1995f865b62db1a99b",
       "value": " 436M/436M [00:02&lt;00:00, 215MB/s]"
      }
     },
     "3101010a64714df0a4b92365325f788f": {
      "model_module": "@jupyter-widgets/base",
      "model_module_version": "1.2.0",
      "model_name": "LayoutModel",
      "state": {
       "_model_module": "@jupyter-widgets/base",
       "_model_module_version": "1.2.0",
       "_model_name": "LayoutModel",
       "_view_count": null,
       "_view_module": "@jupyter-widgets/base",
       "_view_module_version": "1.2.0",
       "_view_name": "LayoutView",
       "align_content": null,
       "align_items": null,
       "align_self": null,
       "border": null,
       "bottom": null,
       "display": null,
       "flex": null,
       "flex_flow": null,
       "grid_area": null,
       "grid_auto_columns": null,
       "grid_auto_flow": null,
       "grid_auto_rows": null,
       "grid_column": null,
       "grid_gap": null,
       "grid_row": null,
       "grid_template_areas": null,
       "grid_template_columns": null,
       "grid_template_rows": null,
       "height": null,
       "justify_content": null,
       "justify_items": null,
       "left": null,
       "margin": null,
       "max_height": null,
       "max_width": null,
       "min_height": null,
       "min_width": null,
       "object_fit": null,
       "object_position": null,
       "order": null,
       "overflow": null,
       "overflow_x": null,
       "overflow_y": null,
       "padding": null,
       "right": null,
       "top": null,
       "visibility": null,
       "width": null
      }
     },
     "3331c3b4bb8f426ba53a6f4826960363": {
      "model_module": "@jupyter-widgets/controls",
      "model_module_version": "1.5.0",
      "model_name": "DescriptionStyleModel",
      "state": {
       "_model_module": "@jupyter-widgets/controls",
       "_model_module_version": "1.5.0",
       "_model_name": "DescriptionStyleModel",
       "_view_count": null,
       "_view_module": "@jupyter-widgets/base",
       "_view_module_version": "1.2.0",
       "_view_name": "StyleView",
       "description_width": ""
      }
     },
     "35a9c895f64a4c179b28ae658ccd0272": {
      "model_module": "@jupyter-widgets/controls",
      "model_module_version": "1.5.0",
      "model_name": "HTMLModel",
      "state": {
       "_dom_classes": [],
       "_model_module": "@jupyter-widgets/controls",
       "_model_module_version": "1.5.0",
       "_model_name": "HTMLModel",
       "_view_count": null,
       "_view_module": "@jupyter-widgets/controls",
       "_view_module_version": "1.5.0",
       "_view_name": "HTMLView",
       "description": "",
       "description_tooltip": null,
       "layout": "IPY_MODEL_872c689624cc4e2c9efd272d04b2066b",
       "placeholder": "​",
       "style": "IPY_MODEL_3331c3b4bb8f426ba53a6f4826960363",
       "value": "vocab.txt: 100%"
      }
     },
     "36da86d831724c96bb7175eb0618bfed": {
      "model_module": "@jupyter-widgets/controls",
      "model_module_version": "1.5.0",
      "model_name": "FloatProgressModel",
      "state": {
       "_dom_classes": [],
       "_model_module": "@jupyter-widgets/controls",
       "_model_module_version": "1.5.0",
       "_model_name": "FloatProgressModel",
       "_view_count": null,
       "_view_module": "@jupyter-widgets/controls",
       "_view_module_version": "1.5.0",
       "_view_name": "ProgressView",
       "bar_style": "success",
       "description": "",
       "description_tooltip": null,
       "layout": "IPY_MODEL_d75ce86a7c1f49f3aabc5a7b369bcbf5",
       "max": 435755784.0,
       "min": 0.0,
       "orientation": "horizontal",
       "style": "IPY_MODEL_54584903da004468ab52a0e6a5824700",
       "value": 435755784.0
      }
     },
     "44664f333a7e423abee4b1e09ab4bb1e": {
      "model_module": "@jupyter-widgets/base",
      "model_module_version": "1.2.0",
      "model_name": "LayoutModel",
      "state": {
       "_model_module": "@jupyter-widgets/base",
       "_model_module_version": "1.2.0",
       "_model_name": "LayoutModel",
       "_view_count": null,
       "_view_module": "@jupyter-widgets/base",
       "_view_module_version": "1.2.0",
       "_view_name": "LayoutView",
       "align_content": null,
       "align_items": null,
       "align_self": null,
       "border": null,
       "bottom": null,
       "display": null,
       "flex": null,
       "flex_flow": null,
       "grid_area": null,
       "grid_auto_columns": null,
       "grid_auto_flow": null,
       "grid_auto_rows": null,
       "grid_column": null,
       "grid_gap": null,
       "grid_row": null,
       "grid_template_areas": null,
       "grid_template_columns": null,
       "grid_template_rows": null,
       "height": null,
       "justify_content": null,
       "justify_items": null,
       "left": null,
       "margin": null,
       "max_height": null,
       "max_width": null,
       "min_height": null,
       "min_width": null,
       "object_fit": null,
       "object_position": null,
       "order": null,
       "overflow": null,
       "overflow_x": null,
       "overflow_y": null,
       "padding": null,
       "right": null,
       "top": null,
       "visibility": null,
       "width": null
      }
     },
     "4654284bf65241ac9764fe6dda864731": {
      "model_module": "@jupyter-widgets/controls",
      "model_module_version": "1.5.0",
      "model_name": "HBoxModel",
      "state": {
       "_dom_classes": [],
       "_model_module": "@jupyter-widgets/controls",
       "_model_module_version": "1.5.0",
       "_model_name": "HBoxModel",
       "_view_count": null,
       "_view_module": "@jupyter-widgets/controls",
       "_view_module_version": "1.5.0",
       "_view_name": "HBoxView",
       "box_style": "",
       "children": [
        "IPY_MODEL_684e4aa65b004525926304764cea96d2",
        "IPY_MODEL_065e6a47221e46dab565d6ff9a0798ca",
        "IPY_MODEL_49e4b23386224d7594c1683ffbc24c2a"
       ],
       "layout": "IPY_MODEL_6a21c44e3c37470bb52be68d7e36b9d6"
      }
     },
     "49e4b23386224d7594c1683ffbc24c2a": {
      "model_module": "@jupyter-widgets/controls",
      "model_module_version": "1.5.0",
      "model_name": "HTMLModel",
      "state": {
       "_dom_classes": [],
       "_model_module": "@jupyter-widgets/controls",
       "_model_module_version": "1.5.0",
       "_model_name": "HTMLModel",
       "_view_count": null,
       "_view_module": "@jupyter-widgets/controls",
       "_view_module_version": "1.5.0",
       "_view_name": "HTMLView",
       "description": "",
       "description_tooltip": null,
       "layout": "IPY_MODEL_d46f46b29d2246cbb0e03a3dc16fd3f3",
       "placeholder": "​",
       "style": "IPY_MODEL_d1fbb1b920c9494eb0d739771d66762a",
       "value": " 436k/436k [00:00&lt;00:00, 23.1MB/s]"
      }
     },
     "4a99cecf65994e57a26d06c1378e825c": {
      "model_module": "@jupyter-widgets/controls",
      "model_module_version": "1.5.0",
      "model_name": "DescriptionStyleModel",
      "state": {
       "_model_module": "@jupyter-widgets/controls",
       "_model_module_version": "1.5.0",
       "_model_name": "DescriptionStyleModel",
       "_view_count": null,
       "_view_module": "@jupyter-widgets/base",
       "_view_module_version": "1.2.0",
       "_view_name": "StyleView",
       "description_width": ""
      }
     },
     "4c730dc8afef4d1995f865b62db1a99b": {
      "model_module": "@jupyter-widgets/controls",
      "model_module_version": "1.5.0",
      "model_name": "DescriptionStyleModel",
      "state": {
       "_model_module": "@jupyter-widgets/controls",
       "_model_module_version": "1.5.0",
       "_model_name": "DescriptionStyleModel",
       "_view_count": null,
       "_view_module": "@jupyter-widgets/base",
       "_view_module_version": "1.2.0",
       "_view_name": "StyleView",
       "description_width": ""
      }
     },
     "4ebf4da0e723417ebf892e6c473bfd46": {
      "model_module": "@jupyter-widgets/controls",
      "model_module_version": "1.5.0",
      "model_name": "ProgressStyleModel",
      "state": {
       "_model_module": "@jupyter-widgets/controls",
       "_model_module_version": "1.5.0",
       "_model_name": "ProgressStyleModel",
       "_view_count": null,
       "_view_module": "@jupyter-widgets/base",
       "_view_module_version": "1.2.0",
       "_view_name": "StyleView",
       "bar_color": null,
       "description_width": ""
      }
     },
     "4ed89731ada244a8b05e4e93f442df1c": {
      "model_module": "@jupyter-widgets/base",
      "model_module_version": "1.2.0",
      "model_name": "LayoutModel",
      "state": {
       "_model_module": "@jupyter-widgets/base",
       "_model_module_version": "1.2.0",
       "_model_name": "LayoutModel",
       "_view_count": null,
       "_view_module": "@jupyter-widgets/base",
       "_view_module_version": "1.2.0",
       "_view_name": "LayoutView",
       "align_content": null,
       "align_items": null,
       "align_self": null,
       "border": null,
       "bottom": null,
       "display": null,
       "flex": null,
       "flex_flow": null,
       "grid_area": null,
       "grid_auto_columns": null,
       "grid_auto_flow": null,
       "grid_auto_rows": null,
       "grid_column": null,
       "grid_gap": null,
       "grid_row": null,
       "grid_template_areas": null,
       "grid_template_columns": null,
       "grid_template_rows": null,
       "height": null,
       "justify_content": null,
       "justify_items": null,
       "left": null,
       "margin": null,
       "max_height": null,
       "max_width": null,
       "min_height": null,
       "min_width": null,
       "object_fit": null,
       "object_position": null,
       "order": null,
       "overflow": null,
       "overflow_x": null,
       "overflow_y": null,
       "padding": null,
       "right": null,
       "top": null,
       "visibility": null,
       "width": null
      }
     },
     "54584903da004468ab52a0e6a5824700": {
      "model_module": "@jupyter-widgets/controls",
      "model_module_version": "1.5.0",
      "model_name": "ProgressStyleModel",
      "state": {
       "_model_module": "@jupyter-widgets/controls",
       "_model_module_version": "1.5.0",
       "_model_name": "ProgressStyleModel",
       "_view_count": null,
       "_view_module": "@jupyter-widgets/base",
       "_view_module_version": "1.2.0",
       "_view_name": "StyleView",
       "bar_color": null,
       "description_width": ""
      }
     },
     "5fbab674459442e5a38a40c74c877055": {
      "model_module": "@jupyter-widgets/base",
      "model_module_version": "1.2.0",
      "model_name": "LayoutModel",
      "state": {
       "_model_module": "@jupyter-widgets/base",
       "_model_module_version": "1.2.0",
       "_model_name": "LayoutModel",
       "_view_count": null,
       "_view_module": "@jupyter-widgets/base",
       "_view_module_version": "1.2.0",
       "_view_name": "LayoutView",
       "align_content": null,
       "align_items": null,
       "align_self": null,
       "border": null,
       "bottom": null,
       "display": null,
       "flex": null,
       "flex_flow": null,
       "grid_area": null,
       "grid_auto_columns": null,
       "grid_auto_flow": null,
       "grid_auto_rows": null,
       "grid_column": null,
       "grid_gap": null,
       "grid_row": null,
       "grid_template_areas": null,
       "grid_template_columns": null,
       "grid_template_rows": null,
       "height": null,
       "justify_content": null,
       "justify_items": null,
       "left": null,
       "margin": null,
       "max_height": null,
       "max_width": null,
       "min_height": null,
       "min_width": null,
       "object_fit": null,
       "object_position": null,
       "order": null,
       "overflow": null,
       "overflow_x": null,
       "overflow_y": null,
       "padding": null,
       "right": null,
       "top": null,
       "visibility": null,
       "width": null
      }
     },
     "684e4aa65b004525926304764cea96d2": {
      "model_module": "@jupyter-widgets/controls",
      "model_module_version": "1.5.0",
      "model_name": "HTMLModel",
      "state": {
       "_dom_classes": [],
       "_model_module": "@jupyter-widgets/controls",
       "_model_module_version": "1.5.0",
       "_model_name": "HTMLModel",
       "_view_count": null,
       "_view_module": "@jupyter-widgets/controls",
       "_view_module_version": "1.5.0",
       "_view_name": "HTMLView",
       "description": "",
       "description_tooltip": null,
       "layout": "IPY_MODEL_1322605cd77d44fba4530af72a884a0e",
       "placeholder": "​",
       "style": "IPY_MODEL_0330ccba753e4767a07806d9ec32587c",
       "value": "tokenizer.json: 100%"
      }
     },
     "6a21c44e3c37470bb52be68d7e36b9d6": {
      "model_module": "@jupyter-widgets/base",
      "model_module_version": "1.2.0",
      "model_name": "LayoutModel",
      "state": {
       "_model_module": "@jupyter-widgets/base",
       "_model_module_version": "1.2.0",
       "_model_name": "LayoutModel",
       "_view_count": null,
       "_view_module": "@jupyter-widgets/base",
       "_view_module_version": "1.2.0",
       "_view_name": "LayoutView",
       "align_content": null,
       "align_items": null,
       "align_self": null,
       "border": null,
       "bottom": null,
       "display": null,
       "flex": null,
       "flex_flow": null,
       "grid_area": null,
       "grid_auto_columns": null,
       "grid_auto_flow": null,
       "grid_auto_rows": null,
       "grid_column": null,
       "grid_gap": null,
       "grid_row": null,
       "grid_template_areas": null,
       "grid_template_columns": null,
       "grid_template_rows": null,
       "height": null,
       "justify_content": null,
       "justify_items": null,
       "left": null,
       "margin": null,
       "max_height": null,
       "max_width": null,
       "min_height": null,
       "min_width": null,
       "object_fit": null,
       "object_position": null,
       "order": null,
       "overflow": null,
       "overflow_x": null,
       "overflow_y": null,
       "padding": null,
       "right": null,
       "top": null,
       "visibility": null,
       "width": null
      }
     },
     "6b36e5224e02435f9b6af0c03855ab6e": {
      "model_module": "@jupyter-widgets/controls",
      "model_module_version": "1.5.0",
      "model_name": "FloatProgressModel",
      "state": {
       "_dom_classes": [],
       "_model_module": "@jupyter-widgets/controls",
       "_model_module_version": "1.5.0",
       "_model_name": "FloatProgressModel",
       "_view_count": null,
       "_view_module": "@jupyter-widgets/controls",
       "_view_module_version": "1.5.0",
       "_view_name": "ProgressView",
       "bar_style": "success",
       "description": "",
       "description_tooltip": null,
       "layout": "IPY_MODEL_c3f331b155614c069316cd6e752fab8b",
       "max": 49.0,
       "min": 0.0,
       "orientation": "horizontal",
       "style": "IPY_MODEL_a4f14de42b614b38a969909ddeba4ba6",
       "value": 49.0
      }
     },
     "7ff94c1c3f664d9e9a43ee3eeb2be4db": {
      "model_module": "@jupyter-widgets/base",
      "model_module_version": "1.2.0",
      "model_name": "LayoutModel",
      "state": {
       "_model_module": "@jupyter-widgets/base",
       "_model_module_version": "1.2.0",
       "_model_name": "LayoutModel",
       "_view_count": null,
       "_view_module": "@jupyter-widgets/base",
       "_view_module_version": "1.2.0",
       "_view_name": "LayoutView",
       "align_content": null,
       "align_items": null,
       "align_self": null,
       "border": null,
       "bottom": null,
       "display": null,
       "flex": null,
       "flex_flow": null,
       "grid_area": null,
       "grid_auto_columns": null,
       "grid_auto_flow": null,
       "grid_auto_rows": null,
       "grid_column": null,
       "grid_gap": null,
       "grid_row": null,
       "grid_template_areas": null,
       "grid_template_columns": null,
       "grid_template_rows": null,
       "height": null,
       "justify_content": null,
       "justify_items": null,
       "left": null,
       "margin": null,
       "max_height": null,
       "max_width": null,
       "min_height": null,
       "min_width": null,
       "object_fit": null,
       "object_position": null,
       "order": null,
       "overflow": null,
       "overflow_x": null,
       "overflow_y": null,
       "padding": null,
       "right": null,
       "top": null,
       "visibility": null,
       "width": null
      }
     },
     "8156ce1b59bb4295ae469c1fc785131a": {
      "model_module": "@jupyter-widgets/controls",
      "model_module_version": "1.5.0",
      "model_name": "HBoxModel",
      "state": {
       "_dom_classes": [],
       "_model_module": "@jupyter-widgets/controls",
       "_model_module_version": "1.5.0",
       "_model_name": "HBoxModel",
       "_view_count": null,
       "_view_module": "@jupyter-widgets/controls",
       "_view_module_version": "1.5.0",
       "_view_name": "HBoxView",
       "box_style": "",
       "children": [
        "IPY_MODEL_35a9c895f64a4c179b28ae658ccd0272",
        "IPY_MODEL_c0caa0d24bf143aaa2528d07a22c676b",
        "IPY_MODEL_1de5837f8eca4c0bb47e9255180f78d0"
       ],
       "layout": "IPY_MODEL_cf0a70a8799b4d79af53cb5d96ba7327"
      }
     },
     "86ccbaee5c214fcb987c2b104762caf3": {
      "model_module": "@jupyter-widgets/controls",
      "model_module_version": "1.5.0",
      "model_name": "DescriptionStyleModel",
      "state": {
       "_model_module": "@jupyter-widgets/controls",
       "_model_module_version": "1.5.0",
       "_model_name": "DescriptionStyleModel",
       "_view_count": null,
       "_view_module": "@jupyter-widgets/base",
       "_view_module_version": "1.2.0",
       "_view_name": "StyleView",
       "description_width": ""
      }
     },
     "872c689624cc4e2c9efd272d04b2066b": {
      "model_module": "@jupyter-widgets/base",
      "model_module_version": "1.2.0",
      "model_name": "LayoutModel",
      "state": {
       "_model_module": "@jupyter-widgets/base",
       "_model_module_version": "1.2.0",
       "_model_name": "LayoutModel",
       "_view_count": null,
       "_view_module": "@jupyter-widgets/base",
       "_view_module_version": "1.2.0",
       "_view_name": "LayoutView",
       "align_content": null,
       "align_items": null,
       "align_self": null,
       "border": null,
       "bottom": null,
       "display": null,
       "flex": null,
       "flex_flow": null,
       "grid_area": null,
       "grid_auto_columns": null,
       "grid_auto_flow": null,
       "grid_auto_rows": null,
       "grid_column": null,
       "grid_gap": null,
       "grid_row": null,
       "grid_template_areas": null,
       "grid_template_columns": null,
       "grid_template_rows": null,
       "height": null,
       "justify_content": null,
       "justify_items": null,
       "left": null,
       "margin": null,
       "max_height": null,
       "max_width": null,
       "min_height": null,
       "min_width": null,
       "object_fit": null,
       "object_position": null,
       "order": null,
       "overflow": null,
       "overflow_x": null,
       "overflow_y": null,
       "padding": null,
       "right": null,
       "top": null,
       "visibility": null,
       "width": null
      }
     },
     "96b0310a7df04531b7b0b42d54ec65c1": {
      "model_module": "@jupyter-widgets/controls",
      "model_module_version": "1.5.0",
      "model_name": "HTMLModel",
      "state": {
       "_dom_classes": [],
       "_model_module": "@jupyter-widgets/controls",
       "_model_module_version": "1.5.0",
       "_model_name": "HTMLModel",
       "_view_count": null,
       "_view_module": "@jupyter-widgets/controls",
       "_view_module_version": "1.5.0",
       "_view_name": "HTMLView",
       "description": "",
       "description_tooltip": null,
       "layout": "IPY_MODEL_5fbab674459442e5a38a40c74c877055",
       "placeholder": "​",
       "style": "IPY_MODEL_bce6336c1e9f446dab9c326fa3d5777f",
       "value": " 570/570 [00:00&lt;00:00, 52.3kB/s]"
      }
     },
     "97d1389a0fcb4855b2938ebbf7d7809c": {
      "model_module": "@jupyter-widgets/controls",
      "model_module_version": "1.5.0",
      "model_name": "DescriptionStyleModel",
      "state": {
       "_model_module": "@jupyter-widgets/controls",
       "_model_module_version": "1.5.0",
       "_model_name": "DescriptionStyleModel",
       "_view_count": null,
       "_view_module": "@jupyter-widgets/base",
       "_view_module_version": "1.2.0",
       "_view_name": "StyleView",
       "description_width": ""
      }
     },
     "a043d30b9ac74a51973c43eeb33ea603": {
      "model_module": "@jupyter-widgets/controls",
      "model_module_version": "1.5.0",
      "model_name": "DescriptionStyleModel",
      "state": {
       "_model_module": "@jupyter-widgets/controls",
       "_model_module_version": "1.5.0",
       "_model_name": "DescriptionStyleModel",
       "_view_count": null,
       "_view_module": "@jupyter-widgets/base",
       "_view_module_version": "1.2.0",
       "_view_name": "StyleView",
       "description_width": ""
      }
     },
     "a39f86419b7045f3981fd6adc4d9b3da": {
      "model_module": "@jupyter-widgets/base",
      "model_module_version": "1.2.0",
      "model_name": "LayoutModel",
      "state": {
       "_model_module": "@jupyter-widgets/base",
       "_model_module_version": "1.2.0",
       "_model_name": "LayoutModel",
       "_view_count": null,
       "_view_module": "@jupyter-widgets/base",
       "_view_module_version": "1.2.0",
       "_view_name": "LayoutView",
       "align_content": null,
       "align_items": null,
       "align_self": null,
       "border": null,
       "bottom": null,
       "display": null,
       "flex": null,
       "flex_flow": null,
       "grid_area": null,
       "grid_auto_columns": null,
       "grid_auto_flow": null,
       "grid_auto_rows": null,
       "grid_column": null,
       "grid_gap": null,
       "grid_row": null,
       "grid_template_areas": null,
       "grid_template_columns": null,
       "grid_template_rows": null,
       "height": null,
       "justify_content": null,
       "justify_items": null,
       "left": null,
       "margin": null,
       "max_height": null,
       "max_width": null,
       "min_height": null,
       "min_width": null,
       "object_fit": null,
       "object_position": null,
       "order": null,
       "overflow": null,
       "overflow_x": null,
       "overflow_y": null,
       "padding": null,
       "right": null,
       "top": null,
       "visibility": null,
       "width": null
      }
     },
     "a4f14de42b614b38a969909ddeba4ba6": {
      "model_module": "@jupyter-widgets/controls",
      "model_module_version": "1.5.0",
      "model_name": "ProgressStyleModel",
      "state": {
       "_model_module": "@jupyter-widgets/controls",
       "_model_module_version": "1.5.0",
       "_model_name": "ProgressStyleModel",
       "_view_count": null,
       "_view_module": "@jupyter-widgets/base",
       "_view_module_version": "1.2.0",
       "_view_name": "StyleView",
       "bar_color": null,
       "description_width": ""
      }
     },
     "a6fc458869494ca6b21f362634a166fc": {
      "model_module": "@jupyter-widgets/base",
      "model_module_version": "1.2.0",
      "model_name": "LayoutModel",
      "state": {
       "_model_module": "@jupyter-widgets/base",
       "_model_module_version": "1.2.0",
       "_model_name": "LayoutModel",
       "_view_count": null,
       "_view_module": "@jupyter-widgets/base",
       "_view_module_version": "1.2.0",
       "_view_name": "LayoutView",
       "align_content": null,
       "align_items": null,
       "align_self": null,
       "border": null,
       "bottom": null,
       "display": null,
       "flex": null,
       "flex_flow": null,
       "grid_area": null,
       "grid_auto_columns": null,
       "grid_auto_flow": null,
       "grid_auto_rows": null,
       "grid_column": null,
       "grid_gap": null,
       "grid_row": null,
       "grid_template_areas": null,
       "grid_template_columns": null,
       "grid_template_rows": null,
       "height": null,
       "justify_content": null,
       "justify_items": null,
       "left": null,
       "margin": null,
       "max_height": null,
       "max_width": null,
       "min_height": null,
       "min_width": null,
       "object_fit": null,
       "object_position": null,
       "order": null,
       "overflow": null,
       "overflow_x": null,
       "overflow_y": null,
       "padding": null,
       "right": null,
       "top": null,
       "visibility": null,
       "width": null
      }
     },
     "a7053a09e6224bb6b4c47b6f2664134c": {
      "model_module": "@jupyter-widgets/base",
      "model_module_version": "1.2.0",
      "model_name": "LayoutModel",
      "state": {
       "_model_module": "@jupyter-widgets/base",
       "_model_module_version": "1.2.0",
       "_model_name": "LayoutModel",
       "_view_count": null,
       "_view_module": "@jupyter-widgets/base",
       "_view_module_version": "1.2.0",
       "_view_name": "LayoutView",
       "align_content": null,
       "align_items": null,
       "align_self": null,
       "border": null,
       "bottom": null,
       "display": null,
       "flex": null,
       "flex_flow": null,
       "grid_area": null,
       "grid_auto_columns": null,
       "grid_auto_flow": null,
       "grid_auto_rows": null,
       "grid_column": null,
       "grid_gap": null,
       "grid_row": null,
       "grid_template_areas": null,
       "grid_template_columns": null,
       "grid_template_rows": null,
       "height": null,
       "justify_content": null,
       "justify_items": null,
       "left": null,
       "margin": null,
       "max_height": null,
       "max_width": null,
       "min_height": null,
       "min_width": null,
       "object_fit": null,
       "object_position": null,
       "order": null,
       "overflow": null,
       "overflow_x": null,
       "overflow_y": null,
       "padding": null,
       "right": null,
       "top": null,
       "visibility": null,
       "width": null
      }
     },
     "a84ca7e7fc8d450c8ed7a1dd9ba11f76": {
      "model_module": "@jupyter-widgets/controls",
      "model_module_version": "1.5.0",
      "model_name": "ProgressStyleModel",
      "state": {
       "_model_module": "@jupyter-widgets/controls",
       "_model_module_version": "1.5.0",
       "_model_name": "ProgressStyleModel",
       "_view_count": null,
       "_view_module": "@jupyter-widgets/base",
       "_view_module_version": "1.2.0",
       "_view_name": "StyleView",
       "bar_color": null,
       "description_width": ""
      }
     },
     "ac020b8e5ca74faeb88b9ff096be1ad9": {
      "model_module": "@jupyter-widgets/base",
      "model_module_version": "1.2.0",
      "model_name": "LayoutModel",
      "state": {
       "_model_module": "@jupyter-widgets/base",
       "_model_module_version": "1.2.0",
       "_model_name": "LayoutModel",
       "_view_count": null,
       "_view_module": "@jupyter-widgets/base",
       "_view_module_version": "1.2.0",
       "_view_name": "LayoutView",
       "align_content": null,
       "align_items": null,
       "align_self": null,
       "border": null,
       "bottom": null,
       "display": null,
       "flex": null,
       "flex_flow": null,
       "grid_area": null,
       "grid_auto_columns": null,
       "grid_auto_flow": null,
       "grid_auto_rows": null,
       "grid_column": null,
       "grid_gap": null,
       "grid_row": null,
       "grid_template_areas": null,
       "grid_template_columns": null,
       "grid_template_rows": null,
       "height": null,
       "justify_content": null,
       "justify_items": null,
       "left": null,
       "margin": null,
       "max_height": null,
       "max_width": null,
       "min_height": null,
       "min_width": null,
       "object_fit": null,
       "object_position": null,
       "order": null,
       "overflow": null,
       "overflow_x": null,
       "overflow_y": null,
       "padding": null,
       "right": null,
       "top": null,
       "visibility": null,
       "width": null
      }
     },
     "adaea50d44af4d58bc36a25d6d3f34eb": {
      "model_module": "@jupyter-widgets/controls",
      "model_module_version": "1.5.0",
      "model_name": "ProgressStyleModel",
      "state": {
       "_model_module": "@jupyter-widgets/controls",
       "_model_module_version": "1.5.0",
       "_model_name": "ProgressStyleModel",
       "_view_count": null,
       "_view_module": "@jupyter-widgets/base",
       "_view_module_version": "1.2.0",
       "_view_name": "StyleView",
       "bar_color": null,
       "description_width": ""
      }
     },
     "ae192b2299144dada0f8f48da250e880": {
      "model_module": "@jupyter-widgets/controls",
      "model_module_version": "1.5.0",
      "model_name": "HBoxModel",
      "state": {
       "_dom_classes": [],
       "_model_module": "@jupyter-widgets/controls",
       "_model_module_version": "1.5.0",
       "_model_name": "HBoxModel",
       "_view_count": null,
       "_view_module": "@jupyter-widgets/controls",
       "_view_module_version": "1.5.0",
       "_view_name": "HBoxView",
       "box_style": "",
       "children": [
        "IPY_MODEL_ebe7aa2e65d046cfa358f1ad815caf19",
        "IPY_MODEL_f3a8ca3e063e419a9fe7adcdd4eff301",
        "IPY_MODEL_96b0310a7df04531b7b0b42d54ec65c1"
       ],
       "layout": "IPY_MODEL_a7053a09e6224bb6b4c47b6f2664134c"
      }
     },
     "b1b06c99a3b64f08bbbf760c37b7734b": {
      "model_module": "@jupyter-widgets/controls",
      "model_module_version": "1.5.0",
      "model_name": "FloatProgressModel",
      "state": {
       "_dom_classes": [],
       "_model_module": "@jupyter-widgets/controls",
       "_model_module_version": "1.5.0",
       "_model_name": "FloatProgressModel",
       "_view_count": null,
       "_view_module": "@jupyter-widgets/controls",
       "_view_module_version": "1.5.0",
       "_view_name": "ProgressView",
       "bar_style": "success",
       "description": "",
       "description_tooltip": null,
       "layout": "IPY_MODEL_d4d325d7f0a44948935ba9a18291fbfc",
       "max": 884.0,
       "min": 0.0,
       "orientation": "horizontal",
       "style": "IPY_MODEL_e8937ebcf0354044b3c49a773d4d0252",
       "value": 884.0
      }
     },
     "b8041b30dd8440f39e8d3d43f81f94c3": {
      "model_module": "@jupyter-widgets/controls",
      "model_module_version": "1.5.0",
      "model_name": "HTMLModel",
      "state": {
       "_dom_classes": [],
       "_model_module": "@jupyter-widgets/controls",
       "_model_module_version": "1.5.0",
       "_model_name": "HTMLModel",
       "_view_count": null,
       "_view_module": "@jupyter-widgets/controls",
       "_view_module_version": "1.5.0",
       "_view_name": "HTMLView",
       "description": "",
       "description_tooltip": null,
       "layout": "IPY_MODEL_44664f333a7e423abee4b1e09ab4bb1e",
       "placeholder": "​",
       "style": "IPY_MODEL_a043d30b9ac74a51973c43eeb33ea603",
       "value": "training: 100%"
      }
     },
     "ba591d1258504d329b7bc0e32a4d8fcc": {
      "model_module": "@jupyter-widgets/base",
      "model_module_version": "1.2.0",
      "model_name": "LayoutModel",
      "state": {
       "_model_module": "@jupyter-widgets/base",
       "_model_module_version": "1.2.0",
       "_model_name": "LayoutModel",
       "_view_count": null,
       "_view_module": "@jupyter-widgets/base",
       "_view_module_version": "1.2.0",
       "_view_name": "LayoutView",
       "align_content": null,
       "align_items": null,
       "align_self": null,
       "border": null,
       "bottom": null,
       "display": null,
       "flex": null,
       "flex_flow": null,
       "grid_area": null,
       "grid_auto_columns": null,
       "grid_auto_flow": null,
       "grid_auto_rows": null,
       "grid_column": null,
       "grid_gap": null,
       "grid_row": null,
       "grid_template_areas": null,
       "grid_template_columns": null,
       "grid_template_rows": null,
       "height": null,
       "justify_content": null,
       "justify_items": null,
       "left": null,
       "margin": null,
       "max_height": null,
       "max_width": null,
       "min_height": null,
       "min_width": null,
       "object_fit": null,
       "object_position": null,
       "order": null,
       "overflow": null,
       "overflow_x": null,
       "overflow_y": null,
       "padding": null,
       "right": null,
       "top": null,
       "visibility": null,
       "width": null
      }
     },
     "bce6336c1e9f446dab9c326fa3d5777f": {
      "model_module": "@jupyter-widgets/controls",
      "model_module_version": "1.5.0",
      "model_name": "DescriptionStyleModel",
      "state": {
       "_model_module": "@jupyter-widgets/controls",
       "_model_module_version": "1.5.0",
       "_model_name": "DescriptionStyleModel",
       "_view_count": null,
       "_view_module": "@jupyter-widgets/base",
       "_view_module_version": "1.2.0",
       "_view_name": "StyleView",
       "description_width": ""
      }
     },
     "bfcfc2bff5fc47bfadc95261ccf1a4bc": {
      "model_module": "@jupyter-widgets/base",
      "model_module_version": "1.2.0",
      "model_name": "LayoutModel",
      "state": {
       "_model_module": "@jupyter-widgets/base",
       "_model_module_version": "1.2.0",
       "_model_name": "LayoutModel",
       "_view_count": null,
       "_view_module": "@jupyter-widgets/base",
       "_view_module_version": "1.2.0",
       "_view_name": "LayoutView",
       "align_content": null,
       "align_items": null,
       "align_self": null,
       "border": null,
       "bottom": null,
       "display": "inline-flex",
       "flex": null,
       "flex_flow": "row wrap",
       "grid_area": null,
       "grid_auto_columns": null,
       "grid_auto_flow": null,
       "grid_auto_rows": null,
       "grid_column": null,
       "grid_gap": null,
       "grid_row": null,
       "grid_template_areas": null,
       "grid_template_columns": null,
       "grid_template_rows": null,
       "height": null,
       "justify_content": null,
       "justify_items": null,
       "left": null,
       "margin": null,
       "max_height": null,
       "max_width": null,
       "min_height": null,
       "min_width": null,
       "object_fit": null,
       "object_position": null,
       "order": null,
       "overflow": null,
       "overflow_x": null,
       "overflow_y": null,
       "padding": null,
       "right": null,
       "top": null,
       "visibility": null,
       "width": "100px"
      }
     },
     "c0caa0d24bf143aaa2528d07a22c676b": {
      "model_module": "@jupyter-widgets/controls",
      "model_module_version": "1.5.0",
      "model_name": "FloatProgressModel",
      "state": {
       "_dom_classes": [],
       "_model_module": "@jupyter-widgets/controls",
       "_model_module_version": "1.5.0",
       "_model_name": "FloatProgressModel",
       "_view_count": null,
       "_view_module": "@jupyter-widgets/controls",
       "_view_module_version": "1.5.0",
       "_view_name": "ProgressView",
       "bar_style": "success",
       "description": "",
       "description_tooltip": null,
       "layout": "IPY_MODEL_ac020b8e5ca74faeb88b9ff096be1ad9",
       "max": 213450.0,
       "min": 0.0,
       "orientation": "horizontal",
       "style": "IPY_MODEL_4ebf4da0e723417ebf892e6c473bfd46",
       "value": 213450.0
      }
     },
     "c3f331b155614c069316cd6e752fab8b": {
      "model_module": "@jupyter-widgets/base",
      "model_module_version": "1.2.0",
      "model_name": "LayoutModel",
      "state": {
       "_model_module": "@jupyter-widgets/base",
       "_model_module_version": "1.2.0",
       "_model_name": "LayoutModel",
       "_view_count": null,
       "_view_module": "@jupyter-widgets/base",
       "_view_module_version": "1.2.0",
       "_view_name": "LayoutView",
       "align_content": null,
       "align_items": null,
       "align_self": null,
       "border": null,
       "bottom": null,
       "display": null,
       "flex": null,
       "flex_flow": null,
       "grid_area": null,
       "grid_auto_columns": null,
       "grid_auto_flow": null,
       "grid_auto_rows": null,
       "grid_column": null,
       "grid_gap": null,
       "grid_row": null,
       "grid_template_areas": null,
       "grid_template_columns": null,
       "grid_template_rows": null,
       "height": null,
       "justify_content": null,
       "justify_items": null,
       "left": null,
       "margin": null,
       "max_height": null,
       "max_width": null,
       "min_height": null,
       "min_width": null,
       "object_fit": null,
       "object_position": null,
       "order": null,
       "overflow": null,
       "overflow_x": null,
       "overflow_y": null,
       "padding": null,
       "right": null,
       "top": null,
       "visibility": null,
       "width": null
      }
     },
     "c78f19962bd641ab9211fb001a9106a8": {
      "model_module": "@jupyter-widgets/base",
      "model_module_version": "1.2.0",
      "model_name": "LayoutModel",
      "state": {
       "_model_module": "@jupyter-widgets/base",
       "_model_module_version": "1.2.0",
       "_model_name": "LayoutModel",
       "_view_count": null,
       "_view_module": "@jupyter-widgets/base",
       "_view_module_version": "1.2.0",
       "_view_name": "LayoutView",
       "align_content": null,
       "align_items": null,
       "align_self": null,
       "border": null,
       "bottom": null,
       "display": null,
       "flex": null,
       "flex_flow": null,
       "grid_area": null,
       "grid_auto_columns": null,
       "grid_auto_flow": null,
       "grid_auto_rows": null,
       "grid_column": null,
       "grid_gap": null,
       "grid_row": null,
       "grid_template_areas": null,
       "grid_template_columns": null,
       "grid_template_rows": null,
       "height": null,
       "justify_content": null,
       "justify_items": null,
       "left": null,
       "margin": null,
       "max_height": null,
       "max_width": null,
       "min_height": null,
       "min_width": null,
       "object_fit": null,
       "object_position": null,
       "order": null,
       "overflow": null,
       "overflow_x": null,
       "overflow_y": null,
       "padding": null,
       "right": null,
       "top": null,
       "visibility": null,
       "width": null
      }
     },
     "cbb2aa4caa874894adabaed891ce97c9": {
      "model_module": "@jupyter-widgets/base",
      "model_module_version": "1.2.0",
      "model_name": "LayoutModel",
      "state": {
       "_model_module": "@jupyter-widgets/base",
       "_model_module_version": "1.2.0",
       "_model_name": "LayoutModel",
       "_view_count": null,
       "_view_module": "@jupyter-widgets/base",
       "_view_module_version": "1.2.0",
       "_view_name": "LayoutView",
       "align_content": null,
       "align_items": null,
       "align_self": null,
       "border": null,
       "bottom": null,
       "display": null,
       "flex": null,
       "flex_flow": null,
       "grid_area": null,
       "grid_auto_columns": null,
       "grid_auto_flow": null,
       "grid_auto_rows": null,
       "grid_column": null,
       "grid_gap": null,
       "grid_row": null,
       "grid_template_areas": null,
       "grid_template_columns": null,
       "grid_template_rows": null,
       "height": null,
       "justify_content": null,
       "justify_items": null,
       "left": null,
       "margin": null,
       "max_height": null,
       "max_width": null,
       "min_height": null,
       "min_width": null,
       "object_fit": null,
       "object_position": null,
       "order": null,
       "overflow": null,
       "overflow_x": null,
       "overflow_y": null,
       "padding": null,
       "right": null,
       "top": null,
       "visibility": null,
       "width": null
      }
     },
     "cf0a70a8799b4d79af53cb5d96ba7327": {
      "model_module": "@jupyter-widgets/base",
      "model_module_version": "1.2.0",
      "model_name": "LayoutModel",
      "state": {
       "_model_module": "@jupyter-widgets/base",
       "_model_module_version": "1.2.0",
       "_model_name": "LayoutModel",
       "_view_count": null,
       "_view_module": "@jupyter-widgets/base",
       "_view_module_version": "1.2.0",
       "_view_name": "LayoutView",
       "align_content": null,
       "align_items": null,
       "align_self": null,
       "border": null,
       "bottom": null,
       "display": null,
       "flex": null,
       "flex_flow": null,
       "grid_area": null,
       "grid_auto_columns": null,
       "grid_auto_flow": null,
       "grid_auto_rows": null,
       "grid_column": null,
       "grid_gap": null,
       "grid_row": null,
       "grid_template_areas": null,
       "grid_template_columns": null,
       "grid_template_rows": null,
       "height": null,
       "justify_content": null,
       "justify_items": null,
       "left": null,
       "margin": null,
       "max_height": null,
       "max_width": null,
       "min_height": null,
       "min_width": null,
       "object_fit": null,
       "object_position": null,
       "order": null,
       "overflow": null,
       "overflow_x": null,
       "overflow_y": null,
       "padding": null,
       "right": null,
       "top": null,
       "visibility": null,
       "width": null
      }
     },
     "d1fbb1b920c9494eb0d739771d66762a": {
      "model_module": "@jupyter-widgets/controls",
      "model_module_version": "1.5.0",
      "model_name": "DescriptionStyleModel",
      "state": {
       "_model_module": "@jupyter-widgets/controls",
       "_model_module_version": "1.5.0",
       "_model_name": "DescriptionStyleModel",
       "_view_count": null,
       "_view_module": "@jupyter-widgets/base",
       "_view_module_version": "1.2.0",
       "_view_name": "StyleView",
       "description_width": ""
      }
     },
     "d46f46b29d2246cbb0e03a3dc16fd3f3": {
      "model_module": "@jupyter-widgets/base",
      "model_module_version": "1.2.0",
      "model_name": "LayoutModel",
      "state": {
       "_model_module": "@jupyter-widgets/base",
       "_model_module_version": "1.2.0",
       "_model_name": "LayoutModel",
       "_view_count": null,
       "_view_module": "@jupyter-widgets/base",
       "_view_module_version": "1.2.0",
       "_view_name": "LayoutView",
       "align_content": null,
       "align_items": null,
       "align_self": null,
       "border": null,
       "bottom": null,
       "display": null,
       "flex": null,
       "flex_flow": null,
       "grid_area": null,
       "grid_auto_columns": null,
       "grid_auto_flow": null,
       "grid_auto_rows": null,
       "grid_column": null,
       "grid_gap": null,
       "grid_row": null,
       "grid_template_areas": null,
       "grid_template_columns": null,
       "grid_template_rows": null,
       "height": null,
       "justify_content": null,
       "justify_items": null,
       "left": null,
       "margin": null,
       "max_height": null,
       "max_width": null,
       "min_height": null,
       "min_width": null,
       "object_fit": null,
       "object_position": null,
       "order": null,
       "overflow": null,
       "overflow_x": null,
       "overflow_y": null,
       "padding": null,
       "right": null,
       "top": null,
       "visibility": null,
       "width": null
      }
     },
     "d4d325d7f0a44948935ba9a18291fbfc": {
      "model_module": "@jupyter-widgets/base",
      "model_module_version": "1.2.0",
      "model_name": "LayoutModel",
      "state": {
       "_model_module": "@jupyter-widgets/base",
       "_model_module_version": "1.2.0",
       "_model_name": "LayoutModel",
       "_view_count": null,
       "_view_module": "@jupyter-widgets/base",
       "_view_module_version": "1.2.0",
       "_view_name": "LayoutView",
       "align_content": null,
       "align_items": null,
       "align_self": null,
       "border": null,
       "bottom": null,
       "display": null,
       "flex": "2",
       "flex_flow": null,
       "grid_area": null,
       "grid_auto_columns": null,
       "grid_auto_flow": null,
       "grid_auto_rows": null,
       "grid_column": null,
       "grid_gap": null,
       "grid_row": null,
       "grid_template_areas": null,
       "grid_template_columns": null,
       "grid_template_rows": null,
       "height": null,
       "justify_content": null,
       "justify_items": null,
       "left": null,
       "margin": null,
       "max_height": null,
       "max_width": null,
       "min_height": null,
       "min_width": null,
       "object_fit": null,
       "object_position": null,
       "order": null,
       "overflow": null,
       "overflow_x": null,
       "overflow_y": null,
       "padding": null,
       "right": null,
       "top": null,
       "visibility": null,
       "width": null
      }
     },
     "d75ce86a7c1f49f3aabc5a7b369bcbf5": {
      "model_module": "@jupyter-widgets/base",
      "model_module_version": "1.2.0",
      "model_name": "LayoutModel",
      "state": {
       "_model_module": "@jupyter-widgets/base",
       "_model_module_version": "1.2.0",
       "_model_name": "LayoutModel",
       "_view_count": null,
       "_view_module": "@jupyter-widgets/base",
       "_view_module_version": "1.2.0",
       "_view_name": "LayoutView",
       "align_content": null,
       "align_items": null,
       "align_self": null,
       "border": null,
       "bottom": null,
       "display": null,
       "flex": null,
       "flex_flow": null,
       "grid_area": null,
       "grid_auto_columns": null,
       "grid_auto_flow": null,
       "grid_auto_rows": null,
       "grid_column": null,
       "grid_gap": null,
       "grid_row": null,
       "grid_template_areas": null,
       "grid_template_columns": null,
       "grid_template_rows": null,
       "height": null,
       "justify_content": null,
       "justify_items": null,
       "left": null,
       "margin": null,
       "max_height": null,
       "max_width": null,
       "min_height": null,
       "min_width": null,
       "object_fit": null,
       "object_position": null,
       "order": null,
       "overflow": null,
       "overflow_x": null,
       "overflow_y": null,
       "padding": null,
       "right": null,
       "top": null,
       "visibility": null,
       "width": null
      }
     },
     "e5b4125d9bc34867af4a6b868f0c253c": {
      "model_module": "@jupyter-widgets/controls",
      "model_module_version": "1.5.0",
      "model_name": "DescriptionStyleModel",
      "state": {
       "_model_module": "@jupyter-widgets/controls",
       "_model_module_version": "1.5.0",
       "_model_name": "DescriptionStyleModel",
       "_view_count": null,
       "_view_module": "@jupyter-widgets/base",
       "_view_module_version": "1.2.0",
       "_view_name": "StyleView",
       "description_width": ""
      }
     },
     "e8937ebcf0354044b3c49a773d4d0252": {
      "model_module": "@jupyter-widgets/controls",
      "model_module_version": "1.5.0",
      "model_name": "ProgressStyleModel",
      "state": {
       "_model_module": "@jupyter-widgets/controls",
       "_model_module_version": "1.5.0",
       "_model_name": "ProgressStyleModel",
       "_view_count": null,
       "_view_module": "@jupyter-widgets/base",
       "_view_module_version": "1.2.0",
       "_view_name": "StyleView",
       "bar_color": null,
       "description_width": ""
      }
     },
     "eae5e4298999499fabed0482fd4a4cc3": {
      "model_module": "@jupyter-widgets/controls",
      "model_module_version": "1.5.0",
      "model_name": "HBoxModel",
      "state": {
       "_dom_classes": [],
       "_model_module": "@jupyter-widgets/controls",
       "_model_module_version": "1.5.0",
       "_model_name": "HBoxModel",
       "_view_count": null,
       "_view_module": "@jupyter-widgets/controls",
       "_view_module_version": "1.5.0",
       "_view_name": "HBoxView",
       "box_style": "",
       "children": [
        "IPY_MODEL_1809f39f84ac432d85f8b441da369151",
        "IPY_MODEL_36da86d831724c96bb7175eb0618bfed",
        "IPY_MODEL_3050d35212fe48e19d2bc36da45ca3b4"
       ],
       "layout": "IPY_MODEL_f882ab9df6eb486aa38e25e7952ebf41"
      }
     },
     "ebe7aa2e65d046cfa358f1ad815caf19": {
      "model_module": "@jupyter-widgets/controls",
      "model_module_version": "1.5.0",
      "model_name": "HTMLModel",
      "state": {
       "_dom_classes": [],
       "_model_module": "@jupyter-widgets/controls",
       "_model_module_version": "1.5.0",
       "_model_name": "HTMLModel",
       "_view_count": null,
       "_view_module": "@jupyter-widgets/controls",
       "_view_module_version": "1.5.0",
       "_view_name": "HTMLView",
       "description": "",
       "description_tooltip": null,
       "layout": "IPY_MODEL_7ff94c1c3f664d9e9a43ee3eeb2be4db",
       "placeholder": "​",
       "style": "IPY_MODEL_0530c188d4f94196a76f18e16a1d822c",
       "value": "config.json: 100%"
      }
     },
     "f3a8ca3e063e419a9fe7adcdd4eff301": {
      "model_module": "@jupyter-widgets/controls",
      "model_module_version": "1.5.0",
      "model_name": "FloatProgressModel",
      "state": {
       "_dom_classes": [],
       "_model_module": "@jupyter-widgets/controls",
       "_model_module_version": "1.5.0",
       "_model_name": "FloatProgressModel",
       "_view_count": null,
       "_view_module": "@jupyter-widgets/controls",
       "_view_module_version": "1.5.0",
       "_view_name": "ProgressView",
       "bar_style": "success",
       "description": "",
       "description_tooltip": null,
       "layout": "IPY_MODEL_3101010a64714df0a4b92365325f788f",
       "max": 570.0,
       "min": 0.0,
       "orientation": "horizontal",
       "style": "IPY_MODEL_a84ca7e7fc8d450c8ed7a1dd9ba11f76",
       "value": 570.0
      }
     },
     "f882ab9df6eb486aa38e25e7952ebf41": {
      "model_module": "@jupyter-widgets/base",
      "model_module_version": "1.2.0",
      "model_name": "LayoutModel",
      "state": {
       "_model_module": "@jupyter-widgets/base",
       "_model_module_version": "1.2.0",
       "_model_name": "LayoutModel",
       "_view_count": null,
       "_view_module": "@jupyter-widgets/base",
       "_view_module_version": "1.2.0",
       "_view_name": "LayoutView",
       "align_content": null,
       "align_items": null,
       "align_self": null,
       "border": null,
       "bottom": null,
       "display": null,
       "flex": null,
       "flex_flow": null,
       "grid_area": null,
       "grid_auto_columns": null,
       "grid_auto_flow": null,
       "grid_auto_rows": null,
       "grid_column": null,
       "grid_gap": null,
       "grid_row": null,
       "grid_template_areas": null,
       "grid_template_columns": null,
       "grid_template_rows": null,
       "height": null,
       "justify_content": null,
       "justify_items": null,
       "left": null,
       "margin": null,
       "max_height": null,
       "max_width": null,
       "min_height": null,
       "min_width": null,
       "object_fit": null,
       "object_position": null,
       "order": null,
       "overflow": null,
       "overflow_x": null,
       "overflow_y": null,
       "padding": null,
       "right": null,
       "top": null,
       "visibility": null,
       "width": null
      }
     },
     "fb30560704314355983da7f42a6b4228": {
      "model_module": "@jupyter-widgets/controls",
      "model_module_version": "1.5.0",
      "model_name": "HTMLModel",
      "state": {
       "_dom_classes": [],
       "_model_module": "@jupyter-widgets/controls",
       "_model_module_version": "1.5.0",
       "_model_name": "HTMLModel",
       "_view_count": null,
       "_view_module": "@jupyter-widgets/controls",
       "_view_module_version": "1.5.0",
       "_view_name": "HTMLView",
       "description": "",
       "description_tooltip": null,
       "layout": "IPY_MODEL_ba591d1258504d329b7bc0e32a4d8fcc",
       "placeholder": "​",
       "style": "IPY_MODEL_e5b4125d9bc34867af4a6b868f0c253c",
       "value": " 49.0/49.0 [00:00&lt;00:00, 4.19kB/s]"
      }
     }
    },
    "version_major": 2,
    "version_minor": 0
   }
  }
 },
 "nbformat": 4,
 "nbformat_minor": 5
}
